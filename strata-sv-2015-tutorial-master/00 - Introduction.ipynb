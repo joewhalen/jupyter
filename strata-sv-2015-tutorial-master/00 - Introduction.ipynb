{
 "metadata": {
  "kernelspec": {
   "display_name": "Python 2",
   "language": "python",
   "name": "python2"
  },
  "language_info": {
   "codemirror_mode": {
    "name": "ipython",
    "version": 2
   },
   "file_extension": ".py",
   "mimetype": "text/x-python",
   "name": "python",
   "nbconvert_exporter": "python",
   "pygments_lexer": "ipython2",
   "version": "2.7.6"
  },
  "name": "",
  "signature": "sha256:1d47aaff4e9beffc4718716ecfbe491e08cd50c5598eb9aae38851e9c2150bee"
 },
 "nbformat": 3,
 "nbformat_minor": 0,
 "worksheets": [
  {
   "cells": [
    {
     "cell_type": "heading",
     "level": 1,
     "metadata": {
      "slideshow": {
       "slide_type": "slide"
      }
     },
     "source": [
      "What is the IPython Notebook?"
     ]
    },
    {
     "cell_type": "heading",
     "level": 2,
     "metadata": {},
     "source": [
      "Introduction"
     ]
    },
    {
     "cell_type": "markdown",
     "metadata": {},
     "source": [
      "The IPython Notebook is an **interactive computing environment** that enables users to author notebook documents that include: \n",
      "- Live code\n",
      "- Interactive widgets\n",
      "- Plots\n",
      "- Narrative text\n",
      "- Equations\n",
      "- Images\n",
      "- Video\n",
      "\n",
      "These documents provide a **complete and self-contained record of a computation** that can be converted to various formats and shared with others using email, [Dropbox](http://dropbox.com), version control systems (like git/[GitHub](http://github.com)) or [nbviewer.ipython.org](http://nbviewer.ipython.org)."
     ]
    },
    {
     "cell_type": "heading",
     "level": 3,
     "metadata": {
      "slideshow": {
       "slide_type": "slide"
      }
     },
     "source": [
      "Components"
     ]
    },
    {
     "cell_type": "markdown",
     "metadata": {},
     "source": [
      "The IPython Notebook combines three components:\n",
      "\n",
      "* **The notebook web application**: An interactive web application for writing and running code interactively and authoring notebook documents.\n",
      "* **Kernels**: Separate processes started by the notebook web application that runs users' code in a given language and returns output back to the notebook web application. The kernel also handles things like computations for interactive widgets, tab completion and introspection. \n",
      "* **Notebook documents**: Self-contained documents that contain a representation of all content visible in the notebook web application, including inputs and outputs of the computations, narrative\n",
      "text, equations, images, and rich media representations of objects. Each notebook document has its own kernel."
     ]
    },
    {
     "cell_type": "heading",
     "level": 2,
     "metadata": {
      "slideshow": {
       "slide_type": "slide"
      }
     },
     "source": [
      "Notebook web application"
     ]
    },
    {
     "cell_type": "markdown",
     "metadata": {},
     "source": [
      "The notebook web application enables users to:\n",
      "\n",
      "* **Edit code in the browser**, with automatic syntax highlighting, indentation, and tab completion/introspection.\n",
      "* **Run code from the browser**, with the results of computations attached to the code which generated them.\n",
      "* See the results of computations with **rich media representations**, such as HTML, LaTeX, PNG, SVG, PDF, etc.\n",
      "* Create and use **interactive JavaScript wigets**, which bind interactive user interface controls and visualizations to reactive kernel side computations.\n",
      "* Author **narrative text** using the [Markdown](https://daringfireball.net/projects/markdown/) markup language.\n",
      "* Build **hierarchical documents** that are organized into sections with different levels of headings.\n",
      "* Include mathematical equations using **LaTeX syntax in Markdown**, which are rendered in-browser by [MathJax](http://www.mathjax.org/).\n",
      "* Start **parallel computing** clusters that work with IPython's interactive parallel computing libraries `IPython.parallel`."
     ]
    },
    {
     "cell_type": "heading",
     "level": 2,
     "metadata": {
      "slideshow": {
       "slide_type": "slide"
      }
     },
     "source": [
      "Kernels"
     ]
    },
    {
     "cell_type": "markdown",
     "metadata": {},
     "source": [
      "Through IPython's kernel and messaging architecture, the Notebook allows code to be run in a range of different programming languages.  For each notebook document that a user opens, the web application starts a kernel that runs the code for that notebook. Each kernel is capable of running code in a single programming language and there are kernels available in the following languages:\n",
      "\n",
      "* Python(https://github.com/ipython/ipython)\n",
      "* Julia (https://github.com/JuliaLang/IJulia.jl)\n",
      "* R (https://github.com/takluyver/IRkernel)\n",
      "* Ruby (https://github.com/minrk/iruby)\n",
      "* Haskell (https://github.com/gibiansky/IHaskell)\n",
      "* Scala (https://github.com/Bridgewater/scala-notebook)\n",
      "* node.js (https://gist.github.com/Carreau/4279371)\n",
      "* Go (https://github.com/takluyver/igo)\n",
      "\n",
      "The default kernel runs Python code. When it is released in the Summer/Fall of 2014, IPython 3.0 will provide a simple way for users to pick which of these kernels is used for a given notebook. \n",
      "\n",
      "Each of these kernels communicate with the notebook web application and web browser using a JSON over ZeroMQ/WebSockets message protocol that is described [here](http://ipython.org/ipython-doc/dev/development/messaging.html). Most users don't need to know about these details, but it helps to understand that \"kernels run code.\""
     ]
    },
    {
     "cell_type": "heading",
     "level": 2,
     "metadata": {
      "slideshow": {
       "slide_type": "slide"
      }
     },
     "source": [
      "Notebook documents"
     ]
    },
    {
     "cell_type": "markdown",
     "metadata": {},
     "source": [
      "Notebook documents contain the **inputs and outputs** of an interactive session as well as **narrative text** that accompanies the code but is not meant for execution. **Rich output** generated by running code, including HTML, images, video, and plots, is embeddeed in the notebook, which makes it a complete and self-contained record of a computation. "
     ]
    },
    {
     "cell_type": "markdown",
     "metadata": {},
     "source": [
      "When you run the notebook web application on your computer, notebook documents are just **files on your local filesystem with a `.ipynb` extension**. This allows you to use familiar workflows for organizing your notebooks into folders and sharing them with others using email, Dropbox and version control systems."
     ]
    },
    {
     "cell_type": "markdown",
     "metadata": {},
     "source": [
      "Notebooks consist of a **linear sequence of cells**. There are four basic cell types:\n",
      "\n",
      "* **Code cells:** Input and output of live code that is run in the kernel\n",
      "* **Markdown cells:** Narrative text with embedded LaTeX equations\n",
      "* **Heading cells:** 6 levels of hierarchical organization and formatting\n",
      "* **Raw cells:** Unformatted text that is included, without modification, when notebooks are converted to different formats using nbconvert\n",
      "\n",
      "Internally, notebook documents are **[JSON](http://en.wikipedia.org/wiki/JSO) data** with **binary values [base64]**(http://en.wikipedia.org/wiki/Base64) encoded. This allows them to be **read and manipulated programmatically** by any programming language. Because JSON is a text format, notebook documents are version control friendly.\n",
      "\n",
      "**Notebooks can be exported** to different static formats including HTML, reStructeredText, LaTeX, PDF, and slide shows ([reveal.js](http://lab.hakim.se/reveal-js/#/)) using IPython's `nbconvert` utility.\n",
      "\n",
      "Furthermore, any notebook document available from a **public URL on or GitHub can be shared** via http://nbviewer.ipython.org. This service loads the notebook document from the URL and renders it as a static web page. The resulting web page may thus be shared with others **without their needing to install IPython**."
     ]
    },
    {
     "cell_type": "heading",
     "level": 1,
     "metadata": {},
     "source": [
      "Notebook Basics"
     ]
    },
    {
     "cell_type": "markdown",
     "metadata": {},
     "source": [
      "This notebook assumes that you already have IPython [installed](http://ipython.org/install.html) and are able to start the notebook server by running:\n",
      "\n",
      "    ipython notebook\n",
      "\n",
      "For more details on how to run the notebook server, see [Running the Notebook Server](Running the Notebook Server.ipynb)."
     ]
    },
    {
     "cell_type": "heading",
     "level": 2,
     "metadata": {},
     "source": [
      "The Notebook dashboard"
     ]
    },
    {
     "cell_type": "markdown",
     "metadata": {},
     "source": [
      "When you first start the notebook server, your browser will open to the notebook dashboard. The dashboard serves as a home page for the notebook. Its main purpose is to display the notebooks in the current directory. For example, here is a screenshot of the dashboard page for the `examples` directory in the IPython repository:\n",
      "\n",
      "<img src=\"dashboard_notebooks_tab.png\" />\n",
      "\n",
      "The top of the notebook list displays clickable **breadcrumbs** of the current directory. By clicking on these breadcrumbs or on sub-directories in the notebook list, you can navigate your file system.\n",
      "\n",
      "To create a new notebook, click on the **\"New Notebook\"** button at the top of the list.\n",
      "\n",
      "Notebooks can be uploaded to the current directory by **dragging a notebook file onto the notebook list** or by the **\"click here\"** text above the list.\n",
      "\n",
      "The notebook list shows a **red \"Shutdown\" button for running notebooks** and **a \"Delete\" button for stopped notebooks**. Notebook remain running until you explicitly click the \"Shutdown\" button; closing the notebook's page is not sufficient.\n",
      "\n",
      "To see all of your running notebooks along with their directories, click on the \"Running\" tab:\n",
      "\n",
      "<img src=\"dashboard_running_tab.png\" />\n",
      "\n",
      "This view provides a convenient way to track notebooks that you start as you navigate the file system in a long running notebook server."
     ]
    },
    {
     "cell_type": "heading",
     "level": 2,
     "metadata": {},
     "source": [
      "Overview of the Notebook UI"
     ]
    },
    {
     "cell_type": "markdown",
     "metadata": {},
     "source": [
      "If you create a new notebook or open an existing one, you will be taken to the notebook user interface (UI). This UI allows you to run code and author notebook documents interactively. The notebook UI has the following main areas:\n",
      "\n",
      "* Menu\n",
      "* Toolbar\n",
      "* Notebook area and cells\n",
      "\n",
      "IPython 2.0+ has an interactive tour of these elements that can be started in the \"Help:User Interface Tour\" menu item."
     ]
    },
    {
     "cell_type": "heading",
     "level": 2,
     "metadata": {},
     "source": [
      "Modal editor"
     ]
    },
    {
     "cell_type": "markdown",
     "metadata": {},
     "source": [
      "Starting with IPython 2.0, the IPython Notebook has a modal user interface. This means that the **keyboard does different things depending on which mode the Notebook is in**. There are two modes: edit mode and command mode."
     ]
    },
    {
     "cell_type": "heading",
     "level": 3,
     "metadata": {},
     "source": [
      "Edit mode"
     ]
    },
    {
     "cell_type": "markdown",
     "metadata": {},
     "source": [
      "Edit mode is indicated by a green cell border and a prompt showing in the editor area:\n",
      "\n",
      "<img src=\"edit_mode.png\">\n",
      "\n",
      "When a cell is in edit mode, you can type into the cell, like a normal text editor."
     ]
    },
    {
     "cell_type": "markdown",
     "metadata": {},
     "source": [
      "<div class=\"alert alert-success\">\n",
      "Enter edit mode by pressing `Enter` or using the mouse to click on a cell's editor area.\n",
      "</div>"
     ]
    },
    {
     "cell_type": "heading",
     "level": 3,
     "metadata": {},
     "source": [
      "Command mode"
     ]
    },
    {
     "cell_type": "markdown",
     "metadata": {},
     "source": [
      "Command mode is indicated by a grey cell border:\n",
      "\n",
      "<img src=\"command_mode.png\">\n",
      "\n",
      "When you are in command mode, you are able to edit the notebook as a whole, but not type into individual cells. Most importantly, in command mode, the keyboard is mapped to a set of shortcuts that let you perform notebook and cell actions efficiently. For example, if you are in command mode and you press `c`, you will copy the current cell - no modifier is needed."
     ]
    },
    {
     "cell_type": "markdown",
     "metadata": {},
     "source": [
      "<div class=\"alert alert-error\">\n",
      "Don't try to type into a cell in command mode; unexpected things will happen!\n",
      "</div>"
     ]
    },
    {
     "cell_type": "markdown",
     "metadata": {},
     "source": [
      "<div class=\"alert alert-success\">\n",
      "Enter command mode by pressing `Esc` or using the mouse to click *outside* a cell's editor area.\n",
      "</div>"
     ]
    },
    {
     "cell_type": "heading",
     "level": 2,
     "metadata": {},
     "source": [
      "Mouse navigation"
     ]
    },
    {
     "cell_type": "markdown",
     "metadata": {},
     "source": [
      "All navigation and actions in the Notebook are available using the mouse through the menubar and toolbar, which are both above the main Notebook area:\n",
      "\n",
      "<img src=\"menubar_toolbar.png\">"
     ]
    },
    {
     "cell_type": "markdown",
     "metadata": {},
     "source": [
      "The first idea of mouse based navigation is that **cells can be selected by clicking on them.** The currently selected cell gets a grey or green border depending on whether the notebook is in edit or command mode. If you click inside a cell's editor area, you will enter edit mode. If you click on the prompt or output area of a cell you will enter command mode.\n",
      "\n",
      "If you are running this notebook in a live session (not on http://nbviewer.ipython.org) try selecting different cells and going between edit and command mode. Try typing into a cell."
     ]
    },
    {
     "cell_type": "markdown",
     "metadata": {},
     "source": [
      "The second idea of mouse based navigation is that **cell actions usually apply to the currently selected cell**. Thus if you want to run the code in a cell, you would select it and click the <button class='btn btn-default btn-xs'><i class=\"fa fa-play icon-play\"></i></button> button in the toolbar or the \"Cell:Run\" menu item. Similarly, to copy a cell you would select it and click the <button class='btn btn-default btn-xs'><i class=\"fa fa-copy icon-copy\"></i></button> button in the toolbar or the \"Edit:Copy\" menu item. With this simple pattern, you should be able to do most everything you need with the mouse.\n",
      "\n",
      "Markdown and heading cells have one other state that can be modified with the mouse. These cells can either be rendered or unrendered. When they are rendered, you will see a nice formatted representation of the cell's contents. When they are unrendered, you will see the raw text source of the cell. To render the selected cell with the mouse, click the <button class='btn btn-default btn-xs'><i class=\"fa fa-play icon-play\"></i></button> button in the toolbar or the \"Cell:Run\" menu item. To unrender the selected cell, double click on the cell."
     ]
    },
    {
     "cell_type": "heading",
     "level": 2,
     "metadata": {},
     "source": [
      "Keyboard Navigation"
     ]
    },
    {
     "cell_type": "markdown",
     "metadata": {},
     "source": [
      "The modal user interface of the IPython Notebook has been optimized for efficient keyboard usage. This is made possible by having two different sets of keyboard shortcuts: one set that is active in edit mode and another in command mode.\n",
      "\n",
      "The most important keyboard shortcuts are `Enter`, which enters edit mode, and `Esc`, which enters command mode.\n",
      "\n",
      "In edit mode, most of the keyboard is dedicated to typing into the cell's editor. Thus, in edit mode there are relatively few shortcuts:\n",
      "\n",
      "<img src=\"edit_shortcuts.png\">"
     ]
    },
    {
     "cell_type": "markdown",
     "metadata": {},
     "source": [
      "In command mode, the entire keyboard is available for shortcuts, so there are many more:\n",
      "\n",
      "<img src=\"command_shortcuts.png\">"
     ]
    },
    {
     "cell_type": "markdown",
     "metadata": {},
     "source": [
      "We recommend learning the command mode shortcuts in the following rough order:\n",
      "\n",
      "1. Basic navigation: `enter`, `shift-enter`, `up/k`, `down/j`\n",
      "2. Saving the notebook: `s`\n",
      "2. Cell types: `y`, `m`, `1-6`, `t`\n",
      "3. Cell creation and movement: `a`, `b`, `ctrl+k`, `ctrl+j`\n",
      "4. Cell editing: `x`, `c`, `v`, `d`, `z`, `shift+=`\n",
      "5. Kernel operations: `i`, `.`"
     ]
    },
    {
     "cell_type": "heading",
     "level": 1,
     "metadata": {},
     "source": [
      "Exercises"
     ]
    },
    {
     "cell_type": "markdown",
     "metadata": {},
     "source": [
      "- Create a new Notebook and create a couple of cells that contain simple Python expressions, like print statements.\n",
      "- Practice shifting between command and edit mode a few times, going back to edit existing cells.  \n",
      "- Try using `time.sleep(2)` and watch the kernel activity indicator.  "
     ]
    }
   ],
   "metadata": {}
  }
 ]
}