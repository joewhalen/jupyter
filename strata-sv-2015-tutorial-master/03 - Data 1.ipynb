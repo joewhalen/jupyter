{
 "metadata": {
  "kernelspec": {
   "display_name": "Python 2",
   "language": "python",
   "name": "python2"
  },
  "language_info": {
   "codemirror_mode": {
    "name": "ipython",
    "version": 2
   },
   "file_extension": ".py",
   "mimetype": "text/x-python",
   "name": "python",
   "nbconvert_exporter": "python",
   "pygments_lexer": "ipython2",
   "version": "2.7.6"
  },
  "name": "",
  "signature": "sha256:ed9ffa3dbf1e48bbe8b2834405c295cee4f6be9fd639b60454489ac345511916"
 },
 "nbformat": 3,
 "nbformat_minor": 0,
 "worksheets": [
  {
   "cells": [
    {
     "cell_type": "heading",
     "level": 1,
     "metadata": {},
     "source": [
      "SF Purchases Example"
     ]
    },
    {
     "cell_type": "markdown",
     "metadata": {},
     "source": [
      "In this example, interact is used to build a UI for exploring [San Francisco department purchases by city agency](https://data.sfgov.org/Economy-and-Community/Delegated-Departmental-Purchases-by-City-Agency-Pr/4q92-gm9f) data."
     ]
    },
    {
     "cell_type": "code",
     "collapsed": false,
     "input": [
      "# Import Pandas and then load the data.\n",
      "from pandas import read_csv\n",
      "df = read_csv('SFDeptPurchases.csv')"
     ],
     "language": "python",
     "metadata": {},
     "outputs": []
    },
    {
     "cell_type": "markdown",
     "metadata": {},
     "source": [
      "You can take a quick look at the first 5 rows of the data set using a slice.  Pandas knows how to display this as a table in IPython."
     ]
    },
    {
     "cell_type": "code",
     "collapsed": false,
     "input": [
      "df[:5]"
     ],
     "language": "python",
     "metadata": {},
     "outputs": []
    },
    {
     "cell_type": "markdown",
     "metadata": {},
     "source": [
      "Notice that the totals are of type object (strings) instead of numbers."
     ]
    },
    {
     "cell_type": "code",
     "collapsed": false,
     "input": [
      "df[:5]['Total']"
     ],
     "language": "python",
     "metadata": {},
     "outputs": []
    },
    {
     "cell_type": "markdown",
     "metadata": {},
     "source": [
      "Remove the dollar sign from the strings and cast them to numbers."
     ]
    },
    {
     "cell_type": "code",
     "collapsed": false,
     "input": [
      "df['Total'] = df['Total'].str.replace(r'[$,]', '').convert_objects(convert_numeric=True)"
     ],
     "language": "python",
     "metadata": {},
     "outputs": []
    },
    {
     "cell_type": "code",
     "collapsed": false,
     "input": [
      "df[:5]['Total']"
     ],
     "language": "python",
     "metadata": {
      "scrolled": true
     },
     "outputs": []
    },
    {
     "cell_type": "markdown",
     "metadata": {},
     "source": [
      "Now the data can be explored using matplotlib and interact.  The following function plots the costs of the selected parameter type."
     ]
    },
    {
     "cell_type": "code",
     "collapsed": false,
     "input": [
      "%matplotlib inline\n",
      "from matplotlib import pyplot as plt\n",
      "from pandas import DataFrame\n",
      "\n",
      "def plot_by(df, column='Dept Name', count=10, ascending=False):\n",
      "    \n",
      "    # Group the data by the column specified and sum the totals.\n",
      "    data = df.groupby(column)['Total'].sum().dropna()\n",
      "    \n",
      "    # Sort the data.\n",
      "    data = DataFrame(data, columns=['Total']).sort('Total', ascending=ascending)\n",
      "    \n",
      "    # Plot the subset of the sorted data that the user is interested in.\n",
      "    data = data[:count].plot(kind='bar')\n",
      "    \n",
      "    # Plot settings.\n",
      "    plt.title('%s Costs' % column)\n",
      "    plt.ylabel('Cost ($)')"
     ],
     "language": "python",
     "metadata": {},
     "outputs": []
    },
    {
     "cell_type": "code",
     "collapsed": false,
     "input": [
      "from IPython.html.widgets import interact, fixed\n",
      "interact(plot_by, df=fixed(df), column=df.columns.tolist(), count=(5,15));"
     ],
     "language": "python",
     "metadata": {},
     "outputs": []
    }
   ],
   "metadata": {}
  }
 ]
}