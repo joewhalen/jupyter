{
 "metadata": {
  "kernelspec": {
   "codemirror_mode": {
    "name": "ipython",
    "version": 2
   },
   "display_name": "IPython (Python 2)",
   "language": "python",
   "name": "python2"
  },
  "name": "",
  "signature": "sha256:6adddd62fb3eeba6c5ced131682e9ae285f4be78d09652a1a407b7b26f995fcb"
 },
 "nbformat": 3,
 "nbformat_minor": 0,
 "worksheets": [
  {
   "cells": [
    {
     "cell_type": "markdown",
     "metadata": {},
     "source": [
      "# NumPy: Numerical Arrays for Python"
     ]
    },
    {
     "cell_type": "markdown",
     "metadata": {},
     "source": [
      "**Learning Objectives:** Learn how to create, transform and visualize multidimensional data of a single type using Numpy. \n",
      "\n",
      "NumPy is the foundation for scientific computing and data science in Python.\n",
      "\n",
      "* Any number of dimensions\n",
      "* All elements of an array have the same data type\n",
      "* Array elements are usually native data dtype\n",
      "* The memory for an array is a contiguous block that can be easily passed to other numerical libraries (BLAS, LAPACK, etc.).\n",
      "* Most of NumPy is implemented in C, so it is fast\n",
      "\n",
      "**NumPy arrays are the foundational data type that the entire Python numerical computing stack is built upon**"
     ]
    },
    {
     "cell_type": "markdown",
     "metadata": {},
     "source": [
      "## Plotting"
     ]
    },
    {
     "cell_type": "markdown",
     "metadata": {},
     "source": [
      "While this notebook doesn't focus on plotting, matplotlib will be used to make a few basic plots."
     ]
    },
    {
     "cell_type": "code",
     "collapsed": false,
     "input": [
      "%matplotlib inline\n",
      "from matplotlib import pyplot as plt\n",
      "plt.style.use('ggplot')"
     ],
     "language": "python",
     "metadata": {},
     "outputs": [],
     "prompt_number": 1
    },
    {
     "cell_type": "markdown",
     "metadata": {},
     "source": [
      "## Multidimensional array type"
     ]
    },
    {
     "cell_type": "code",
     "collapsed": false,
     "input": [
      "import numpy as np\n",
      "import vizarray as vz"
     ],
     "language": "python",
     "metadata": {},
     "outputs": [],
     "prompt_number": 2
    },
    {
     "cell_type": "code",
     "collapsed": false,
     "input": [
      "data = [0,2,4,6]\n",
      "a = np.array(data)"
     ],
     "language": "python",
     "metadata": {},
     "outputs": [],
     "prompt_number": 3
    },
    {
     "cell_type": "code",
     "collapsed": false,
     "input": [
      "type(a)"
     ],
     "language": "python",
     "metadata": {},
     "outputs": [
      {
       "metadata": {},
       "output_type": "pyout",
       "prompt_number": 4,
       "text": [
        "numpy.ndarray"
       ]
      }
     ],
     "prompt_number": 4
    },
    {
     "cell_type": "code",
     "collapsed": false,
     "input": [
      "a"
     ],
     "language": "python",
     "metadata": {},
     "outputs": [
      {
       "metadata": {},
       "output_type": "pyout",
       "prompt_number": 5,
       "text": [
        "array([0, 2, 4, 6])"
       ]
      }
     ],
     "prompt_number": 5
    },
    {
     "cell_type": "code",
     "collapsed": false,
     "input": [
      "vz.vizarray(a)"
     ],
     "language": "python",
     "metadata": {},
     "outputs": [
      {
       "html": [
        "<style type=\"text/css\">table.blockgrid {border: none;} .blockgrid tr {border: none;} .blockgrid td {padding: 0px;} #blocks2db1319d-59a6-472e-8e01-074901b7f08b td {border: 1px solid white;}</style><table id=\"blocks2db1319d-59a6-472e-8e01-074901b7f08b\" class=\"blockgrid\"><tbody><tr><td title=\"Index: [0, 0]&#10;Color: (0, 0, 128)\" style=\"width: 30px; height: 30px;background-color: rgb(0, 0, 128);\"></td><td title=\"Index: [0, 1]&#10;Color: (0, 213, 255)\" style=\"width: 30px; height: 30px;background-color: rgb(0, 213, 255);\"></td><td title=\"Index: [0, 2]&#10;Color: (255, 230, 0)\" style=\"width: 30px; height: 30px;background-color: rgb(255, 230, 0);\"></td><td title=\"Index: [0, 3]&#10;Color: (128, 0, 0)\" style=\"width: 30px; height: 30px;background-color: rgb(128, 0, 0);\"></td></tr></tbody></table>"
       ],
       "metadata": {},
       "output_type": "pyout",
       "prompt_number": 6,
       "text": [
        "<ipythonblocks.ipythonblocks.BlockGrid at 0x107dff510>"
       ]
      }
     ],
     "prompt_number": 6
    },
    {
     "cell_type": "code",
     "collapsed": false,
     "input": [
      "a.shape"
     ],
     "language": "python",
     "metadata": {},
     "outputs": [
      {
       "metadata": {},
       "output_type": "pyout",
       "prompt_number": 7,
       "text": [
        "(4,)"
       ]
      }
     ],
     "prompt_number": 7
    },
    {
     "cell_type": "code",
     "collapsed": false,
     "input": [
      "a.ndim"
     ],
     "language": "python",
     "metadata": {},
     "outputs": [
      {
       "metadata": {},
       "output_type": "pyout",
       "prompt_number": 8,
       "text": [
        "1"
       ]
      }
     ],
     "prompt_number": 8
    },
    {
     "cell_type": "code",
     "collapsed": false,
     "input": [
      "a.size"
     ],
     "language": "python",
     "metadata": {},
     "outputs": [
      {
       "metadata": {},
       "output_type": "pyout",
       "prompt_number": 9,
       "text": [
        "4"
       ]
      }
     ],
     "prompt_number": 9
    },
    {
     "cell_type": "code",
     "collapsed": false,
     "input": [
      "a.nbytes"
     ],
     "language": "python",
     "metadata": {},
     "outputs": [
      {
       "metadata": {},
       "output_type": "pyout",
       "prompt_number": 10,
       "text": [
        "32"
       ]
      }
     ],
     "prompt_number": 10
    },
    {
     "cell_type": "code",
     "collapsed": false,
     "input": [
      "a.dtype"
     ],
     "language": "python",
     "metadata": {},
     "outputs": [
      {
       "metadata": {},
       "output_type": "pyout",
       "prompt_number": 11,
       "text": [
        "dtype('int64')"
       ]
      }
     ],
     "prompt_number": 11
    },
    {
     "cell_type": "markdown",
     "metadata": {},
     "source": [
      "## Creating arrays"
     ]
    },
    {
     "cell_type": "code",
     "collapsed": false,
     "input": [
      "data = [[0.0,2.0,4.0,6.0],[1.0,3.0,5.0,7.0]]\n",
      "b = np.array(data)"
     ],
     "language": "python",
     "metadata": {},
     "outputs": [],
     "prompt_number": 12
    },
    {
     "cell_type": "code",
     "collapsed": false,
     "input": [
      "b"
     ],
     "language": "python",
     "metadata": {},
     "outputs": [
      {
       "metadata": {},
       "output_type": "pyout",
       "prompt_number": 13,
       "text": [
        "array([[ 0.,  2.,  4.,  6.],\n",
        "       [ 1.,  3.,  5.,  7.]])"
       ]
      }
     ],
     "prompt_number": 13
    },
    {
     "cell_type": "code",
     "collapsed": false,
     "input": [
      "vz.vizarray(b)"
     ],
     "language": "python",
     "metadata": {},
     "outputs": [
      {
       "html": [
        "<style type=\"text/css\">table.blockgrid {border: none;} .blockgrid tr {border: none;} .blockgrid td {padding: 0px;} #blocks8d91f44b-06ef-43a3-8670-d2fdabebeaba td {border: 1px solid white;}</style><table id=\"blocks8d91f44b-06ef-43a3-8670-d2fdabebeaba\" class=\"blockgrid\"><tbody><tr><td title=\"Index: [0, 0]&#10;Color: (0, 0, 128)\" style=\"width: 30px; height: 30px;background-color: rgb(0, 0, 128);\"></td><td title=\"Index: [0, 1]&#10;Color: (0, 165, 255)\" style=\"width: 30px; height: 30px;background-color: rgb(0, 165, 255);\"></td><td title=\"Index: [0, 2]&#10;Color: (183, 255, 64)\" style=\"width: 30px; height: 30px;background-color: rgb(183, 255, 64);\"></td><td title=\"Index: [0, 3]&#10;Color: (255, 48, 0)\" style=\"width: 30px; height: 30px;background-color: rgb(255, 48, 0);\"></td></tr><tr><td title=\"Index: [1, 0]&#10;Color: (0, 17, 255)\" style=\"width: 30px; height: 30px;background-color: rgb(0, 17, 255);\"></td><td title=\"Index: [1, 1]&#10;Color: (64, 255, 183)\" style=\"width: 30px; height: 30px;background-color: rgb(64, 255, 183);\"></td><td title=\"Index: [1, 2]&#10;Color: (255, 185, 0)\" style=\"width: 30px; height: 30px;background-color: rgb(255, 185, 0);\"></td><td title=\"Index: [1, 3]&#10;Color: (128, 0, 0)\" style=\"width: 30px; height: 30px;background-color: rgb(128, 0, 0);\"></td></tr></tbody></table>"
       ],
       "metadata": {},
       "output_type": "pyout",
       "prompt_number": 14,
       "text": [
        "<ipythonblocks.ipythonblocks.BlockGrid at 0x105187110>"
       ]
      }
     ],
     "prompt_number": 14
    },
    {
     "cell_type": "code",
     "collapsed": false,
     "input": [
      "b.shape, b.ndim, b.size, b.nbytes"
     ],
     "language": "python",
     "metadata": {},
     "outputs": [
      {
       "metadata": {},
       "output_type": "pyout",
       "prompt_number": 15,
       "text": [
        "((2, 4), 2, 8, 64)"
       ]
      }
     ],
     "prompt_number": 15
    },
    {
     "cell_type": "code",
     "collapsed": false,
     "input": [
      "c = np.arange(0.0, 10.0, 1.0) # Step size of 1.0\n",
      "c"
     ],
     "language": "python",
     "metadata": {},
     "outputs": [
      {
       "metadata": {},
       "output_type": "pyout",
       "prompt_number": 16,
       "text": [
        "array([ 0.,  1.,  2.,  3.,  4.,  5.,  6.,  7.,  8.,  9.])"
       ]
      }
     ],
     "prompt_number": 16
    },
    {
     "cell_type": "code",
     "collapsed": false,
     "input": [
      "e = np.linspace(0.0, 5.0, 11) # 11 points\n",
      "e"
     ],
     "language": "python",
     "metadata": {},
     "outputs": [
      {
       "metadata": {},
       "output_type": "pyout",
       "prompt_number": 17,
       "text": [
        "array([ 0. ,  0.5,  1. ,  1.5,  2. ,  2.5,  3. ,  3.5,  4. ,  4.5,  5. ])"
       ]
      }
     ],
     "prompt_number": 17
    },
    {
     "cell_type": "code",
     "collapsed": false,
     "input": [
      "np.empty((4,4))"
     ],
     "language": "python",
     "metadata": {},
     "outputs": [
      {
       "metadata": {},
       "output_type": "pyout",
       "prompt_number": 18,
       "text": [
        "array([[ -2.68156159e+154,  -2.68156159e+154,   2.18723965e-314,\n",
        "          2.18725447e-314],\n",
        "       [  2.18725561e-314,   2.18725518e-314,   2.18725476e-314,\n",
        "          2.18725457e-314],\n",
        "       [  2.18725442e-314,   2.18725490e-314,   2.18725433e-314,\n",
        "          0.00000000e+000],\n",
        "       [ -2.68156159e+154,  -3.10503637e+231,   9.88131292e-324,\n",
        "          1.11253912e-308]])"
       ]
      }
     ],
     "prompt_number": 18
    },
    {
     "cell_type": "code",
     "collapsed": false,
     "input": [
      "np.zeros((3,3))"
     ],
     "language": "python",
     "metadata": {},
     "outputs": [
      {
       "metadata": {},
       "output_type": "pyout",
       "prompt_number": 19,
       "text": [
        "array([[ 0.,  0.,  0.],\n",
        "       [ 0.,  0.,  0.],\n",
        "       [ 0.,  0.,  0.]])"
       ]
      }
     ],
     "prompt_number": 19
    },
    {
     "cell_type": "code",
     "collapsed": false,
     "input": [
      "np.ones((3,3))"
     ],
     "language": "python",
     "metadata": {},
     "outputs": [
      {
       "metadata": {},
       "output_type": "pyout",
       "prompt_number": 20,
       "text": [
        "array([[ 1.,  1.,  1.],\n",
        "       [ 1.,  1.,  1.],\n",
        "       [ 1.,  1.,  1.]])"
       ]
      }
     ],
     "prompt_number": 20
    },
    {
     "cell_type": "markdown",
     "metadata": {},
     "source": [
      "See also:\n",
      "\n",
      "* `empty_like`, `ones_like`, `zeros_like`\n",
      "* `eye`, `identity`"
     ]
    },
    {
     "cell_type": "markdown",
     "metadata": {},
     "source": [
      "## dtype"
     ]
    },
    {
     "cell_type": "markdown",
     "metadata": {},
     "source": [
      "Arrays have a `dtype` attribute that encapsulates the data type of each element. It can be set:\n",
      "\n",
      "* Implicitely by the element type\n",
      "* By passing the `dtype` argument to an array creation function"
     ]
    },
    {
     "cell_type": "code",
     "collapsed": false,
     "input": [
      "a = np.array([0,1,2,3])"
     ],
     "language": "python",
     "metadata": {},
     "outputs": [],
     "prompt_number": 21
    },
    {
     "cell_type": "code",
     "collapsed": false,
     "input": [
      "a, a.dtype"
     ],
     "language": "python",
     "metadata": {},
     "outputs": [
      {
       "metadata": {},
       "output_type": "pyout",
       "prompt_number": 22,
       "text": [
        "(array([0, 1, 2, 3]), dtype('int64'))"
       ]
      }
     ],
     "prompt_number": 22
    },
    {
     "cell_type": "markdown",
     "metadata": {},
     "source": [
      "All array creation functions accept an optional `dtype` argument:"
     ]
    },
    {
     "cell_type": "code",
     "collapsed": false,
     "input": [
      "b = np.zeros((2,2), dtype=np.complex64)\n",
      "b"
     ],
     "language": "python",
     "metadata": {},
     "outputs": [
      {
       "metadata": {},
       "output_type": "pyout",
       "prompt_number": 23,
       "text": [
        "array([[ 0.+0.j,  0.+0.j],\n",
        "       [ 0.+0.j,  0.+0.j]], dtype=complex64)"
       ]
      }
     ],
     "prompt_number": 23
    },
    {
     "cell_type": "code",
     "collapsed": false,
     "input": [
      "c = np.arange(0, 10, 2, dtype=np.float)\n",
      "c"
     ],
     "language": "python",
     "metadata": {},
     "outputs": [
      {
       "metadata": {},
       "output_type": "pyout",
       "prompt_number": 24,
       "text": [
        "array([ 0.,  2.,  4.,  6.,  8.])"
       ]
      }
     ],
     "prompt_number": 24
    },
    {
     "cell_type": "markdown",
     "metadata": {},
     "source": [
      "You can use the `astype` method to create a copy of the array with a given `dtype`:"
     ]
    },
    {
     "cell_type": "code",
     "collapsed": false,
     "input": [
      "d = c.astype(dtype=np.int)\n",
      "d"
     ],
     "language": "python",
     "metadata": {},
     "outputs": [
      {
       "metadata": {},
       "output_type": "pyout",
       "prompt_number": 25,
       "text": [
        "array([0, 2, 4, 6, 8])"
       ]
      }
     ],
     "prompt_number": 25
    },
    {
     "cell_type": "markdown",
     "metadata": {},
     "source": [
      "IPython's tab completion is useful for exploring the various available `dtypes`:"
     ]
    },
    {
     "cell_type": "code",
     "collapsed": false,
     "input": [
      "np.float*?"
     ],
     "language": "python",
     "metadata": {},
     "outputs": [
      {
       "output_type": "stream",
       "stream": "stdout",
       "text": [
        "np.float\n",
        "np.float128\n",
        "np.float16\n",
        "np.float32\n",
        "np.float64\n",
        "np.float_\n",
        "np.floating\n"
       ]
      }
     ],
     "prompt_number": 26
    },
    {
     "cell_type": "markdown",
     "metadata": {},
     "source": [
      "The NumPy documentation on [dtypes](http://docs.scipy.org/doc/numpy/reference/arrays.dtypes.html) describes the many other ways of specifying dtypes."
     ]
    },
    {
     "cell_type": "markdown",
     "metadata": {},
     "source": [
      "## Array operations"
     ]
    },
    {
     "cell_type": "markdown",
     "metadata": {},
     "source": [
      "Basic mathematical operations are **elementwise** for:\n",
      "\n",
      "* Scalars and arrays\n",
      "* Arrays and arrays"
     ]
    },
    {
     "cell_type": "code",
     "collapsed": false,
     "input": [
      "a = np.empty((3,3))\n",
      "a.fill(0.1)\n",
      "a"
     ],
     "language": "python",
     "metadata": {},
     "outputs": [
      {
       "metadata": {},
       "output_type": "pyout",
       "prompt_number": 27,
       "text": [
        "array([[ 0.1,  0.1,  0.1],\n",
        "       [ 0.1,  0.1,  0.1],\n",
        "       [ 0.1,  0.1,  0.1]])"
       ]
      }
     ],
     "prompt_number": 27
    },
    {
     "cell_type": "code",
     "collapsed": false,
     "input": [
      "b = np.ones((3,3))\n",
      "b"
     ],
     "language": "python",
     "metadata": {},
     "outputs": [
      {
       "metadata": {},
       "output_type": "pyout",
       "prompt_number": 28,
       "text": [
        "array([[ 1.,  1.,  1.],\n",
        "       [ 1.,  1.,  1.],\n",
        "       [ 1.,  1.,  1.]])"
       ]
      }
     ],
     "prompt_number": 28
    },
    {
     "cell_type": "code",
     "collapsed": false,
     "input": [
      "a+b"
     ],
     "language": "python",
     "metadata": {},
     "outputs": [
      {
       "metadata": {},
       "output_type": "pyout",
       "prompt_number": 29,
       "text": [
        "array([[ 1.1,  1.1,  1.1],\n",
        "       [ 1.1,  1.1,  1.1],\n",
        "       [ 1.1,  1.1,  1.1]])"
       ]
      }
     ],
     "prompt_number": 29
    },
    {
     "cell_type": "code",
     "collapsed": false,
     "input": [
      "b/a"
     ],
     "language": "python",
     "metadata": {},
     "outputs": [
      {
       "metadata": {},
       "output_type": "pyout",
       "prompt_number": 30,
       "text": [
        "array([[ 10.,  10.,  10.],\n",
        "       [ 10.,  10.,  10.],\n",
        "       [ 10.,  10.,  10.]])"
       ]
      }
     ],
     "prompt_number": 30
    },
    {
     "cell_type": "code",
     "collapsed": false,
     "input": [
      "a**2"
     ],
     "language": "python",
     "metadata": {},
     "outputs": [
      {
       "metadata": {},
       "output_type": "pyout",
       "prompt_number": 31,
       "text": [
        "array([[ 0.01,  0.01,  0.01],\n",
        "       [ 0.01,  0.01,  0.01],\n",
        "       [ 0.01,  0.01,  0.01]])"
       ]
      }
     ],
     "prompt_number": 31
    },
    {
     "cell_type": "code",
     "collapsed": false,
     "input": [
      "np.pi*b"
     ],
     "language": "python",
     "metadata": {},
     "outputs": [
      {
       "metadata": {},
       "output_type": "pyout",
       "prompt_number": 32,
       "text": [
        "array([[ 3.14159265,  3.14159265,  3.14159265],\n",
        "       [ 3.14159265,  3.14159265,  3.14159265],\n",
        "       [ 3.14159265,  3.14159265,  3.14159265]])"
       ]
      }
     ],
     "prompt_number": 32
    },
    {
     "cell_type": "markdown",
     "metadata": {},
     "source": [
      "## Indexing and slicing"
     ]
    },
    {
     "cell_type": "markdown",
     "metadata": {},
     "source": [
      "Indexing and slicing provide an efficient way of getting the values in an array and modifying them."
     ]
    },
    {
     "cell_type": "code",
     "collapsed": false,
     "input": [
      "a = np.random.rand(10,10)"
     ],
     "language": "python",
     "metadata": {},
     "outputs": [],
     "prompt_number": 33
    },
    {
     "cell_type": "markdown",
     "metadata": {},
     "source": [
      "The `enable` function is part of `vizarray` and enables a nice display of arrays:"
     ]
    },
    {
     "cell_type": "code",
     "collapsed": false,
     "input": [
      "vz.enable()"
     ],
     "language": "python",
     "metadata": {},
     "outputs": [],
     "prompt_number": 34
    },
    {
     "cell_type": "code",
     "collapsed": false,
     "input": [
      "a"
     ],
     "language": "python",
     "metadata": {},
     "outputs": [
      {
       "html": [
        "<style type=\"text/css\">table.blockgrid {border: none;} .blockgrid tr {border: none;} .blockgrid td {padding: 0px;} #blocksc1ad677e-c2c5-4ab9-8973-f4aa6d747672 td {border: 1px solid white;}</style><table id=\"blocksc1ad677e-c2c5-4ab9-8973-f4aa6d747672\" class=\"blockgrid\"><tbody><tr><td title=\"Index: [0, 0]&#10;Color: (77, 255, 170)\" style=\"width: 30px; height: 30px;background-color: rgb(77, 255, 170);\"></td><td title=\"Index: [0, 1]&#10;Color: (255, 56, 0)\" style=\"width: 30px; height: 30px;background-color: rgb(255, 56, 0);\"></td><td title=\"Index: [0, 2]&#10;Color: (0, 229, 248)\" style=\"width: 30px; height: 30px;background-color: rgb(0, 229, 248);\"></td><td title=\"Index: [0, 3]&#10;Color: (190, 255, 57)\" style=\"width: 30px; height: 30px;background-color: rgb(190, 255, 57);\"></td><td title=\"Index: [0, 4]&#10;Color: (173, 0, 0)\" style=\"width: 30px; height: 30px;background-color: rgb(173, 0, 0);\"></td><td title=\"Index: [0, 5]&#10;Color: (206, 255, 41)\" style=\"width: 30px; height: 30px;background-color: rgb(206, 255, 41);\"></td><td title=\"Index: [0, 6]&#10;Color: (0, 0, 128)\" style=\"width: 30px; height: 30px;background-color: rgb(0, 0, 128);\"></td><td title=\"Index: [0, 7]&#10;Color: (0, 49, 255)\" style=\"width: 30px; height: 30px;background-color: rgb(0, 49, 255);\"></td><td title=\"Index: [0, 8]&#10;Color: (0, 33, 255)\" style=\"width: 30px; height: 30px;background-color: rgb(0, 33, 255);\"></td><td title=\"Index: [0, 9]&#10;Color: (255, 82, 0)\" style=\"width: 30px; height: 30px;background-color: rgb(255, 82, 0);\"></td></tr><tr><td title=\"Index: [1, 0]&#10;Color: (0, 0, 205)\" style=\"width: 30px; height: 30px;background-color: rgb(0, 0, 205);\"></td><td title=\"Index: [1, 1]&#10;Color: (255, 71, 0)\" style=\"width: 30px; height: 30px;background-color: rgb(255, 71, 0);\"></td><td title=\"Index: [1, 2]&#10;Color: (255, 178, 0)\" style=\"width: 30px; height: 30px;background-color: rgb(255, 178, 0);\"></td><td title=\"Index: [1, 3]&#10;Color: (196, 0, 0)\" style=\"width: 30px; height: 30px;background-color: rgb(196, 0, 0);\"></td><td title=\"Index: [1, 4]&#10;Color: (128, 0, 0)\" style=\"width: 30px; height: 30px;background-color: rgb(128, 0, 0);\"></td><td title=\"Index: [1, 5]&#10;Color: (255, 226, 0)\" style=\"width: 30px; height: 30px;background-color: rgb(255, 226, 0);\"></td><td title=\"Index: [1, 6]&#10;Color: (248, 245, 0)\" style=\"width: 30px; height: 30px;background-color: rgb(248, 245, 0);\"></td><td title=\"Index: [1, 7]&#10;Color: (173, 255, 73)\" style=\"width: 30px; height: 30px;background-color: rgb(173, 255, 73);\"></td><td title=\"Index: [1, 8]&#10;Color: (0, 133, 255)\" style=\"width: 30px; height: 30px;background-color: rgb(0, 133, 255);\"></td><td title=\"Index: [1, 9]&#10;Color: (0, 0, 191)\" style=\"width: 30px; height: 30px;background-color: rgb(0, 0, 191);\"></td></tr><tr><td title=\"Index: [2, 0]&#10;Color: (255, 78, 0)\" style=\"width: 30px; height: 30px;background-color: rgb(255, 78, 0);\"></td><td title=\"Index: [2, 1]&#10;Color: (0, 0, 150)\" style=\"width: 30px; height: 30px;background-color: rgb(0, 0, 150);\"></td><td title=\"Index: [2, 2]&#10;Color: (0, 100, 255)\" style=\"width: 30px; height: 30px;background-color: rgb(0, 100, 255);\"></td><td title=\"Index: [2, 3]&#10;Color: (255, 100, 0)\" style=\"width: 30px; height: 30px;background-color: rgb(255, 100, 0);\"></td><td title=\"Index: [2, 4]&#10;Color: (150, 0, 0)\" style=\"width: 30px; height: 30px;background-color: rgb(150, 0, 0);\"></td><td title=\"Index: [2, 5]&#10;Color: (0, 36, 255)\" style=\"width: 30px; height: 30px;background-color: rgb(0, 36, 255);\"></td><td title=\"Index: [2, 6]&#10;Color: (157, 255, 90)\" style=\"width: 30px; height: 30px;background-color: rgb(157, 255, 90);\"></td><td title=\"Index: [2, 7]&#10;Color: (0, 33, 255)\" style=\"width: 30px; height: 30px;background-color: rgb(0, 33, 255);\"></td><td title=\"Index: [2, 8]&#10;Color: (255, 208, 0)\" style=\"width: 30px; height: 30px;background-color: rgb(255, 208, 0);\"></td><td title=\"Index: [2, 9]&#10;Color: (0, 0, 241)\" style=\"width: 30px; height: 30px;background-color: rgb(0, 0, 241);\"></td></tr><tr><td title=\"Index: [3, 0]&#10;Color: (255, 189, 0)\" style=\"width: 30px; height: 30px;background-color: rgb(255, 189, 0);\"></td><td title=\"Index: [3, 1]&#10;Color: (255, 230, 0)\" style=\"width: 30px; height: 30px;background-color: rgb(255, 230, 0);\"></td><td title=\"Index: [3, 2]&#10;Color: (128, 255, 119)\" style=\"width: 30px; height: 30px;background-color: rgb(128, 255, 119);\"></td><td title=\"Index: [3, 3]&#10;Color: (141, 0, 0)\" style=\"width: 30px; height: 30px;background-color: rgb(141, 0, 0);\"></td><td title=\"Index: [3, 4]&#10;Color: (255, 185, 0)\" style=\"width: 30px; height: 30px;background-color: rgb(255, 185, 0);\"></td><td title=\"Index: [3, 5]&#10;Color: (0, 205, 255)\" style=\"width: 30px; height: 30px;background-color: rgb(0, 205, 255);\"></td><td title=\"Index: [3, 6]&#10;Color: (0, 20, 255)\" style=\"width: 30px; height: 30px;background-color: rgb(0, 20, 255);\"></td><td title=\"Index: [3, 7]&#10;Color: (60, 255, 186)\" style=\"width: 30px; height: 30px;background-color: rgb(60, 255, 186);\"></td><td title=\"Index: [3, 8]&#10;Color: (255, 34, 0)\" style=\"width: 30px; height: 30px;background-color: rgb(255, 34, 0);\"></td><td title=\"Index: [3, 9]&#10;Color: (255, 193, 0)\" style=\"width: 30px; height: 30px;background-color: rgb(255, 193, 0);\"></td></tr><tr><td title=\"Index: [4, 0]&#10;Color: (191, 0, 0)\" style=\"width: 30px; height: 30px;background-color: rgb(191, 0, 0);\"></td><td title=\"Index: [4, 1]&#10;Color: (0, 89, 255)\" style=\"width: 30px; height: 30px;background-color: rgb(0, 89, 255);\"></td><td title=\"Index: [4, 2]&#10;Color: (0, 93, 255)\" style=\"width: 30px; height: 30px;background-color: rgb(0, 93, 255);\"></td><td title=\"Index: [4, 3]&#10;Color: (160, 255, 86)\" style=\"width: 30px; height: 30px;background-color: rgb(160, 255, 86);\"></td><td title=\"Index: [4, 4]&#10;Color: (255, 148, 0)\" style=\"width: 30px; height: 30px;background-color: rgb(255, 148, 0);\"></td><td title=\"Index: [4, 5]&#10;Color: (212, 255, 35)\" style=\"width: 30px; height: 30px;background-color: rgb(212, 255, 35);\"></td><td title=\"Index: [4, 6]&#10;Color: (9, 241, 238)\" style=\"width: 30px; height: 30px;background-color: rgb(9, 241, 238);\"></td><td title=\"Index: [4, 7]&#10;Color: (255, 104, 0)\" style=\"width: 30px; height: 30px;background-color: rgb(255, 104, 0);\"></td><td title=\"Index: [4, 8]&#10;Color: (255, 104, 0)\" style=\"width: 30px; height: 30px;background-color: rgb(255, 104, 0);\"></td><td title=\"Index: [4, 9]&#10;Color: (0, 0, 255)\" style=\"width: 30px; height: 30px;background-color: rgb(0, 0, 255);\"></td></tr><tr><td title=\"Index: [5, 0]&#10;Color: (96, 255, 151)\" style=\"width: 30px; height: 30px;background-color: rgb(96, 255, 151);\"></td><td title=\"Index: [5, 1]&#10;Color: (255, 41, 0)\" style=\"width: 30px; height: 30px;background-color: rgb(255, 41, 0);\"></td><td title=\"Index: [5, 2]&#10;Color: (0, 77, 255)\" style=\"width: 30px; height: 30px;background-color: rgb(0, 77, 255);\"></td><td title=\"Index: [5, 3]&#10;Color: (0, 0, 255)\" style=\"width: 30px; height: 30px;background-color: rgb(0, 0, 255);\"></td><td title=\"Index: [5, 4]&#10;Color: (254, 237, 0)\" style=\"width: 30px; height: 30px;background-color: rgb(254, 237, 0);\"></td><td title=\"Index: [5, 5]&#10;Color: (0, 0, 241)\" style=\"width: 30px; height: 30px;background-color: rgb(0, 0, 241);\"></td><td title=\"Index: [5, 6]&#10;Color: (182, 0, 0)\" style=\"width: 30px; height: 30px;background-color: rgb(182, 0, 0);\"></td><td title=\"Index: [5, 7]&#10;Color: (0, 0, 146)\" style=\"width: 30px; height: 30px;background-color: rgb(0, 0, 146);\"></td><td title=\"Index: [5, 8]&#10;Color: (191, 0, 0)\" style=\"width: 30px; height: 30px;background-color: rgb(191, 0, 0);\"></td><td title=\"Index: [5, 9]&#10;Color: (0, 100, 255)\" style=\"width: 30px; height: 30px;background-color: rgb(0, 100, 255);\"></td></tr><tr><td title=\"Index: [6, 0]&#10;Color: (0, 17, 255)\" style=\"width: 30px; height: 30px;background-color: rgb(0, 17, 255);\"></td><td title=\"Index: [6, 1]&#10;Color: (0, 25, 255)\" style=\"width: 30px; height: 30px;background-color: rgb(0, 25, 255);\"></td><td title=\"Index: [6, 2]&#10;Color: (31, 255, 215)\" style=\"width: 30px; height: 30px;background-color: rgb(31, 255, 215);\"></td><td title=\"Index: [6, 3]&#10;Color: (199, 255, 48)\" style=\"width: 30px; height: 30px;background-color: rgb(199, 255, 48);\"></td><td title=\"Index: [6, 4]&#10;Color: (0, 157, 255)\" style=\"width: 30px; height: 30px;background-color: rgb(0, 157, 255);\"></td><td title=\"Index: [6, 5]&#10;Color: (255, 204, 0)\" style=\"width: 30px; height: 30px;background-color: rgb(255, 204, 0);\"></td><td title=\"Index: [6, 6]&#10;Color: (196, 0, 0)\" style=\"width: 30px; height: 30px;background-color: rgb(196, 0, 0);\"></td><td title=\"Index: [6, 7]&#10;Color: (0, 65, 255)\" style=\"width: 30px; height: 30px;background-color: rgb(0, 65, 255);\"></td><td title=\"Index: [6, 8]&#10;Color: (0, 0, 232)\" style=\"width: 30px; height: 30px;background-color: rgb(0, 0, 232);\"></td><td title=\"Index: [6, 9]&#10;Color: (255, 89, 0)\" style=\"width: 30px; height: 30px;background-color: rgb(255, 89, 0);\"></td></tr><tr><td title=\"Index: [7, 0]&#10;Color: (60, 255, 186)\" style=\"width: 30px; height: 30px;background-color: rgb(60, 255, 186);\"></td><td title=\"Index: [7, 1]&#10;Color: (0, 9, 255)\" style=\"width: 30px; height: 30px;background-color: rgb(0, 9, 255);\"></td><td title=\"Index: [7, 2]&#10;Color: (155, 0, 0)\" style=\"width: 30px; height: 30px;background-color: rgb(155, 0, 0);\"></td><td title=\"Index: [7, 3]&#10;Color: (0, 61, 255)\" style=\"width: 30px; height: 30px;background-color: rgb(0, 61, 255);\"></td><td title=\"Index: [7, 4]&#10;Color: (0, 81, 255)\" style=\"width: 30px; height: 30px;background-color: rgb(0, 81, 255);\"></td><td title=\"Index: [7, 5]&#10;Color: (219, 255, 28)\" style=\"width: 30px; height: 30px;background-color: rgb(219, 255, 28);\"></td><td title=\"Index: [7, 6]&#10;Color: (157, 255, 90)\" style=\"width: 30px; height: 30px;background-color: rgb(157, 255, 90);\"></td><td title=\"Index: [7, 7]&#10;Color: (41, 255, 206)\" style=\"width: 30px; height: 30px;background-color: rgb(41, 255, 206);\"></td><td title=\"Index: [7, 8]&#10;Color: (0, 189, 255)\" style=\"width: 30px; height: 30px;background-color: rgb(0, 189, 255);\"></td><td title=\"Index: [7, 9]&#10;Color: (177, 255, 70)\" style=\"width: 30px; height: 30px;background-color: rgb(177, 255, 70);\"></td></tr><tr><td title=\"Index: [8, 0]&#10;Color: (0, 0, 155)\" style=\"width: 30px; height: 30px;background-color: rgb(0, 0, 155);\"></td><td title=\"Index: [8, 1]&#10;Color: (0, 36, 255)\" style=\"width: 30px; height: 30px;background-color: rgb(0, 36, 255);\"></td><td title=\"Index: [8, 2]&#10;Color: (167, 255, 80)\" style=\"width: 30px; height: 30px;background-color: rgb(167, 255, 80);\"></td><td title=\"Index: [8, 3]&#10;Color: (255, 200, 0)\" style=\"width: 30px; height: 30px;background-color: rgb(255, 200, 0);\"></td><td title=\"Index: [8, 4]&#10;Color: (0, 197, 255)\" style=\"width: 30px; height: 30px;background-color: rgb(0, 197, 255);\"></td><td title=\"Index: [8, 5]&#10;Color: (0, 49, 255)\" style=\"width: 30px; height: 30px;background-color: rgb(0, 49, 255);\"></td><td title=\"Index: [8, 6]&#10;Color: (119, 255, 128)\" style=\"width: 30px; height: 30px;background-color: rgb(119, 255, 128);\"></td><td title=\"Index: [8, 7]&#10;Color: (255, 104, 0)\" style=\"width: 30px; height: 30px;background-color: rgb(255, 104, 0);\"></td><td title=\"Index: [8, 8]&#10;Color: (223, 0, 0)\" style=\"width: 30px; height: 30px;background-color: rgb(223, 0, 0);\"></td><td title=\"Index: [8, 9]&#10;Color: (0, 141, 255)\" style=\"width: 30px; height: 30px;background-color: rgb(0, 141, 255);\"></td></tr><tr><td title=\"Index: [9, 0]&#10;Color: (255, 204, 0)\" style=\"width: 30px; height: 30px;background-color: rgb(255, 204, 0);\"></td><td title=\"Index: [9, 1]&#10;Color: (168, 0, 0)\" style=\"width: 30px; height: 30px;background-color: rgb(168, 0, 0);\"></td><td title=\"Index: [9, 2]&#10;Color: (241, 8, 0)\" style=\"width: 30px; height: 30px;background-color: rgb(241, 8, 0);\"></td><td title=\"Index: [9, 3]&#10;Color: (128, 0, 0)\" style=\"width: 30px; height: 30px;background-color: rgb(128, 0, 0);\"></td><td title=\"Index: [9, 4]&#10;Color: (255, 137, 0)\" style=\"width: 30px; height: 30px;background-color: rgb(255, 137, 0);\"></td><td title=\"Index: [9, 5]&#10;Color: (164, 255, 83)\" style=\"width: 30px; height: 30px;background-color: rgb(164, 255, 83);\"></td><td title=\"Index: [9, 6]&#10;Color: (255, 189, 0)\" style=\"width: 30px; height: 30px;background-color: rgb(255, 189, 0);\"></td><td title=\"Index: [9, 7]&#10;Color: (0, 173, 255)\" style=\"width: 30px; height: 30px;background-color: rgb(0, 173, 255);\"></td><td title=\"Index: [9, 8]&#10;Color: (187, 0, 0)\" style=\"width: 30px; height: 30px;background-color: rgb(187, 0, 0);\"></td><td title=\"Index: [9, 9]&#10;Color: (0, 4, 255)\" style=\"width: 30px; height: 30px;background-color: rgb(0, 4, 255);\"></td></tr></tbody></table>"
       ],
       "metadata": {},
       "output_type": "pyout",
       "prompt_number": 35,
       "text": [
        "array([[ 0.44765196,  0.84719259,  0.35306693,  0.58287391,  0.95677743,\n",
        "         0.59982905,  0.00707168,  0.17738133,  0.16464827,  0.82202306],\n",
        "       [ 0.07598198,  0.83224127,  0.71946303,  0.93752424,  0.99773515,\n",
        "         0.66979425,  0.65069297,  0.5613199 ,  0.26101091,  0.06430886],\n",
        "       [ 0.8244724 ,  0.02733561,  0.22833709,  0.80414829,  0.97749727,\n",
        "         0.16902871,  0.54416625,  0.16486967,  0.69095395,  0.10735637],\n",
        "       [ 0.71001271,  0.66721395,  0.50875287,  0.98568286,  0.7138906 ,\n",
        "         0.32904736,  0.15365899,  0.42878072,  0.87332901,  0.70712511],\n",
        "       [ 0.94344276,  0.21974029,  0.22313278,  0.54727779,  0.75025847,\n",
        "         0.60947748,  0.36447452,  0.80000793,  0.79873367,  0.11624695],\n",
        "       [ 0.47023125,  0.86348369,  0.20655254,  0.11962831,  0.65744136,\n",
        "         0.10658409,  0.95017242,  0.02328122,  0.94059439,  0.23038055],\n",
        "       [ 0.1497343 ,  0.15554276,  0.392046  ,  0.59175337,  0.2851713 ,\n",
        "         0.69326007,  0.93761732,  0.19421903,  0.09855268,  0.81530357],\n",
        "       [ 0.42661464,  0.14092818,  0.97391114,  0.19110521,  0.21157469,\n",
        "         0.61777341,  0.54116995,  0.4049957 ,  0.31354209,  0.56744715],\n",
        "       [ 0.03183765,  0.16898118,  0.55470681,  0.69894377,  0.32165678,\n",
        "         0.17881331,  0.49757279,  0.79742785,  0.91615867,  0.2680634 ],\n",
        "       [ 0.69548589,  0.95990599,  0.8995935 ,  0.99528111,  0.76384874,\n",
        "         0.55220838,  0.71019073,  0.30027057,  0.9440448 ,  0.13650516]])"
       ]
      }
     ],
     "prompt_number": 35
    },
    {
     "cell_type": "code",
     "collapsed": false,
     "input": [
      "a[0,0]"
     ],
     "language": "python",
     "metadata": {},
     "outputs": [
      {
       "metadata": {},
       "output_type": "pyout",
       "prompt_number": 36,
       "text": [
        "0.44765195731375318"
       ]
      }
     ],
     "prompt_number": 36
    },
    {
     "cell_type": "code",
     "collapsed": false,
     "input": [
      "a[-1,-1] == a[9,9]"
     ],
     "language": "python",
     "metadata": {},
     "outputs": [
      {
       "metadata": {},
       "output_type": "pyout",
       "prompt_number": 37,
       "text": [
        "True"
       ]
      }
     ],
     "prompt_number": 37
    },
    {
     "cell_type": "markdown",
     "metadata": {},
     "source": [
      "Extract the 0th column:"
     ]
    },
    {
     "cell_type": "code",
     "collapsed": false,
     "input": [
      "a[:,0]"
     ],
     "language": "python",
     "metadata": {},
     "outputs": [
      {
       "html": [
        "<style type=\"text/css\">table.blockgrid {border: none;} .blockgrid tr {border: none;} .blockgrid td {padding: 0px;} #blocksb6e5e001-34d1-4764-bc3e-ad196ee2b114 td {border: 1px solid white;}</style><table id=\"blocksb6e5e001-34d1-4764-bc3e-ad196ee2b114\" class=\"blockgrid\"><tbody><tr><td title=\"Index: [0, 0]&#10;Color: (77, 255, 170)\" style=\"width: 30px; height: 30px;background-color: rgb(77, 255, 170);\"></td><td title=\"Index: [0, 1]&#10;Color: (0, 0, 205)\" style=\"width: 30px; height: 30px;background-color: rgb(0, 0, 205);\"></td><td title=\"Index: [0, 2]&#10;Color: (255, 78, 0)\" style=\"width: 30px; height: 30px;background-color: rgb(255, 78, 0);\"></td><td title=\"Index: [0, 3]&#10;Color: (255, 189, 0)\" style=\"width: 30px; height: 30px;background-color: rgb(255, 189, 0);\"></td><td title=\"Index: [0, 4]&#10;Color: (191, 0, 0)\" style=\"width: 30px; height: 30px;background-color: rgb(191, 0, 0);\"></td><td title=\"Index: [0, 5]&#10;Color: (96, 255, 151)\" style=\"width: 30px; height: 30px;background-color: rgb(96, 255, 151);\"></td><td title=\"Index: [0, 6]&#10;Color: (0, 17, 255)\" style=\"width: 30px; height: 30px;background-color: rgb(0, 17, 255);\"></td><td title=\"Index: [0, 7]&#10;Color: (60, 255, 186)\" style=\"width: 30px; height: 30px;background-color: rgb(60, 255, 186);\"></td><td title=\"Index: [0, 8]&#10;Color: (0, 0, 155)\" style=\"width: 30px; height: 30px;background-color: rgb(0, 0, 155);\"></td><td title=\"Index: [0, 9]&#10;Color: (255, 204, 0)\" style=\"width: 30px; height: 30px;background-color: rgb(255, 204, 0);\"></td></tr></tbody></table>"
       ],
       "metadata": {},
       "output_type": "pyout",
       "prompt_number": 38,
       "text": [
        "array([ 0.44765196,  0.07598198,  0.8244724 ,  0.71001271,  0.94344276,\n",
        "        0.47023125,  0.1497343 ,  0.42661464,  0.03183765,  0.69548589])"
       ]
      }
     ],
     "prompt_number": 38
    },
    {
     "cell_type": "markdown",
     "metadata": {},
     "source": [
      "The last row:"
     ]
    },
    {
     "cell_type": "code",
     "collapsed": false,
     "input": [
      "a[-1,:]"
     ],
     "language": "python",
     "metadata": {},
     "outputs": [
      {
       "html": [
        "<style type=\"text/css\">table.blockgrid {border: none;} .blockgrid tr {border: none;} .blockgrid td {padding: 0px;} #blocksb7cdccbd-96df-4c1e-887e-05a44e5d5ca0 td {border: 1px solid white;}</style><table id=\"blocksb7cdccbd-96df-4c1e-887e-05a44e5d5ca0\" class=\"blockgrid\"><tbody><tr><td title=\"Index: [0, 0]&#10;Color: (255, 204, 0)\" style=\"width: 30px; height: 30px;background-color: rgb(255, 204, 0);\"></td><td title=\"Index: [0, 1]&#10;Color: (168, 0, 0)\" style=\"width: 30px; height: 30px;background-color: rgb(168, 0, 0);\"></td><td title=\"Index: [0, 2]&#10;Color: (241, 8, 0)\" style=\"width: 30px; height: 30px;background-color: rgb(241, 8, 0);\"></td><td title=\"Index: [0, 3]&#10;Color: (128, 0, 0)\" style=\"width: 30px; height: 30px;background-color: rgb(128, 0, 0);\"></td><td title=\"Index: [0, 4]&#10;Color: (255, 137, 0)\" style=\"width: 30px; height: 30px;background-color: rgb(255, 137, 0);\"></td><td title=\"Index: [0, 5]&#10;Color: (164, 255, 83)\" style=\"width: 30px; height: 30px;background-color: rgb(164, 255, 83);\"></td><td title=\"Index: [0, 6]&#10;Color: (255, 189, 0)\" style=\"width: 30px; height: 30px;background-color: rgb(255, 189, 0);\"></td><td title=\"Index: [0, 7]&#10;Color: (0, 173, 255)\" style=\"width: 30px; height: 30px;background-color: rgb(0, 173, 255);\"></td><td title=\"Index: [0, 8]&#10;Color: (187, 0, 0)\" style=\"width: 30px; height: 30px;background-color: rgb(187, 0, 0);\"></td><td title=\"Index: [0, 9]&#10;Color: (0, 4, 255)\" style=\"width: 30px; height: 30px;background-color: rgb(0, 4, 255);\"></td></tr></tbody></table>"
       ],
       "metadata": {},
       "output_type": "pyout",
       "prompt_number": 39,
       "text": [
        "array([ 0.69548589,  0.95990599,  0.8995935 ,  0.99528111,  0.76384874,\n",
        "        0.55220838,  0.71019073,  0.30027057,  0.9440448 ,  0.13650516])"
       ]
      }
     ],
     "prompt_number": 39
    },
    {
     "cell_type": "markdown",
     "metadata": {},
     "source": [
      "You can also slice ranges:"
     ]
    },
    {
     "cell_type": "code",
     "collapsed": false,
     "input": [
      "a[0:2,0:2]"
     ],
     "language": "python",
     "metadata": {},
     "outputs": [
      {
       "html": [
        "<style type=\"text/css\">table.blockgrid {border: none;} .blockgrid tr {border: none;} .blockgrid td {padding: 0px;} #blocks5eaa7f51-d57c-4ff0-a536-4342681de1e2 td {border: 1px solid white;}</style><table id=\"blocks5eaa7f51-d57c-4ff0-a536-4342681de1e2\" class=\"blockgrid\"><tbody><tr><td title=\"Index: [0, 0]&#10;Color: (77, 255, 170)\" style=\"width: 30px; height: 30px;background-color: rgb(77, 255, 170);\"></td><td title=\"Index: [0, 1]&#10;Color: (255, 56, 0)\" style=\"width: 30px; height: 30px;background-color: rgb(255, 56, 0);\"></td></tr><tr><td title=\"Index: [1, 0]&#10;Color: (0, 0, 205)\" style=\"width: 30px; height: 30px;background-color: rgb(0, 0, 205);\"></td><td title=\"Index: [1, 1]&#10;Color: (255, 71, 0)\" style=\"width: 30px; height: 30px;background-color: rgb(255, 71, 0);\"></td></tr></tbody></table>"
       ],
       "metadata": {},
       "output_type": "pyout",
       "prompt_number": 40,
       "text": [
        "array([[ 0.44765196,  0.84719259],\n",
        "       [ 0.07598198,  0.83224127]])"
       ]
      }
     ],
     "prompt_number": 40
    },
    {
     "cell_type": "markdown",
     "metadata": {},
     "source": [
      "Assignment also works with slices:"
     ]
    },
    {
     "cell_type": "code",
     "collapsed": false,
     "input": [
      "a[0:5,0:5] = 1.0"
     ],
     "language": "python",
     "metadata": {},
     "outputs": [],
     "prompt_number": 41
    },
    {
     "cell_type": "code",
     "collapsed": false,
     "input": [
      "a"
     ],
     "language": "python",
     "metadata": {},
     "outputs": [
      {
       "html": [
        "<style type=\"text/css\">table.blockgrid {border: none;} .blockgrid tr {border: none;} .blockgrid td {padding: 0px;} #blocks5b76dcf7-6358-4259-807e-870115b4df04 td {border: 1px solid white;}</style><table id=\"blocks5b76dcf7-6358-4259-807e-870115b4df04\" class=\"blockgrid\"><tbody><tr><td title=\"Index: [0, 0]&#10;Color: (128, 0, 0)\" style=\"width: 30px; height: 30px;background-color: rgb(128, 0, 0);\"></td><td title=\"Index: [0, 1]&#10;Color: (128, 0, 0)\" style=\"width: 30px; height: 30px;background-color: rgb(128, 0, 0);\"></td><td title=\"Index: [0, 2]&#10;Color: (128, 0, 0)\" style=\"width: 30px; height: 30px;background-color: rgb(128, 0, 0);\"></td><td title=\"Index: [0, 3]&#10;Color: (128, 0, 0)\" style=\"width: 30px; height: 30px;background-color: rgb(128, 0, 0);\"></td><td title=\"Index: [0, 4]&#10;Color: (128, 0, 0)\" style=\"width: 30px; height: 30px;background-color: rgb(128, 0, 0);\"></td><td title=\"Index: [0, 5]&#10;Color: (202, 255, 44)\" style=\"width: 30px; height: 30px;background-color: rgb(202, 255, 44);\"></td><td title=\"Index: [0, 6]&#10;Color: (0, 0, 128)\" style=\"width: 30px; height: 30px;background-color: rgb(0, 0, 128);\"></td><td title=\"Index: [0, 7]&#10;Color: (0, 45, 255)\" style=\"width: 30px; height: 30px;background-color: rgb(0, 45, 255);\"></td><td title=\"Index: [0, 8]&#10;Color: (0, 33, 255)\" style=\"width: 30px; height: 30px;background-color: rgb(0, 33, 255);\"></td><td title=\"Index: [0, 9]&#10;Color: (255, 82, 0)\" style=\"width: 30px; height: 30px;background-color: rgb(255, 82, 0);\"></td></tr><tr><td title=\"Index: [1, 0]&#10;Color: (128, 0, 0)\" style=\"width: 30px; height: 30px;background-color: rgb(128, 0, 0);\"></td><td title=\"Index: [1, 1]&#10;Color: (128, 0, 0)\" style=\"width: 30px; height: 30px;background-color: rgb(128, 0, 0);\"></td><td title=\"Index: [1, 2]&#10;Color: (128, 0, 0)\" style=\"width: 30px; height: 30px;background-color: rgb(128, 0, 0);\"></td><td title=\"Index: [1, 3]&#10;Color: (128, 0, 0)\" style=\"width: 30px; height: 30px;background-color: rgb(128, 0, 0);\"></td><td title=\"Index: [1, 4]&#10;Color: (128, 0, 0)\" style=\"width: 30px; height: 30px;background-color: rgb(128, 0, 0);\"></td><td title=\"Index: [1, 5]&#10;Color: (255, 230, 0)\" style=\"width: 30px; height: 30px;background-color: rgb(255, 230, 0);\"></td><td title=\"Index: [1, 6]&#10;Color: (244, 248, 2)\" style=\"width: 30px; height: 30px;background-color: rgb(244, 248, 2);\"></td><td title=\"Index: [1, 7]&#10;Color: (170, 255, 77)\" style=\"width: 30px; height: 30px;background-color: rgb(170, 255, 77);\"></td><td title=\"Index: [1, 8]&#10;Color: (0, 133, 255)\" style=\"width: 30px; height: 30px;background-color: rgb(0, 133, 255);\"></td><td title=\"Index: [1, 9]&#10;Color: (0, 0, 191)\" style=\"width: 30px; height: 30px;background-color: rgb(0, 0, 191);\"></td></tr><tr><td title=\"Index: [2, 0]&#10;Color: (128, 0, 0)\" style=\"width: 30px; height: 30px;background-color: rgb(128, 0, 0);\"></td><td title=\"Index: [2, 1]&#10;Color: (128, 0, 0)\" style=\"width: 30px; height: 30px;background-color: rgb(128, 0, 0);\"></td><td title=\"Index: [2, 2]&#10;Color: (128, 0, 0)\" style=\"width: 30px; height: 30px;background-color: rgb(128, 0, 0);\"></td><td title=\"Index: [2, 3]&#10;Color: (128, 0, 0)\" style=\"width: 30px; height: 30px;background-color: rgb(128, 0, 0);\"></td><td title=\"Index: [2, 4]&#10;Color: (128, 0, 0)\" style=\"width: 30px; height: 30px;background-color: rgb(128, 0, 0);\"></td><td title=\"Index: [2, 5]&#10;Color: (0, 36, 255)\" style=\"width: 30px; height: 30px;background-color: rgb(0, 36, 255);\"></td><td title=\"Index: [2, 6]&#10;Color: (157, 255, 90)\" style=\"width: 30px; height: 30px;background-color: rgb(157, 255, 90);\"></td><td title=\"Index: [2, 7]&#10;Color: (0, 33, 255)\" style=\"width: 30px; height: 30px;background-color: rgb(0, 33, 255);\"></td><td title=\"Index: [2, 8]&#10;Color: (255, 208, 0)\" style=\"width: 30px; height: 30px;background-color: rgb(255, 208, 0);\"></td><td title=\"Index: [2, 9]&#10;Color: (0, 0, 241)\" style=\"width: 30px; height: 30px;background-color: rgb(0, 0, 241);\"></td></tr><tr><td title=\"Index: [3, 0]&#10;Color: (128, 0, 0)\" style=\"width: 30px; height: 30px;background-color: rgb(128, 0, 0);\"></td><td title=\"Index: [3, 1]&#10;Color: (128, 0, 0)\" style=\"width: 30px; height: 30px;background-color: rgb(128, 0, 0);\"></td><td title=\"Index: [3, 2]&#10;Color: (128, 0, 0)\" style=\"width: 30px; height: 30px;background-color: rgb(128, 0, 0);\"></td><td title=\"Index: [3, 3]&#10;Color: (128, 0, 0)\" style=\"width: 30px; height: 30px;background-color: rgb(128, 0, 0);\"></td><td title=\"Index: [3, 4]&#10;Color: (128, 0, 0)\" style=\"width: 30px; height: 30px;background-color: rgb(128, 0, 0);\"></td><td title=\"Index: [3, 5]&#10;Color: (0, 205, 255)\" style=\"width: 30px; height: 30px;background-color: rgb(0, 205, 255);\"></td><td title=\"Index: [3, 6]&#10;Color: (0, 20, 255)\" style=\"width: 30px; height: 30px;background-color: rgb(0, 20, 255);\"></td><td title=\"Index: [3, 7]&#10;Color: (60, 255, 186)\" style=\"width: 30px; height: 30px;background-color: rgb(60, 255, 186);\"></td><td title=\"Index: [3, 8]&#10;Color: (255, 34, 0)\" style=\"width: 30px; height: 30px;background-color: rgb(255, 34, 0);\"></td><td title=\"Index: [3, 9]&#10;Color: (255, 193, 0)\" style=\"width: 30px; height: 30px;background-color: rgb(255, 193, 0);\"></td></tr><tr><td title=\"Index: [4, 0]&#10;Color: (128, 0, 0)\" style=\"width: 30px; height: 30px;background-color: rgb(128, 0, 0);\"></td><td title=\"Index: [4, 1]&#10;Color: (128, 0, 0)\" style=\"width: 30px; height: 30px;background-color: rgb(128, 0, 0);\"></td><td title=\"Index: [4, 2]&#10;Color: (128, 0, 0)\" style=\"width: 30px; height: 30px;background-color: rgb(128, 0, 0);\"></td><td title=\"Index: [4, 3]&#10;Color: (128, 0, 0)\" style=\"width: 30px; height: 30px;background-color: rgb(128, 0, 0);\"></td><td title=\"Index: [4, 4]&#10;Color: (128, 0, 0)\" style=\"width: 30px; height: 30px;background-color: rgb(128, 0, 0);\"></td><td title=\"Index: [4, 5]&#10;Color: (212, 255, 35)\" style=\"width: 30px; height: 30px;background-color: rgb(212, 255, 35);\"></td><td title=\"Index: [4, 6]&#10;Color: (9, 241, 238)\" style=\"width: 30px; height: 30px;background-color: rgb(9, 241, 238);\"></td><td title=\"Index: [4, 7]&#10;Color: (255, 104, 0)\" style=\"width: 30px; height: 30px;background-color: rgb(255, 104, 0);\"></td><td title=\"Index: [4, 8]&#10;Color: (255, 104, 0)\" style=\"width: 30px; height: 30px;background-color: rgb(255, 104, 0);\"></td><td title=\"Index: [4, 9]&#10;Color: (0, 0, 255)\" style=\"width: 30px; height: 30px;background-color: rgb(0, 0, 255);\"></td></tr><tr><td title=\"Index: [5, 0]&#10;Color: (96, 255, 151)\" style=\"width: 30px; height: 30px;background-color: rgb(96, 255, 151);\"></td><td title=\"Index: [5, 1]&#10;Color: (255, 45, 0)\" style=\"width: 30px; height: 30px;background-color: rgb(255, 45, 0);\"></td><td title=\"Index: [5, 2]&#10;Color: (0, 77, 255)\" style=\"width: 30px; height: 30px;background-color: rgb(0, 77, 255);\"></td><td title=\"Index: [5, 3]&#10;Color: (0, 0, 255)\" style=\"width: 30px; height: 30px;background-color: rgb(0, 0, 255);\"></td><td title=\"Index: [5, 4]&#10;Color: (251, 241, 0)\" style=\"width: 30px; height: 30px;background-color: rgb(251, 241, 0);\"></td><td title=\"Index: [5, 5]&#10;Color: (0, 0, 241)\" style=\"width: 30px; height: 30px;background-color: rgb(0, 0, 241);\"></td><td title=\"Index: [5, 6]&#10;Color: (182, 0, 0)\" style=\"width: 30px; height: 30px;background-color: rgb(182, 0, 0);\"></td><td title=\"Index: [5, 7]&#10;Color: (0, 0, 146)\" style=\"width: 30px; height: 30px;background-color: rgb(0, 0, 146);\"></td><td title=\"Index: [5, 8]&#10;Color: (196, 0, 0)\" style=\"width: 30px; height: 30px;background-color: rgb(196, 0, 0);\"></td><td title=\"Index: [5, 9]&#10;Color: (0, 100, 255)\" style=\"width: 30px; height: 30px;background-color: rgb(0, 100, 255);\"></td></tr><tr><td title=\"Index: [6, 0]&#10;Color: (0, 17, 255)\" style=\"width: 30px; height: 30px;background-color: rgb(0, 17, 255);\"></td><td title=\"Index: [6, 1]&#10;Color: (0, 25, 255)\" style=\"width: 30px; height: 30px;background-color: rgb(0, 25, 255);\"></td><td title=\"Index: [6, 2]&#10;Color: (31, 255, 215)\" style=\"width: 30px; height: 30px;background-color: rgb(31, 255, 215);\"></td><td title=\"Index: [6, 3]&#10;Color: (196, 255, 51)\" style=\"width: 30px; height: 30px;background-color: rgb(196, 255, 51);\"></td><td title=\"Index: [6, 4]&#10;Color: (0, 157, 255)\" style=\"width: 30px; height: 30px;background-color: rgb(0, 157, 255);\"></td><td title=\"Index: [6, 5]&#10;Color: (255, 208, 0)\" style=\"width: 30px; height: 30px;background-color: rgb(255, 208, 0);\"></td><td title=\"Index: [6, 6]&#10;Color: (200, 0, 0)\" style=\"width: 30px; height: 30px;background-color: rgb(200, 0, 0);\"></td><td title=\"Index: [6, 7]&#10;Color: (0, 65, 255)\" style=\"width: 30px; height: 30px;background-color: rgb(0, 65, 255);\"></td><td title=\"Index: [6, 8]&#10;Color: (0, 0, 232)\" style=\"width: 30px; height: 30px;background-color: rgb(0, 0, 232);\"></td><td title=\"Index: [6, 9]&#10;Color: (255, 89, 0)\" style=\"width: 30px; height: 30px;background-color: rgb(255, 89, 0);\"></td></tr><tr><td title=\"Index: [7, 0]&#10;Color: (60, 255, 186)\" style=\"width: 30px; height: 30px;background-color: rgb(60, 255, 186);\"></td><td title=\"Index: [7, 1]&#10;Color: (0, 9, 255)\" style=\"width: 30px; height: 30px;background-color: rgb(0, 9, 255);\"></td><td title=\"Index: [7, 2]&#10;Color: (155, 0, 0)\" style=\"width: 30px; height: 30px;background-color: rgb(155, 0, 0);\"></td><td title=\"Index: [7, 3]&#10;Color: (0, 61, 255)\" style=\"width: 30px; height: 30px;background-color: rgb(0, 61, 255);\"></td><td title=\"Index: [7, 4]&#10;Color: (0, 81, 255)\" style=\"width: 30px; height: 30px;background-color: rgb(0, 81, 255);\"></td><td title=\"Index: [7, 5]&#10;Color: (219, 255, 28)\" style=\"width: 30px; height: 30px;background-color: rgb(219, 255, 28);\"></td><td title=\"Index: [7, 6]&#10;Color: (154, 255, 93)\" style=\"width: 30px; height: 30px;background-color: rgb(154, 255, 93);\"></td><td title=\"Index: [7, 7]&#10;Color: (41, 255, 206)\" style=\"width: 30px; height: 30px;background-color: rgb(41, 255, 206);\"></td><td title=\"Index: [7, 8]&#10;Color: (0, 189, 255)\" style=\"width: 30px; height: 30px;background-color: rgb(0, 189, 255);\"></td><td title=\"Index: [7, 9]&#10;Color: (177, 255, 70)\" style=\"width: 30px; height: 30px;background-color: rgb(177, 255, 70);\"></td></tr><tr><td title=\"Index: [8, 0]&#10;Color: (0, 0, 155)\" style=\"width: 30px; height: 30px;background-color: rgb(0, 0, 155);\"></td><td title=\"Index: [8, 1]&#10;Color: (0, 36, 255)\" style=\"width: 30px; height: 30px;background-color: rgb(0, 36, 255);\"></td><td title=\"Index: [8, 2]&#10;Color: (167, 255, 80)\" style=\"width: 30px; height: 30px;background-color: rgb(167, 255, 80);\"></td><td title=\"Index: [8, 3]&#10;Color: (255, 200, 0)\" style=\"width: 30px; height: 30px;background-color: rgb(255, 200, 0);\"></td><td title=\"Index: [8, 4]&#10;Color: (0, 197, 255)\" style=\"width: 30px; height: 30px;background-color: rgb(0, 197, 255);\"></td><td title=\"Index: [8, 5]&#10;Color: (0, 49, 255)\" style=\"width: 30px; height: 30px;background-color: rgb(0, 49, 255);\"></td><td title=\"Index: [8, 6]&#10;Color: (119, 255, 128)\" style=\"width: 30px; height: 30px;background-color: rgb(119, 255, 128);\"></td><td title=\"Index: [8, 7]&#10;Color: (255, 108, 0)\" style=\"width: 30px; height: 30px;background-color: rgb(255, 108, 0);\"></td><td title=\"Index: [8, 8]&#10;Color: (223, 0, 0)\" style=\"width: 30px; height: 30px;background-color: rgb(223, 0, 0);\"></td><td title=\"Index: [8, 9]&#10;Color: (0, 141, 255)\" style=\"width: 30px; height: 30px;background-color: rgb(0, 141, 255);\"></td></tr><tr><td title=\"Index: [9, 0]&#10;Color: (255, 204, 0)\" style=\"width: 30px; height: 30px;background-color: rgb(255, 204, 0);\"></td><td title=\"Index: [9, 1]&#10;Color: (173, 0, 0)\" style=\"width: 30px; height: 30px;background-color: rgb(173, 0, 0);\"></td><td title=\"Index: [9, 2]&#10;Color: (241, 8, 0)\" style=\"width: 30px; height: 30px;background-color: rgb(241, 8, 0);\"></td><td title=\"Index: [9, 3]&#10;Color: (132, 0, 0)\" style=\"width: 30px; height: 30px;background-color: rgb(132, 0, 0);\"></td><td title=\"Index: [9, 4]&#10;Color: (255, 137, 0)\" style=\"width: 30px; height: 30px;background-color: rgb(255, 137, 0);\"></td><td title=\"Index: [9, 5]&#10;Color: (164, 255, 83)\" style=\"width: 30px; height: 30px;background-color: rgb(164, 255, 83);\"></td><td title=\"Index: [9, 6]&#10;Color: (255, 189, 0)\" style=\"width: 30px; height: 30px;background-color: rgb(255, 189, 0);\"></td><td title=\"Index: [9, 7]&#10;Color: (0, 173, 255)\" style=\"width: 30px; height: 30px;background-color: rgb(0, 173, 255);\"></td><td title=\"Index: [9, 8]&#10;Color: (191, 0, 0)\" style=\"width: 30px; height: 30px;background-color: rgb(191, 0, 0);\"></td><td title=\"Index: [9, 9]&#10;Color: (0, 4, 255)\" style=\"width: 30px; height: 30px;background-color: rgb(0, 4, 255);\"></td></tr></tbody></table>"
       ],
       "metadata": {},
       "output_type": "pyout",
       "prompt_number": 42,
       "text": [
        "array([[ 1.        ,  1.        ,  1.        ,  1.        ,  1.        ,\n",
        "         0.59982905,  0.00707168,  0.17738133,  0.16464827,  0.82202306],\n",
        "       [ 1.        ,  1.        ,  1.        ,  1.        ,  1.        ,\n",
        "         0.66979425,  0.65069297,  0.5613199 ,  0.26101091,  0.06430886],\n",
        "       [ 1.        ,  1.        ,  1.        ,  1.        ,  1.        ,\n",
        "         0.16902871,  0.54416625,  0.16486967,  0.69095395,  0.10735637],\n",
        "       [ 1.        ,  1.        ,  1.        ,  1.        ,  1.        ,\n",
        "         0.32904736,  0.15365899,  0.42878072,  0.87332901,  0.70712511],\n",
        "       [ 1.        ,  1.        ,  1.        ,  1.        ,  1.        ,\n",
        "         0.60947748,  0.36447452,  0.80000793,  0.79873367,  0.11624695],\n",
        "       [ 0.47023125,  0.86348369,  0.20655254,  0.11962831,  0.65744136,\n",
        "         0.10658409,  0.95017242,  0.02328122,  0.94059439,  0.23038055],\n",
        "       [ 0.1497343 ,  0.15554276,  0.392046  ,  0.59175337,  0.2851713 ,\n",
        "         0.69326007,  0.93761732,  0.19421903,  0.09855268,  0.81530357],\n",
        "       [ 0.42661464,  0.14092818,  0.97391114,  0.19110521,  0.21157469,\n",
        "         0.61777341,  0.54116995,  0.4049957 ,  0.31354209,  0.56744715],\n",
        "       [ 0.03183765,  0.16898118,  0.55470681,  0.69894377,  0.32165678,\n",
        "         0.17881331,  0.49757279,  0.79742785,  0.91615867,  0.2680634 ],\n",
        "       [ 0.69548589,  0.95990599,  0.8995935 ,  0.99528111,  0.76384874,\n",
        "         0.55220838,  0.71019073,  0.30027057,  0.9440448 ,  0.13650516]])"
       ]
      }
     ],
     "prompt_number": 42
    },
    {
     "cell_type": "code",
     "collapsed": false,
     "input": [
      "vz.disable()"
     ],
     "language": "python",
     "metadata": {},
     "outputs": [],
     "prompt_number": 43
    },
    {
     "cell_type": "markdown",
     "metadata": {},
     "source": [
      "Note how even though we assigned the value to the slice, the original array was changed. This clarifies that slices are **views** of the same data, not a copy."
     ]
    },
    {
     "cell_type": "markdown",
     "metadata": {},
     "source": [
      "### Boolean indexing"
     ]
    },
    {
     "cell_type": "code",
     "collapsed": false,
     "input": [
      "ages = np.array([23,56,67,89,23,56,27,12,8,72])\n",
      "genders = np.array(['m','m','f','f','m','f','m','m','m','f'])"
     ],
     "language": "python",
     "metadata": {},
     "outputs": [],
     "prompt_number": 44
    },
    {
     "cell_type": "code",
     "collapsed": false,
     "input": [
      "ages > 30"
     ],
     "language": "python",
     "metadata": {},
     "outputs": [
      {
       "metadata": {},
       "output_type": "pyout",
       "prompt_number": 45,
       "text": [
        "array([False,  True,  True,  True, False,  True, False, False, False,  True], dtype=bool)"
       ]
      }
     ],
     "prompt_number": 45
    },
    {
     "cell_type": "code",
     "collapsed": false,
     "input": [
      "genders == 'm'"
     ],
     "language": "python",
     "metadata": {},
     "outputs": [
      {
       "metadata": {},
       "output_type": "pyout",
       "prompt_number": 46,
       "text": [
        "array([ True,  True, False, False,  True, False,  True,  True,  True, False], dtype=bool)"
       ]
      }
     ],
     "prompt_number": 46
    },
    {
     "cell_type": "code",
     "collapsed": false,
     "input": [
      "(ages > 10) & (ages < 50)"
     ],
     "language": "python",
     "metadata": {},
     "outputs": [
      {
       "metadata": {},
       "output_type": "pyout",
       "prompt_number": 47,
       "text": [
        "array([ True, False, False, False,  True, False,  True,  True, False, False], dtype=bool)"
       ]
      }
     ],
     "prompt_number": 47
    },
    {
     "cell_type": "markdown",
     "metadata": {},
     "source": [
      "You can use a boolean array to index into the original or another array:"
     ]
    },
    {
     "cell_type": "code",
     "collapsed": false,
     "input": [
      "mask = (genders == 'f')\n",
      "ages[mask]"
     ],
     "language": "python",
     "metadata": {},
     "outputs": [
      {
       "metadata": {},
       "output_type": "pyout",
       "prompt_number": 48,
       "text": [
        "array([67, 89, 56, 72])"
       ]
      }
     ],
     "prompt_number": 48
    },
    {
     "cell_type": "code",
     "collapsed": false,
     "input": [
      "ages[ages>30]"
     ],
     "language": "python",
     "metadata": {},
     "outputs": [
      {
       "metadata": {},
       "output_type": "pyout",
       "prompt_number": 49,
       "text": [
        "array([56, 67, 89, 56, 72])"
       ]
      }
     ],
     "prompt_number": 49
    },
    {
     "cell_type": "markdown",
     "metadata": {},
     "source": [
      "## Reshaping, transposing"
     ]
    },
    {
     "cell_type": "code",
     "collapsed": false,
     "input": [
      "vz.enable()"
     ],
     "language": "python",
     "metadata": {},
     "outputs": [],
     "prompt_number": 50
    },
    {
     "cell_type": "code",
     "collapsed": false,
     "input": [
      "a = np.random.rand(3,4)"
     ],
     "language": "python",
     "metadata": {},
     "outputs": [],
     "prompt_number": 51
    },
    {
     "cell_type": "code",
     "collapsed": false,
     "input": [
      "a"
     ],
     "language": "python",
     "metadata": {},
     "outputs": [
      {
       "html": [
        "<style type=\"text/css\">table.blockgrid {border: none;} .blockgrid tr {border: none;} .blockgrid td {padding: 0px;} #blocks4b8e03b3-5eb7-462c-b0c4-b32c0974743a td {border: 1px solid white;}</style><table id=\"blocks4b8e03b3-5eb7-462c-b0c4-b32c0974743a\" class=\"blockgrid\"><tbody><tr><td title=\"Index: [0, 0]&#10;Color: (159, 0, 0)\" style=\"width: 30px; height: 30px;background-color: rgb(159, 0, 0);\"></td><td title=\"Index: [0, 1]&#10;Color: (255, 115, 0)\" style=\"width: 30px; height: 30px;background-color: rgb(255, 115, 0);\"></td><td title=\"Index: [0, 2]&#10;Color: (255, 85, 0)\" style=\"width: 30px; height: 30px;background-color: rgb(255, 85, 0);\"></td><td title=\"Index: [0, 3]&#10;Color: (0, 0, 128)\" style=\"width: 30px; height: 30px;background-color: rgb(0, 0, 128);\"></td></tr><tr><td title=\"Index: [1, 0]&#10;Color: (0, 0, 128)\" style=\"width: 30px; height: 30px;background-color: rgb(0, 0, 128);\"></td><td title=\"Index: [1, 1]&#10;Color: (0, 0, 164)\" style=\"width: 30px; height: 30px;background-color: rgb(0, 0, 164);\"></td><td title=\"Index: [1, 2]&#10;Color: (128, 0, 0)\" style=\"width: 30px; height: 30px;background-color: rgb(128, 0, 0);\"></td><td title=\"Index: [1, 3]&#10;Color: (0, 4, 255)\" style=\"width: 30px; height: 30px;background-color: rgb(0, 4, 255);\"></td></tr><tr><td title=\"Index: [2, 0]&#10;Color: (0, 0, 150)\" style=\"width: 30px; height: 30px;background-color: rgb(0, 0, 150);\"></td><td title=\"Index: [2, 1]&#10;Color: (255, 89, 0)\" style=\"width: 30px; height: 30px;background-color: rgb(255, 89, 0);\"></td><td title=\"Index: [2, 2]&#10;Color: (0, 0, 223)\" style=\"width: 30px; height: 30px;background-color: rgb(0, 0, 223);\"></td><td title=\"Index: [2, 3]&#10;Color: (241, 8, 0)\" style=\"width: 30px; height: 30px;background-color: rgb(241, 8, 0);\"></td></tr></tbody></table>"
       ],
       "metadata": {},
       "output_type": "pyout",
       "prompt_number": 52,
       "text": [
        "array([[ 0.84623002,  0.68923233,  0.71504387,  0.0137081 ],\n",
        "       [ 0.01497554,  0.04066092,  0.87200081,  0.1254566 ],\n",
        "       [ 0.03118876,  0.712893  ,  0.08661644,  0.78575471]])"
       ]
      }
     ],
     "prompt_number": 52
    },
    {
     "cell_type": "code",
     "collapsed": false,
     "input": [
      "a.T"
     ],
     "language": "python",
     "metadata": {},
     "outputs": [
      {
       "html": [
        "<style type=\"text/css\">table.blockgrid {border: none;} .blockgrid tr {border: none;} .blockgrid td {padding: 0px;} #blocks31dec242-1f4f-4795-a394-f20b0d0b2a1f td {border: 1px solid white;}</style><table id=\"blocks31dec242-1f4f-4795-a394-f20b0d0b2a1f\" class=\"blockgrid\"><tbody><tr><td title=\"Index: [0, 0]&#10;Color: (159, 0, 0)\" style=\"width: 30px; height: 30px;background-color: rgb(159, 0, 0);\"></td><td title=\"Index: [0, 1]&#10;Color: (0, 0, 128)\" style=\"width: 30px; height: 30px;background-color: rgb(0, 0, 128);\"></td><td title=\"Index: [0, 2]&#10;Color: (0, 0, 150)\" style=\"width: 30px; height: 30px;background-color: rgb(0, 0, 150);\"></td></tr><tr><td title=\"Index: [1, 0]&#10;Color: (255, 115, 0)\" style=\"width: 30px; height: 30px;background-color: rgb(255, 115, 0);\"></td><td title=\"Index: [1, 1]&#10;Color: (0, 0, 164)\" style=\"width: 30px; height: 30px;background-color: rgb(0, 0, 164);\"></td><td title=\"Index: [1, 2]&#10;Color: (255, 89, 0)\" style=\"width: 30px; height: 30px;background-color: rgb(255, 89, 0);\"></td></tr><tr><td title=\"Index: [2, 0]&#10;Color: (255, 85, 0)\" style=\"width: 30px; height: 30px;background-color: rgb(255, 85, 0);\"></td><td title=\"Index: [2, 1]&#10;Color: (128, 0, 0)\" style=\"width: 30px; height: 30px;background-color: rgb(128, 0, 0);\"></td><td title=\"Index: [2, 2]&#10;Color: (0, 0, 223)\" style=\"width: 30px; height: 30px;background-color: rgb(0, 0, 223);\"></td></tr><tr><td title=\"Index: [3, 0]&#10;Color: (0, 0, 128)\" style=\"width: 30px; height: 30px;background-color: rgb(0, 0, 128);\"></td><td title=\"Index: [3, 1]&#10;Color: (0, 4, 255)\" style=\"width: 30px; height: 30px;background-color: rgb(0, 4, 255);\"></td><td title=\"Index: [3, 2]&#10;Color: (241, 8, 0)\" style=\"width: 30px; height: 30px;background-color: rgb(241, 8, 0);\"></td></tr></tbody></table>"
       ],
       "metadata": {},
       "output_type": "pyout",
       "prompt_number": 53,
       "text": [
        "array([[ 0.84623002,  0.01497554,  0.03118876],\n",
        "       [ 0.68923233,  0.04066092,  0.712893  ],\n",
        "       [ 0.71504387,  0.87200081,  0.08661644],\n",
        "       [ 0.0137081 ,  0.1254566 ,  0.78575471]])"
       ]
      }
     ],
     "prompt_number": 53
    },
    {
     "cell_type": "code",
     "collapsed": false,
     "input": [
      "a.reshape(2,6)"
     ],
     "language": "python",
     "metadata": {},
     "outputs": [
      {
       "html": [
        "<style type=\"text/css\">table.blockgrid {border: none;} .blockgrid tr {border: none;} .blockgrid td {padding: 0px;} #blocksa938e77a-5c90-438c-b899-4643c74282bb td {border: 1px solid white;}</style><table id=\"blocksa938e77a-5c90-438c-b899-4643c74282bb\" class=\"blockgrid\"><tbody><tr><td title=\"Index: [0, 0]&#10;Color: (159, 0, 0)\" style=\"width: 30px; height: 30px;background-color: rgb(159, 0, 0);\"></td><td title=\"Index: [0, 1]&#10;Color: (255, 115, 0)\" style=\"width: 30px; height: 30px;background-color: rgb(255, 115, 0);\"></td><td title=\"Index: [0, 2]&#10;Color: (255, 85, 0)\" style=\"width: 30px; height: 30px;background-color: rgb(255, 85, 0);\"></td><td title=\"Index: [0, 3]&#10;Color: (0, 0, 128)\" style=\"width: 30px; height: 30px;background-color: rgb(0, 0, 128);\"></td><td title=\"Index: [0, 4]&#10;Color: (0, 0, 128)\" style=\"width: 30px; height: 30px;background-color: rgb(0, 0, 128);\"></td><td title=\"Index: [0, 5]&#10;Color: (0, 0, 164)\" style=\"width: 30px; height: 30px;background-color: rgb(0, 0, 164);\"></td></tr><tr><td title=\"Index: [1, 0]&#10;Color: (128, 0, 0)\" style=\"width: 30px; height: 30px;background-color: rgb(128, 0, 0);\"></td><td title=\"Index: [1, 1]&#10;Color: (0, 4, 255)\" style=\"width: 30px; height: 30px;background-color: rgb(0, 4, 255);\"></td><td title=\"Index: [1, 2]&#10;Color: (0, 0, 150)\" style=\"width: 30px; height: 30px;background-color: rgb(0, 0, 150);\"></td><td title=\"Index: [1, 3]&#10;Color: (255, 89, 0)\" style=\"width: 30px; height: 30px;background-color: rgb(255, 89, 0);\"></td><td title=\"Index: [1, 4]&#10;Color: (0, 0, 223)\" style=\"width: 30px; height: 30px;background-color: rgb(0, 0, 223);\"></td><td title=\"Index: [1, 5]&#10;Color: (241, 8, 0)\" style=\"width: 30px; height: 30px;background-color: rgb(241, 8, 0);\"></td></tr></tbody></table>"
       ],
       "metadata": {},
       "output_type": "pyout",
       "prompt_number": 54,
       "text": [
        "array([[ 0.84623002,  0.68923233,  0.71504387,  0.0137081 ,  0.01497554,\n",
        "         0.04066092],\n",
        "       [ 0.87200081,  0.1254566 ,  0.03118876,  0.712893  ,  0.08661644,\n",
        "         0.78575471]])"
       ]
      }
     ],
     "prompt_number": 54
    },
    {
     "cell_type": "code",
     "collapsed": false,
     "input": [
      "a.reshape(6,2)"
     ],
     "language": "python",
     "metadata": {},
     "outputs": [
      {
       "html": [
        "<style type=\"text/css\">table.blockgrid {border: none;} .blockgrid tr {border: none;} .blockgrid td {padding: 0px;} #blocks0187bf49-6a2a-4d09-8528-58812a241339 td {border: 1px solid white;}</style><table id=\"blocks0187bf49-6a2a-4d09-8528-58812a241339\" class=\"blockgrid\"><tbody><tr><td title=\"Index: [0, 0]&#10;Color: (159, 0, 0)\" style=\"width: 30px; height: 30px;background-color: rgb(159, 0, 0);\"></td><td title=\"Index: [0, 1]&#10;Color: (255, 115, 0)\" style=\"width: 30px; height: 30px;background-color: rgb(255, 115, 0);\"></td></tr><tr><td title=\"Index: [1, 0]&#10;Color: (255, 85, 0)\" style=\"width: 30px; height: 30px;background-color: rgb(255, 85, 0);\"></td><td title=\"Index: [1, 1]&#10;Color: (0, 0, 128)\" style=\"width: 30px; height: 30px;background-color: rgb(0, 0, 128);\"></td></tr><tr><td title=\"Index: [2, 0]&#10;Color: (0, 0, 128)\" style=\"width: 30px; height: 30px;background-color: rgb(0, 0, 128);\"></td><td title=\"Index: [2, 1]&#10;Color: (0, 0, 164)\" style=\"width: 30px; height: 30px;background-color: rgb(0, 0, 164);\"></td></tr><tr><td title=\"Index: [3, 0]&#10;Color: (128, 0, 0)\" style=\"width: 30px; height: 30px;background-color: rgb(128, 0, 0);\"></td><td title=\"Index: [3, 1]&#10;Color: (0, 4, 255)\" style=\"width: 30px; height: 30px;background-color: rgb(0, 4, 255);\"></td></tr><tr><td title=\"Index: [4, 0]&#10;Color: (0, 0, 150)\" style=\"width: 30px; height: 30px;background-color: rgb(0, 0, 150);\"></td><td title=\"Index: [4, 1]&#10;Color: (255, 89, 0)\" style=\"width: 30px; height: 30px;background-color: rgb(255, 89, 0);\"></td></tr><tr><td title=\"Index: [5, 0]&#10;Color: (0, 0, 223)\" style=\"width: 30px; height: 30px;background-color: rgb(0, 0, 223);\"></td><td title=\"Index: [5, 1]&#10;Color: (241, 8, 0)\" style=\"width: 30px; height: 30px;background-color: rgb(241, 8, 0);\"></td></tr></tbody></table>"
       ],
       "metadata": {},
       "output_type": "pyout",
       "prompt_number": 55,
       "text": [
        "array([[ 0.84623002,  0.68923233],\n",
        "       [ 0.71504387,  0.0137081 ],\n",
        "       [ 0.01497554,  0.04066092],\n",
        "       [ 0.87200081,  0.1254566 ],\n",
        "       [ 0.03118876,  0.712893  ],\n",
        "       [ 0.08661644,  0.78575471]])"
       ]
      }
     ],
     "prompt_number": 55
    },
    {
     "cell_type": "code",
     "collapsed": false,
     "input": [
      "a.ravel()"
     ],
     "language": "python",
     "metadata": {},
     "outputs": [
      {
       "html": [
        "<style type=\"text/css\">table.blockgrid {border: none;} .blockgrid tr {border: none;} .blockgrid td {padding: 0px;} #blocksa043c923-397e-4325-82a1-0bb673321922 td {border: 1px solid white;}</style><table id=\"blocksa043c923-397e-4325-82a1-0bb673321922\" class=\"blockgrid\"><tbody><tr><td title=\"Index: [0, 0]&#10;Color: (159, 0, 0)\" style=\"width: 30px; height: 30px;background-color: rgb(159, 0, 0);\"></td><td title=\"Index: [0, 1]&#10;Color: (255, 115, 0)\" style=\"width: 30px; height: 30px;background-color: rgb(255, 115, 0);\"></td><td title=\"Index: [0, 2]&#10;Color: (255, 85, 0)\" style=\"width: 30px; height: 30px;background-color: rgb(255, 85, 0);\"></td><td title=\"Index: [0, 3]&#10;Color: (0, 0, 128)\" style=\"width: 30px; height: 30px;background-color: rgb(0, 0, 128);\"></td><td title=\"Index: [0, 4]&#10;Color: (0, 0, 128)\" style=\"width: 30px; height: 30px;background-color: rgb(0, 0, 128);\"></td><td title=\"Index: [0, 5]&#10;Color: (0, 0, 164)\" style=\"width: 30px; height: 30px;background-color: rgb(0, 0, 164);\"></td><td title=\"Index: [0, 6]&#10;Color: (128, 0, 0)\" style=\"width: 30px; height: 30px;background-color: rgb(128, 0, 0);\"></td><td title=\"Index: [0, 7]&#10;Color: (0, 4, 255)\" style=\"width: 30px; height: 30px;background-color: rgb(0, 4, 255);\"></td><td title=\"Index: [0, 8]&#10;Color: (0, 0, 150)\" style=\"width: 30px; height: 30px;background-color: rgb(0, 0, 150);\"></td><td title=\"Index: [0, 9]&#10;Color: (255, 89, 0)\" style=\"width: 30px; height: 30px;background-color: rgb(255, 89, 0);\"></td><td title=\"Index: [0, 10]&#10;Color: (0, 0, 223)\" style=\"width: 30px; height: 30px;background-color: rgb(0, 0, 223);\"></td><td title=\"Index: [0, 11]&#10;Color: (241, 8, 0)\" style=\"width: 30px; height: 30px;background-color: rgb(241, 8, 0);\"></td></tr></tbody></table>"
       ],
       "metadata": {},
       "output_type": "pyout",
       "prompt_number": 56,
       "text": [
        "array([ 0.84623002,  0.68923233,  0.71504387,  0.0137081 ,  0.01497554,\n",
        "        0.04066092,  0.87200081,  0.1254566 ,  0.03118876,  0.712893  ,\n",
        "        0.08661644,  0.78575471])"
       ]
      }
     ],
     "prompt_number": 56
    },
    {
     "cell_type": "code",
     "collapsed": false,
     "input": [
      "vz.disable()"
     ],
     "language": "python",
     "metadata": {},
     "outputs": [],
     "prompt_number": 57
    },
    {
     "cell_type": "markdown",
     "metadata": {},
     "source": [
      "## Universal functions"
     ]
    },
    {
     "cell_type": "markdown",
     "metadata": {},
     "source": [
      "Universal function, or \"ufuncs,\" are functions that take and return arrays or scalars:\n",
      "\n",
      "* Vectorized C implementations, much faster than hand written loops in Python\n",
      "* Allow for concise Pythonic code\n",
      "* Here is a complete list of the [available NumPy ufuncs](http://docs.scipy.org/doc/numpy/reference/ufuncs.html#available-ufuncs) lists the available ufuncs."
     ]
    },
    {
     "cell_type": "code",
     "collapsed": false,
     "input": [
      "vz.set_block_size(5)\n",
      "vz.enable()"
     ],
     "language": "python",
     "metadata": {},
     "outputs": [],
     "prompt_number": 58
    },
    {
     "cell_type": "code",
     "collapsed": false,
     "input": [
      "t = np.linspace(0.0, 4*np.pi, 100)\n",
      "t"
     ],
     "language": "python",
     "metadata": {},
     "outputs": [
      {
       "html": [
        "<style type=\"text/css\">table.blockgrid {border: none;} .blockgrid tr {border: none;} .blockgrid td {padding: 0px;} #blocks270fce75-b958-40ad-aea4-ea25fc11c2d0 td {border: 1px solid white;}</style><table id=\"blocks270fce75-b958-40ad-aea4-ea25fc11c2d0\" class=\"blockgrid\"><tbody><tr><td title=\"Index: [0, 0]&#10;Color: (0, 0, 128)\" style=\"width: 5px; height: 5px;background-color: rgb(0, 0, 128);\"></td><td title=\"Index: [0, 1]&#10;Color: (0, 0, 137)\" style=\"width: 5px; height: 5px;background-color: rgb(0, 0, 137);\"></td><td title=\"Index: [0, 2]&#10;Color: (0, 0, 150)\" style=\"width: 5px; height: 5px;background-color: rgb(0, 0, 150);\"></td><td title=\"Index: [0, 3]&#10;Color: (0, 0, 159)\" style=\"width: 5px; height: 5px;background-color: rgb(0, 0, 159);\"></td><td title=\"Index: [0, 4]&#10;Color: (0, 0, 173)\" style=\"width: 5px; height: 5px;background-color: rgb(0, 0, 173);\"></td><td title=\"Index: [0, 5]&#10;Color: (0, 0, 182)\" style=\"width: 5px; height: 5px;background-color: rgb(0, 0, 182);\"></td><td title=\"Index: [0, 6]&#10;Color: (0, 0, 196)\" style=\"width: 5px; height: 5px;background-color: rgb(0, 0, 196);\"></td><td title=\"Index: [0, 7]&#10;Color: (0, 0, 209)\" style=\"width: 5px; height: 5px;background-color: rgb(0, 0, 209);\"></td><td title=\"Index: [0, 8]&#10;Color: (0, 0, 218)\" style=\"width: 5px; height: 5px;background-color: rgb(0, 0, 218);\"></td><td title=\"Index: [0, 9]&#10;Color: (0, 0, 232)\" style=\"width: 5px; height: 5px;background-color: rgb(0, 0, 232);\"></td><td title=\"Index: [0, 10]&#10;Color: (0, 0, 241)\" style=\"width: 5px; height: 5px;background-color: rgb(0, 0, 241);\"></td><td title=\"Index: [0, 11]&#10;Color: (0, 0, 255)\" style=\"width: 5px; height: 5px;background-color: rgb(0, 0, 255);\"></td><td title=\"Index: [0, 12]&#10;Color: (0, 0, 255)\" style=\"width: 5px; height: 5px;background-color: rgb(0, 0, 255);\"></td><td title=\"Index: [0, 13]&#10;Color: (0, 4, 255)\" style=\"width: 5px; height: 5px;background-color: rgb(0, 4, 255);\"></td><td title=\"Index: [0, 14]&#10;Color: (0, 17, 255)\" style=\"width: 5px; height: 5px;background-color: rgb(0, 17, 255);\"></td><td title=\"Index: [0, 15]&#10;Color: (0, 25, 255)\" style=\"width: 5px; height: 5px;background-color: rgb(0, 25, 255);\"></td><td title=\"Index: [0, 16]&#10;Color: (0, 36, 255)\" style=\"width: 5px; height: 5px;background-color: rgb(0, 36, 255);\"></td><td title=\"Index: [0, 17]&#10;Color: (0, 45, 255)\" style=\"width: 5px; height: 5px;background-color: rgb(0, 45, 255);\"></td><td title=\"Index: [0, 18]&#10;Color: (0, 57, 255)\" style=\"width: 5px; height: 5px;background-color: rgb(0, 57, 255);\"></td><td title=\"Index: [0, 19]&#10;Color: (0, 68, 255)\" style=\"width: 5px; height: 5px;background-color: rgb(0, 68, 255);\"></td><td title=\"Index: [0, 20]&#10;Color: (0, 77, 255)\" style=\"width: 5px; height: 5px;background-color: rgb(0, 77, 255);\"></td><td title=\"Index: [0, 21]&#10;Color: (0, 89, 255)\" style=\"width: 5px; height: 5px;background-color: rgb(0, 89, 255);\"></td><td title=\"Index: [0, 22]&#10;Color: (0, 97, 255)\" style=\"width: 5px; height: 5px;background-color: rgb(0, 97, 255);\"></td><td title=\"Index: [0, 23]&#10;Color: (0, 109, 255)\" style=\"width: 5px; height: 5px;background-color: rgb(0, 109, 255);\"></td><td title=\"Index: [0, 24]&#10;Color: (0, 121, 255)\" style=\"width: 5px; height: 5px;background-color: rgb(0, 121, 255);\"></td><td title=\"Index: [0, 25]&#10;Color: (0, 129, 255)\" style=\"width: 5px; height: 5px;background-color: rgb(0, 129, 255);\"></td><td title=\"Index: [0, 26]&#10;Color: (0, 141, 255)\" style=\"width: 5px; height: 5px;background-color: rgb(0, 141, 255);\"></td><td title=\"Index: [0, 27]&#10;Color: (0, 149, 255)\" style=\"width: 5px; height: 5px;background-color: rgb(0, 149, 255);\"></td><td title=\"Index: [0, 28]&#10;Color: (0, 161, 255)\" style=\"width: 5px; height: 5px;background-color: rgb(0, 161, 255);\"></td><td title=\"Index: [0, 29]&#10;Color: (0, 168, 255)\" style=\"width: 5px; height: 5px;background-color: rgb(0, 168, 255);\"></td><td title=\"Index: [0, 30]&#10;Color: (0, 181, 255)\" style=\"width: 5px; height: 5px;background-color: rgb(0, 181, 255);\"></td><td title=\"Index: [0, 31]&#10;Color: (0, 193, 255)\" style=\"width: 5px; height: 5px;background-color: rgb(0, 193, 255);\"></td><td title=\"Index: [0, 32]&#10;Color: (0, 200, 255)\" style=\"width: 5px; height: 5px;background-color: rgb(0, 200, 255);\"></td><td title=\"Index: [0, 33]&#10;Color: (0, 213, 255)\" style=\"width: 5px; height: 5px;background-color: rgb(0, 213, 255);\"></td><td title=\"Index: [0, 34]&#10;Color: (0, 221, 254)\" style=\"width: 5px; height: 5px;background-color: rgb(0, 221, 254);\"></td><td title=\"Index: [0, 35]&#10;Color: (2, 232, 244)\" style=\"width: 5px; height: 5px;background-color: rgb(2, 232, 244);\"></td><td title=\"Index: [0, 36]&#10;Color: (12, 245, 235)\" style=\"width: 5px; height: 5px;background-color: rgb(12, 245, 235);\"></td><td title=\"Index: [0, 37]&#10;Color: (19, 253, 228)\" style=\"width: 5px; height: 5px;background-color: rgb(19, 253, 228);\"></td><td title=\"Index: [0, 38]&#10;Color: (28, 255, 219)\" style=\"width: 5px; height: 5px;background-color: rgb(28, 255, 219);\"></td><td title=\"Index: [0, 39]&#10;Color: (35, 255, 212)\" style=\"width: 5px; height: 5px;background-color: rgb(35, 255, 212);\"></td><td title=\"Index: [0, 40]&#10;Color: (44, 255, 202)\" style=\"width: 5px; height: 5px;background-color: rgb(44, 255, 202);\"></td><td title=\"Index: [0, 41]&#10;Color: (54, 255, 193)\" style=\"width: 5px; height: 5px;background-color: rgb(54, 255, 193);\"></td><td title=\"Index: [0, 42]&#10;Color: (60, 255, 186)\" style=\"width: 5px; height: 5px;background-color: rgb(60, 255, 186);\"></td><td title=\"Index: [0, 43]&#10;Color: (70, 255, 177)\" style=\"width: 5px; height: 5px;background-color: rgb(70, 255, 177);\"></td><td title=\"Index: [0, 44]&#10;Color: (77, 255, 170)\" style=\"width: 5px; height: 5px;background-color: rgb(77, 255, 170);\"></td><td title=\"Index: [0, 45]&#10;Color: (86, 255, 160)\" style=\"width: 5px; height: 5px;background-color: rgb(86, 255, 160);\"></td><td title=\"Index: [0, 46]&#10;Color: (93, 255, 154)\" style=\"width: 5px; height: 5px;background-color: rgb(93, 255, 154);\"></td><td title=\"Index: [0, 47]&#10;Color: (102, 255, 144)\" style=\"width: 5px; height: 5px;background-color: rgb(102, 255, 144);\"></td><td title=\"Index: [0, 48]&#10;Color: (112, 255, 135)\" style=\"width: 5px; height: 5px;background-color: rgb(112, 255, 135);\"></td><td title=\"Index: [0, 49]&#10;Color: (119, 255, 128)\" style=\"width: 5px; height: 5px;background-color: rgb(119, 255, 128);\"></td><td title=\"Index: [0, 50]&#10;Color: (128, 255, 119)\" style=\"width: 5px; height: 5px;background-color: rgb(128, 255, 119);\"></td><td title=\"Index: [0, 51]&#10;Color: (135, 255, 112)\" style=\"width: 5px; height: 5px;background-color: rgb(135, 255, 112);\"></td><td title=\"Index: [0, 52]&#10;Color: (144, 255, 102)\" style=\"width: 5px; height: 5px;background-color: rgb(144, 255, 102);\"></td><td title=\"Index: [0, 53]&#10;Color: (154, 255, 93)\" style=\"width: 5px; height: 5px;background-color: rgb(154, 255, 93);\"></td><td title=\"Index: [0, 54]&#10;Color: (160, 255, 86)\" style=\"width: 5px; height: 5px;background-color: rgb(160, 255, 86);\"></td><td title=\"Index: [0, 55]&#10;Color: (170, 255, 77)\" style=\"width: 5px; height: 5px;background-color: rgb(170, 255, 77);\"></td><td title=\"Index: [0, 56]&#10;Color: (177, 255, 70)\" style=\"width: 5px; height: 5px;background-color: rgb(177, 255, 70);\"></td><td title=\"Index: [0, 57]&#10;Color: (186, 255, 60)\" style=\"width: 5px; height: 5px;background-color: rgb(186, 255, 60);\"></td><td title=\"Index: [0, 58]&#10;Color: (193, 255, 54)\" style=\"width: 5px; height: 5px;background-color: rgb(193, 255, 54);\"></td><td title=\"Index: [0, 59]&#10;Color: (202, 255, 44)\" style=\"width: 5px; height: 5px;background-color: rgb(202, 255, 44);\"></td><td title=\"Index: [0, 60]&#10;Color: (212, 255, 35)\" style=\"width: 5px; height: 5px;background-color: rgb(212, 255, 35);\"></td><td title=\"Index: [0, 61]&#10;Color: (219, 255, 28)\" style=\"width: 5px; height: 5px;background-color: rgb(219, 255, 28);\"></td><td title=\"Index: [0, 62]&#10;Color: (228, 255, 19)\" style=\"width: 5px; height: 5px;background-color: rgb(228, 255, 19);\"></td><td title=\"Index: [0, 63]&#10;Color: (235, 255, 12)\" style=\"width: 5px; height: 5px;background-color: rgb(235, 255, 12);\"></td><td title=\"Index: [0, 64]&#10;Color: (244, 248, 2)\" style=\"width: 5px; height: 5px;background-color: rgb(244, 248, 2);\"></td><td title=\"Index: [0, 65]&#10;Color: (254, 237, 0)\" style=\"width: 5px; height: 5px;background-color: rgb(254, 237, 0);\"></td><td title=\"Index: [0, 66]&#10;Color: (255, 230, 0)\" style=\"width: 5px; height: 5px;background-color: rgb(255, 230, 0);\"></td><td title=\"Index: [0, 67]&#10;Color: (255, 219, 0)\" style=\"width: 5px; height: 5px;background-color: rgb(255, 219, 0);\"></td><td title=\"Index: [0, 68]&#10;Color: (255, 211, 0)\" style=\"width: 5px; height: 5px;background-color: rgb(255, 211, 0);\"></td><td title=\"Index: [0, 69]&#10;Color: (255, 200, 0)\" style=\"width: 5px; height: 5px;background-color: rgb(255, 200, 0);\"></td><td title=\"Index: [0, 70]&#10;Color: (255, 189, 0)\" style=\"width: 5px; height: 5px;background-color: rgb(255, 189, 0);\"></td><td title=\"Index: [0, 71]&#10;Color: (255, 182, 0)\" style=\"width: 5px; height: 5px;background-color: rgb(255, 182, 0);\"></td><td title=\"Index: [0, 72]&#10;Color: (255, 171, 0)\" style=\"width: 5px; height: 5px;background-color: rgb(255, 171, 0);\"></td><td title=\"Index: [0, 73]&#10;Color: (255, 163, 0)\" style=\"width: 5px; height: 5px;background-color: rgb(255, 163, 0);\"></td><td title=\"Index: [0, 74]&#10;Color: (255, 152, 0)\" style=\"width: 5px; height: 5px;background-color: rgb(255, 152, 0);\"></td><td title=\"Index: [0, 75]&#10;Color: (255, 145, 0)\" style=\"width: 5px; height: 5px;background-color: rgb(255, 145, 0);\"></td><td title=\"Index: [0, 76]&#10;Color: (255, 134, 0)\" style=\"width: 5px; height: 5px;background-color: rgb(255, 134, 0);\"></td><td title=\"Index: [0, 77]&#10;Color: (255, 122, 0)\" style=\"width: 5px; height: 5px;background-color: rgb(255, 122, 0);\"></td><td title=\"Index: [0, 78]&#10;Color: (255, 115, 0)\" style=\"width: 5px; height: 5px;background-color: rgb(255, 115, 0);\"></td><td title=\"Index: [0, 79]&#10;Color: (255, 104, 0)\" style=\"width: 5px; height: 5px;background-color: rgb(255, 104, 0);\"></td><td title=\"Index: [0, 80]&#10;Color: (255, 96, 0)\" style=\"width: 5px; height: 5px;background-color: rgb(255, 96, 0);\"></td><td title=\"Index: [0, 81]&#10;Color: (255, 85, 0)\" style=\"width: 5px; height: 5px;background-color: rgb(255, 85, 0);\"></td><td title=\"Index: [0, 82]&#10;Color: (255, 74, 0)\" style=\"width: 5px; height: 5px;background-color: rgb(255, 74, 0);\"></td><td title=\"Index: [0, 83]&#10;Color: (255, 67, 0)\" style=\"width: 5px; height: 5px;background-color: rgb(255, 67, 0);\"></td><td title=\"Index: [0, 84]&#10;Color: (255, 56, 0)\" style=\"width: 5px; height: 5px;background-color: rgb(255, 56, 0);\"></td><td title=\"Index: [0, 85]&#10;Color: (255, 48, 0)\" style=\"width: 5px; height: 5px;background-color: rgb(255, 48, 0);\"></td><td title=\"Index: [0, 86]&#10;Color: (255, 37, 0)\" style=\"width: 5px; height: 5px;background-color: rgb(255, 37, 0);\"></td><td title=\"Index: [0, 87]&#10;Color: (255, 30, 0)\" style=\"width: 5px; height: 5px;background-color: rgb(255, 30, 0);\"></td><td title=\"Index: [0, 88]&#10;Color: (255, 19, 0)\" style=\"width: 5px; height: 5px;background-color: rgb(255, 19, 0);\"></td><td title=\"Index: [0, 89]&#10;Color: (241, 8, 0)\" style=\"width: 5px; height: 5px;background-color: rgb(241, 8, 0);\"></td><td title=\"Index: [0, 90]&#10;Color: (232, 0, 0)\" style=\"width: 5px; height: 5px;background-color: rgb(232, 0, 0);\"></td><td title=\"Index: [0, 91]&#10;Color: (218, 0, 0)\" style=\"width: 5px; height: 5px;background-color: rgb(218, 0, 0);\"></td><td title=\"Index: [0, 92]&#10;Color: (209, 0, 0)\" style=\"width: 5px; height: 5px;background-color: rgb(209, 0, 0);\"></td><td title=\"Index: [0, 93]&#10;Color: (196, 0, 0)\" style=\"width: 5px; height: 5px;background-color: rgb(196, 0, 0);\"></td><td title=\"Index: [0, 94]&#10;Color: (182, 0, 0)\" style=\"width: 5px; height: 5px;background-color: rgb(182, 0, 0);\"></td><td title=\"Index: [0, 95]&#10;Color: (173, 0, 0)\" style=\"width: 5px; height: 5px;background-color: rgb(173, 0, 0);\"></td><td title=\"Index: [0, 96]&#10;Color: (159, 0, 0)\" style=\"width: 5px; height: 5px;background-color: rgb(159, 0, 0);\"></td><td title=\"Index: [0, 97]&#10;Color: (150, 0, 0)\" style=\"width: 5px; height: 5px;background-color: rgb(150, 0, 0);\"></td><td title=\"Index: [0, 98]&#10;Color: (137, 0, 0)\" style=\"width: 5px; height: 5px;background-color: rgb(137, 0, 0);\"></td><td title=\"Index: [0, 99]&#10;Color: (128, 0, 0)\" style=\"width: 5px; height: 5px;background-color: rgb(128, 0, 0);\"></td></tr></tbody></table>"
       ],
       "metadata": {},
       "output_type": "pyout",
       "prompt_number": 59,
       "text": [
        "array([  0.        ,   0.12693304,   0.25386607,   0.38079911,\n",
        "         0.50773215,   0.63466518,   0.76159822,   0.88853126,\n",
        "         1.01546429,   1.14239733,   1.26933037,   1.3962634 ,\n",
        "         1.52319644,   1.65012947,   1.77706251,   1.90399555,\n",
        "         2.03092858,   2.15786162,   2.28479466,   2.41172769,\n",
        "         2.53866073,   2.66559377,   2.7925268 ,   2.91945984,\n",
        "         3.04639288,   3.17332591,   3.30025895,   3.42719199,\n",
        "         3.55412502,   3.68105806,   3.8079911 ,   3.93492413,\n",
        "         4.06185717,   4.1887902 ,   4.31572324,   4.44265628,\n",
        "         4.56958931,   4.69652235,   4.82345539,   4.95038842,\n",
        "         5.07732146,   5.2042545 ,   5.33118753,   5.45812057,\n",
        "         5.58505361,   5.71198664,   5.83891968,   5.96585272,\n",
        "         6.09278575,   6.21971879,   6.34665183,   6.47358486,\n",
        "         6.6005179 ,   6.72745093,   6.85438397,   6.98131701,\n",
        "         7.10825004,   7.23518308,   7.36211612,   7.48904915,\n",
        "         7.61598219,   7.74291523,   7.86984826,   7.9967813 ,\n",
        "         8.12371434,   8.25064737,   8.37758041,   8.50451345,\n",
        "         8.63144648,   8.75837952,   8.88531256,   9.01224559,\n",
        "         9.13917863,   9.26611167,   9.3930447 ,   9.51997774,\n",
        "         9.64691077,   9.77384381,   9.90077685,  10.02770988,\n",
        "        10.15464292,  10.28157596,  10.40850899,  10.53544203,\n",
        "        10.66237507,  10.7893081 ,  10.91624114,  11.04317418,\n",
        "        11.17010721,  11.29704025,  11.42397329,  11.55090632,\n",
        "        11.67783936,  11.8047724 ,  11.93170543,  12.05863847,\n",
        "        12.1855715 ,  12.31250454,  12.43943758,  12.56637061])"
       ]
      }
     ],
     "prompt_number": 59
    },
    {
     "cell_type": "code",
     "collapsed": false,
     "input": [
      "np.sin(t)"
     ],
     "language": "python",
     "metadata": {},
     "outputs": [
      {
       "html": [
        "<style type=\"text/css\">table.blockgrid {border: none;} .blockgrid tr {border: none;} .blockgrid td {padding: 0px;} #blocksbe92718c-2869-40d5-b595-87b4bd9c0c21 td {border: 1px solid white;}</style><table id=\"blocksbe92718c-2869-40d5-b595-87b4bd9c0c21\" class=\"blockgrid\"><tbody><tr><td title=\"Index: [0, 0]&#10;Color: (125, 255, 122)\" style=\"width: 5px; height: 5px;background-color: rgb(125, 255, 122);\"></td><td title=\"Index: [0, 1]&#10;Color: (177, 255, 70)\" style=\"width: 5px; height: 5px;background-color: rgb(177, 255, 70);\"></td><td title=\"Index: [0, 2]&#10;Color: (228, 255, 19)\" style=\"width: 5px; height: 5px;background-color: rgb(228, 255, 19);\"></td><td title=\"Index: [0, 3]&#10;Color: (255, 211, 0)\" style=\"width: 5px; height: 5px;background-color: rgb(255, 211, 0);\"></td><td title=\"Index: [0, 4]&#10;Color: (255, 156, 0)\" style=\"width: 5px; height: 5px;background-color: rgb(255, 156, 0);\"></td><td title=\"Index: [0, 5]&#10;Color: (255, 108, 0)\" style=\"width: 5px; height: 5px;background-color: rgb(255, 108, 0);\"></td><td title=\"Index: [0, 6]&#10;Color: (255, 59, 0)\" style=\"width: 5px; height: 5px;background-color: rgb(255, 59, 0);\"></td><td title=\"Index: [0, 7]&#10;Color: (255, 19, 0)\" style=\"width: 5px; height: 5px;background-color: rgb(255, 19, 0);\"></td><td title=\"Index: [0, 8]&#10;Color: (214, 0, 0)\" style=\"width: 5px; height: 5px;background-color: rgb(214, 0, 0);\"></td><td title=\"Index: [0, 9]&#10;Color: (178, 0, 0)\" style=\"width: 5px; height: 5px;background-color: rgb(178, 0, 0);\"></td><td title=\"Index: [0, 10]&#10;Color: (150, 0, 0)\" style=\"width: 5px; height: 5px;background-color: rgb(150, 0, 0);\"></td><td title=\"Index: [0, 11]&#10;Color: (132, 0, 0)\" style=\"width: 5px; height: 5px;background-color: rgb(132, 0, 0);\"></td><td title=\"Index: [0, 12]&#10;Color: (128, 0, 0)\" style=\"width: 5px; height: 5px;background-color: rgb(128, 0, 0);\"></td><td title=\"Index: [0, 13]&#10;Color: (128, 0, 0)\" style=\"width: 5px; height: 5px;background-color: rgb(128, 0, 0);\"></td><td title=\"Index: [0, 14]&#10;Color: (137, 0, 0)\" style=\"width: 5px; height: 5px;background-color: rgb(137, 0, 0);\"></td><td title=\"Index: [0, 15]&#10;Color: (159, 0, 0)\" style=\"width: 5px; height: 5px;background-color: rgb(159, 0, 0);\"></td><td title=\"Index: [0, 16]&#10;Color: (187, 0, 0)\" style=\"width: 5px; height: 5px;background-color: rgb(187, 0, 0);\"></td><td title=\"Index: [0, 17]&#10;Color: (223, 0, 0)\" style=\"width: 5px; height: 5px;background-color: rgb(223, 0, 0);\"></td><td title=\"Index: [0, 18]&#10;Color: (255, 30, 0)\" style=\"width: 5px; height: 5px;background-color: rgb(255, 30, 0);\"></td><td title=\"Index: [0, 19]&#10;Color: (255, 71, 0)\" style=\"width: 5px; height: 5px;background-color: rgb(255, 71, 0);\"></td><td title=\"Index: [0, 20]&#10;Color: (255, 119, 0)\" style=\"width: 5px; height: 5px;background-color: rgb(255, 119, 0);\"></td><td title=\"Index: [0, 21]&#10;Color: (255, 171, 0)\" style=\"width: 5px; height: 5px;background-color: rgb(255, 171, 0);\"></td><td title=\"Index: [0, 22]&#10;Color: (255, 226, 0)\" style=\"width: 5px; height: 5px;background-color: rgb(255, 226, 0);\"></td><td title=\"Index: [0, 23]&#10;Color: (215, 255, 31)\" style=\"width: 5px; height: 5px;background-color: rgb(215, 255, 31);\"></td><td title=\"Index: [0, 24]&#10;Color: (164, 255, 83)\" style=\"width: 5px; height: 5px;background-color: rgb(164, 255, 83);\"></td><td title=\"Index: [0, 25]&#10;Color: (109, 255, 138)\" style=\"width: 5px; height: 5px;background-color: rgb(109, 255, 138);\"></td><td title=\"Index: [0, 26]&#10;Color: (57, 255, 190)\" style=\"width: 5px; height: 5px;background-color: rgb(57, 255, 190);\"></td><td title=\"Index: [0, 27]&#10;Color: (6, 237, 241)\" style=\"width: 5px; height: 5px;background-color: rgb(6, 237, 241);\"></td><td title=\"Index: [0, 28]&#10;Color: (0, 177, 255)\" style=\"width: 5px; height: 5px;background-color: rgb(0, 177, 255);\"></td><td title=\"Index: [0, 29]&#10;Color: (0, 121, 255)\" style=\"width: 5px; height: 5px;background-color: rgb(0, 121, 255);\"></td><td title=\"Index: [0, 30]&#10;Color: (0, 65, 255)\" style=\"width: 5px; height: 5px;background-color: rgb(0, 65, 255);\"></td><td title=\"Index: [0, 31]&#10;Color: (0, 17, 255)\" style=\"width: 5px; height: 5px;background-color: rgb(0, 17, 255);\"></td><td title=\"Index: [0, 32]&#10;Color: (0, 0, 246)\" style=\"width: 5px; height: 5px;background-color: rgb(0, 0, 246);\"></td><td title=\"Index: [0, 33]&#10;Color: (0, 0, 205)\" style=\"width: 5px; height: 5px;background-color: rgb(0, 0, 205);\"></td><td title=\"Index: [0, 34]&#10;Color: (0, 0, 168)\" style=\"width: 5px; height: 5px;background-color: rgb(0, 0, 168);\"></td><td title=\"Index: [0, 35]&#10;Color: (0, 0, 146)\" style=\"width: 5px; height: 5px;background-color: rgb(0, 0, 146);\"></td><td title=\"Index: [0, 36]&#10;Color: (0, 0, 132)\" style=\"width: 5px; height: 5px;background-color: rgb(0, 0, 132);\"></td><td title=\"Index: [0, 37]&#10;Color: (0, 0, 128)\" style=\"width: 5px; height: 5px;background-color: rgb(0, 0, 128);\"></td><td title=\"Index: [0, 38]&#10;Color: (0, 0, 128)\" style=\"width: 5px; height: 5px;background-color: rgb(0, 0, 128);\"></td><td title=\"Index: [0, 39]&#10;Color: (0, 0, 141)\" style=\"width: 5px; height: 5px;background-color: rgb(0, 0, 141);\"></td><td title=\"Index: [0, 40]&#10;Color: (0, 0, 164)\" style=\"width: 5px; height: 5px;background-color: rgb(0, 0, 164);\"></td><td title=\"Index: [0, 41]&#10;Color: (0, 0, 196)\" style=\"width: 5px; height: 5px;background-color: rgb(0, 0, 196);\"></td><td title=\"Index: [0, 42]&#10;Color: (0, 0, 232)\" style=\"width: 5px; height: 5px;background-color: rgb(0, 0, 232);\"></td><td title=\"Index: [0, 43]&#10;Color: (0, 4, 255)\" style=\"width: 5px; height: 5px;background-color: rgb(0, 4, 255);\"></td><td title=\"Index: [0, 44]&#10;Color: (0, 52, 255)\" style=\"width: 5px; height: 5px;background-color: rgb(0, 52, 255);\"></td><td title=\"Index: [0, 45]&#10;Color: (0, 105, 255)\" style=\"width: 5px; height: 5px;background-color: rgb(0, 105, 255);\"></td><td title=\"Index: [0, 46]&#10;Color: (0, 161, 255)\" style=\"width: 5px; height: 5px;background-color: rgb(0, 161, 255);\"></td><td title=\"Index: [0, 47]&#10;Color: (0, 225, 251)\" style=\"width: 5px; height: 5px;background-color: rgb(0, 225, 251);\"></td><td title=\"Index: [0, 48]&#10;Color: (44, 255, 202)\" style=\"width: 5px; height: 5px;background-color: rgb(44, 255, 202);\"></td><td title=\"Index: [0, 49]&#10;Color: (96, 255, 151)\" style=\"width: 5px; height: 5px;background-color: rgb(96, 255, 151);\"></td><td title=\"Index: [0, 50]&#10;Color: (151, 255, 96)\" style=\"width: 5px; height: 5px;background-color: rgb(151, 255, 96);\"></td><td title=\"Index: [0, 51]&#10;Color: (202, 255, 44)\" style=\"width: 5px; height: 5px;background-color: rgb(202, 255, 44);\"></td><td title=\"Index: [0, 52]&#10;Color: (251, 241, 0)\" style=\"width: 5px; height: 5px;background-color: rgb(251, 241, 0);\"></td><td title=\"Index: [0, 53]&#10;Color: (255, 182, 0)\" style=\"width: 5px; height: 5px;background-color: rgb(255, 182, 0);\"></td><td title=\"Index: [0, 54]&#10;Color: (255, 130, 0)\" style=\"width: 5px; height: 5px;background-color: rgb(255, 130, 0);\"></td><td title=\"Index: [0, 55]&#10;Color: (255, 82, 0)\" style=\"width: 5px; height: 5px;background-color: rgb(255, 82, 0);\"></td><td title=\"Index: [0, 56]&#10;Color: (255, 37, 0)\" style=\"width: 5px; height: 5px;background-color: rgb(255, 37, 0);\"></td><td title=\"Index: [0, 57]&#10;Color: (232, 0, 0)\" style=\"width: 5px; height: 5px;background-color: rgb(232, 0, 0);\"></td><td title=\"Index: [0, 58]&#10;Color: (196, 0, 0)\" style=\"width: 5px; height: 5px;background-color: rgb(196, 0, 0);\"></td><td title=\"Index: [0, 59]&#10;Color: (164, 0, 0)\" style=\"width: 5px; height: 5px;background-color: rgb(164, 0, 0);\"></td><td title=\"Index: [0, 60]&#10;Color: (141, 0, 0)\" style=\"width: 5px; height: 5px;background-color: rgb(141, 0, 0);\"></td><td title=\"Index: [0, 61]&#10;Color: (128, 0, 0)\" style=\"width: 5px; height: 5px;background-color: rgb(128, 0, 0);\"></td><td title=\"Index: [0, 62]&#10;Color: (128, 0, 0)\" style=\"width: 5px; height: 5px;background-color: rgb(128, 0, 0);\"></td><td title=\"Index: [0, 63]&#10;Color: (132, 0, 0)\" style=\"width: 5px; height: 5px;background-color: rgb(132, 0, 0);\"></td><td title=\"Index: [0, 64]&#10;Color: (146, 0, 0)\" style=\"width: 5px; height: 5px;background-color: rgb(146, 0, 0);\"></td><td title=\"Index: [0, 65]&#10;Color: (168, 0, 0)\" style=\"width: 5px; height: 5px;background-color: rgb(168, 0, 0);\"></td><td title=\"Index: [0, 66]&#10;Color: (205, 0, 0)\" style=\"width: 5px; height: 5px;background-color: rgb(205, 0, 0);\"></td><td title=\"Index: [0, 67]&#10;Color: (246, 11, 0)\" style=\"width: 5px; height: 5px;background-color: rgb(246, 11, 0);\"></td><td title=\"Index: [0, 68]&#10;Color: (255, 48, 0)\" style=\"width: 5px; height: 5px;background-color: rgb(255, 48, 0);\"></td><td title=\"Index: [0, 69]&#10;Color: (255, 93, 0)\" style=\"width: 5px; height: 5px;background-color: rgb(255, 93, 0);\"></td><td title=\"Index: [0, 70]&#10;Color: (255, 145, 0)\" style=\"width: 5px; height: 5px;background-color: rgb(255, 145, 0);\"></td><td title=\"Index: [0, 71]&#10;Color: (255, 196, 0)\" style=\"width: 5px; height: 5px;background-color: rgb(255, 196, 0);\"></td><td title=\"Index: [0, 72]&#10;Color: (241, 252, 6)\" style=\"width: 5px; height: 5px;background-color: rgb(241, 252, 6);\"></td><td title=\"Index: [0, 73]&#10;Color: (190, 255, 57)\" style=\"width: 5px; height: 5px;background-color: rgb(190, 255, 57);\"></td><td title=\"Index: [0, 74]&#10;Color: (138, 255, 109)\" style=\"width: 5px; height: 5px;background-color: rgb(138, 255, 109);\"></td><td title=\"Index: [0, 75]&#10;Color: (83, 255, 164)\" style=\"width: 5px; height: 5px;background-color: rgb(83, 255, 164);\"></td><td title=\"Index: [0, 76]&#10;Color: (31, 255, 215)\" style=\"width: 5px; height: 5px;background-color: rgb(31, 255, 215);\"></td><td title=\"Index: [0, 77]&#10;Color: (0, 209, 255)\" style=\"width: 5px; height: 5px;background-color: rgb(0, 209, 255);\"></td><td title=\"Index: [0, 78]&#10;Color: (0, 149, 255)\" style=\"width: 5px; height: 5px;background-color: rgb(0, 149, 255);\"></td><td title=\"Index: [0, 79]&#10;Color: (0, 93, 255)\" style=\"width: 5px; height: 5px;background-color: rgb(0, 93, 255);\"></td><td title=\"Index: [0, 80]&#10;Color: (0, 41, 255)\" style=\"width: 5px; height: 5px;background-color: rgb(0, 41, 255);\"></td><td title=\"Index: [0, 81]&#10;Color: (0, 0, 255)\" style=\"width: 5px; height: 5px;background-color: rgb(0, 0, 255);\"></td><td title=\"Index: [0, 82]&#10;Color: (0, 0, 223)\" style=\"width: 5px; height: 5px;background-color: rgb(0, 0, 223);\"></td><td title=\"Index: [0, 83]&#10;Color: (0, 0, 187)\" style=\"width: 5px; height: 5px;background-color: rgb(0, 0, 187);\"></td><td title=\"Index: [0, 84]&#10;Color: (0, 0, 159)\" style=\"width: 5px; height: 5px;background-color: rgb(0, 0, 159);\"></td><td title=\"Index: [0, 85]&#10;Color: (0, 0, 137)\" style=\"width: 5px; height: 5px;background-color: rgb(0, 0, 137);\"></td><td title=\"Index: [0, 86]&#10;Color: (0, 0, 128)\" style=\"width: 5px; height: 5px;background-color: rgb(0, 0, 128);\"></td><td title=\"Index: [0, 87]&#10;Color: (0, 0, 128)\" style=\"width: 5px; height: 5px;background-color: rgb(0, 0, 128);\"></td><td title=\"Index: [0, 88]&#10;Color: (0, 0, 132)\" style=\"width: 5px; height: 5px;background-color: rgb(0, 0, 132);\"></td><td title=\"Index: [0, 89]&#10;Color: (0, 0, 150)\" style=\"width: 5px; height: 5px;background-color: rgb(0, 0, 150);\"></td><td title=\"Index: [0, 90]&#10;Color: (0, 0, 178)\" style=\"width: 5px; height: 5px;background-color: rgb(0, 0, 178);\"></td><td title=\"Index: [0, 91]&#10;Color: (0, 0, 214)\" style=\"width: 5px; height: 5px;background-color: rgb(0, 0, 214);\"></td><td title=\"Index: [0, 92]&#10;Color: (0, 0, 255)\" style=\"width: 5px; height: 5px;background-color: rgb(0, 0, 255);\"></td><td title=\"Index: [0, 93]&#10;Color: (0, 29, 255)\" style=\"width: 5px; height: 5px;background-color: rgb(0, 29, 255);\"></td><td title=\"Index: [0, 94]&#10;Color: (0, 81, 255)\" style=\"width: 5px; height: 5px;background-color: rgb(0, 81, 255);\"></td><td title=\"Index: [0, 95]&#10;Color: (0, 133, 255)\" style=\"width: 5px; height: 5px;background-color: rgb(0, 133, 255);\"></td><td title=\"Index: [0, 96]&#10;Color: (0, 193, 255)\" style=\"width: 5px; height: 5px;background-color: rgb(0, 193, 255);\"></td><td title=\"Index: [0, 97]&#10;Color: (19, 253, 228)\" style=\"width: 5px; height: 5px;background-color: rgb(19, 253, 228);\"></td><td title=\"Index: [0, 98]&#10;Color: (70, 255, 177)\" style=\"width: 5px; height: 5px;background-color: rgb(70, 255, 177);\"></td><td title=\"Index: [0, 99]&#10;Color: (122, 255, 125)\" style=\"width: 5px; height: 5px;background-color: rgb(122, 255, 125);\"></td></tr></tbody></table>"
       ],
       "metadata": {},
       "output_type": "pyout",
       "prompt_number": 60,
       "text": [
        "array([  0.00000000e+00,   1.26592454e-01,   2.51147987e-01,\n",
        "         3.71662456e-01,   4.86196736e-01,   5.92907929e-01,\n",
        "         6.90079011e-01,   7.76146464e-01,   8.49725430e-01,\n",
        "         9.09631995e-01,   9.54902241e-01,   9.84807753e-01,\n",
        "         9.98867339e-01,   9.96854776e-01,   9.78802446e-01,\n",
        "         9.45000819e-01,   8.95993774e-01,   8.32569855e-01,\n",
        "         7.55749574e-01,   6.66769001e-01,   5.67059864e-01,\n",
        "         4.58226522e-01,   3.42020143e-01,   2.20310533e-01,\n",
        "         9.50560433e-02,  -3.17279335e-02,  -1.58001396e-01,\n",
        "        -2.81732557e-01,  -4.00930535e-01,  -5.13677392e-01,\n",
        "        -6.18158986e-01,  -7.12694171e-01,  -7.95761841e-01,\n",
        "        -8.66025404e-01,  -9.22354294e-01,  -9.63842159e-01,\n",
        "        -9.89821442e-01,  -9.99874128e-01,  -9.93838464e-01,\n",
        "        -9.71811568e-01,  -9.34147860e-01,  -8.81453363e-01,\n",
        "        -8.14575952e-01,  -7.34591709e-01,  -6.42787610e-01,\n",
        "        -5.40640817e-01,  -4.29794912e-01,  -3.12033446e-01,\n",
        "        -1.89251244e-01,  -6.34239197e-02,   6.34239197e-02,\n",
        "         1.89251244e-01,   3.12033446e-01,   4.29794912e-01,\n",
        "         5.40640817e-01,   6.42787610e-01,   7.34591709e-01,\n",
        "         8.14575952e-01,   8.81453363e-01,   9.34147860e-01,\n",
        "         9.71811568e-01,   9.93838464e-01,   9.99874128e-01,\n",
        "         9.89821442e-01,   9.63842159e-01,   9.22354294e-01,\n",
        "         8.66025404e-01,   7.95761841e-01,   7.12694171e-01,\n",
        "         6.18158986e-01,   5.13677392e-01,   4.00930535e-01,\n",
        "         2.81732557e-01,   1.58001396e-01,   3.17279335e-02,\n",
        "        -9.50560433e-02,  -2.20310533e-01,  -3.42020143e-01,\n",
        "        -4.58226522e-01,  -5.67059864e-01,  -6.66769001e-01,\n",
        "        -7.55749574e-01,  -8.32569855e-01,  -8.95993774e-01,\n",
        "        -9.45000819e-01,  -9.78802446e-01,  -9.96854776e-01,\n",
        "        -9.98867339e-01,  -9.84807753e-01,  -9.54902241e-01,\n",
        "        -9.09631995e-01,  -8.49725430e-01,  -7.76146464e-01,\n",
        "        -6.90079011e-01,  -5.92907929e-01,  -4.86196736e-01,\n",
        "        -3.71662456e-01,  -2.51147987e-01,  -1.26592454e-01,\n",
        "        -4.89858720e-16])"
       ]
      }
     ],
     "prompt_number": 60
    },
    {
     "cell_type": "code",
     "collapsed": false,
     "input": [
      "np.exp(t)"
     ],
     "language": "python",
     "metadata": {},
     "outputs": [
      {
       "html": [
        "<style type=\"text/css\">table.blockgrid {border: none;} .blockgrid tr {border: none;} .blockgrid td {padding: 0px;} #blockse6011377-a8bf-4da7-a7ae-a586affcf85e td {border: 1px solid white;}</style><table id=\"blockse6011377-a8bf-4da7-a7ae-a586affcf85e\" class=\"blockgrid\"><tbody><tr><td title=\"Index: [0, 0]&#10;Color: (0, 0, 128)\" style=\"width: 5px; height: 5px;background-color: rgb(0, 0, 128);\"></td><td title=\"Index: [0, 1]&#10;Color: (0, 0, 128)\" style=\"width: 5px; height: 5px;background-color: rgb(0, 0, 128);\"></td><td title=\"Index: [0, 2]&#10;Color: (0, 0, 128)\" style=\"width: 5px; height: 5px;background-color: rgb(0, 0, 128);\"></td><td title=\"Index: [0, 3]&#10;Color: (0, 0, 128)\" style=\"width: 5px; height: 5px;background-color: rgb(0, 0, 128);\"></td><td title=\"Index: [0, 4]&#10;Color: (0, 0, 128)\" style=\"width: 5px; height: 5px;background-color: rgb(0, 0, 128);\"></td><td title=\"Index: [0, 5]&#10;Color: (0, 0, 128)\" style=\"width: 5px; height: 5px;background-color: rgb(0, 0, 128);\"></td><td title=\"Index: [0, 6]&#10;Color: (0, 0, 128)\" style=\"width: 5px; height: 5px;background-color: rgb(0, 0, 128);\"></td><td title=\"Index: [0, 7]&#10;Color: (0, 0, 128)\" style=\"width: 5px; height: 5px;background-color: rgb(0, 0, 128);\"></td><td title=\"Index: [0, 8]&#10;Color: (0, 0, 128)\" style=\"width: 5px; height: 5px;background-color: rgb(0, 0, 128);\"></td><td title=\"Index: [0, 9]&#10;Color: (0, 0, 128)\" style=\"width: 5px; height: 5px;background-color: rgb(0, 0, 128);\"></td><td title=\"Index: [0, 10]&#10;Color: (0, 0, 128)\" style=\"width: 5px; height: 5px;background-color: rgb(0, 0, 128);\"></td><td title=\"Index: [0, 11]&#10;Color: (0, 0, 128)\" style=\"width: 5px; height: 5px;background-color: rgb(0, 0, 128);\"></td><td title=\"Index: [0, 12]&#10;Color: (0, 0, 128)\" style=\"width: 5px; height: 5px;background-color: rgb(0, 0, 128);\"></td><td title=\"Index: [0, 13]&#10;Color: (0, 0, 128)\" style=\"width: 5px; height: 5px;background-color: rgb(0, 0, 128);\"></td><td title=\"Index: [0, 14]&#10;Color: (0, 0, 128)\" style=\"width: 5px; height: 5px;background-color: rgb(0, 0, 128);\"></td><td title=\"Index: [0, 15]&#10;Color: (0, 0, 128)\" style=\"width: 5px; height: 5px;background-color: rgb(0, 0, 128);\"></td><td title=\"Index: [0, 16]&#10;Color: (0, 0, 128)\" style=\"width: 5px; height: 5px;background-color: rgb(0, 0, 128);\"></td><td title=\"Index: [0, 17]&#10;Color: (0, 0, 128)\" style=\"width: 5px; height: 5px;background-color: rgb(0, 0, 128);\"></td><td title=\"Index: [0, 18]&#10;Color: (0, 0, 128)\" style=\"width: 5px; height: 5px;background-color: rgb(0, 0, 128);\"></td><td title=\"Index: [0, 19]&#10;Color: (0, 0, 128)\" style=\"width: 5px; height: 5px;background-color: rgb(0, 0, 128);\"></td><td title=\"Index: [0, 20]&#10;Color: (0, 0, 128)\" style=\"width: 5px; height: 5px;background-color: rgb(0, 0, 128);\"></td><td title=\"Index: [0, 21]&#10;Color: (0, 0, 128)\" style=\"width: 5px; height: 5px;background-color: rgb(0, 0, 128);\"></td><td title=\"Index: [0, 22]&#10;Color: (0, 0, 128)\" style=\"width: 5px; height: 5px;background-color: rgb(0, 0, 128);\"></td><td title=\"Index: [0, 23]&#10;Color: (0, 0, 128)\" style=\"width: 5px; height: 5px;background-color: rgb(0, 0, 128);\"></td><td title=\"Index: [0, 24]&#10;Color: (0, 0, 128)\" style=\"width: 5px; height: 5px;background-color: rgb(0, 0, 128);\"></td><td title=\"Index: [0, 25]&#10;Color: (0, 0, 128)\" style=\"width: 5px; height: 5px;background-color: rgb(0, 0, 128);\"></td><td title=\"Index: [0, 26]&#10;Color: (0, 0, 128)\" style=\"width: 5px; height: 5px;background-color: rgb(0, 0, 128);\"></td><td title=\"Index: [0, 27]&#10;Color: (0, 0, 128)\" style=\"width: 5px; height: 5px;background-color: rgb(0, 0, 128);\"></td><td title=\"Index: [0, 28]&#10;Color: (0, 0, 128)\" style=\"width: 5px; height: 5px;background-color: rgb(0, 0, 128);\"></td><td title=\"Index: [0, 29]&#10;Color: (0, 0, 128)\" style=\"width: 5px; height: 5px;background-color: rgb(0, 0, 128);\"></td><td title=\"Index: [0, 30]&#10;Color: (0, 0, 128)\" style=\"width: 5px; height: 5px;background-color: rgb(0, 0, 128);\"></td><td title=\"Index: [0, 31]&#10;Color: (0, 0, 128)\" style=\"width: 5px; height: 5px;background-color: rgb(0, 0, 128);\"></td><td title=\"Index: [0, 32]&#10;Color: (0, 0, 128)\" style=\"width: 5px; height: 5px;background-color: rgb(0, 0, 128);\"></td><td title=\"Index: [0, 33]&#10;Color: (0, 0, 128)\" style=\"width: 5px; height: 5px;background-color: rgb(0, 0, 128);\"></td><td title=\"Index: [0, 34]&#10;Color: (0, 0, 128)\" style=\"width: 5px; height: 5px;background-color: rgb(0, 0, 128);\"></td><td title=\"Index: [0, 35]&#10;Color: (0, 0, 128)\" style=\"width: 5px; height: 5px;background-color: rgb(0, 0, 128);\"></td><td title=\"Index: [0, 36]&#10;Color: (0, 0, 128)\" style=\"width: 5px; height: 5px;background-color: rgb(0, 0, 128);\"></td><td title=\"Index: [0, 37]&#10;Color: (0, 0, 128)\" style=\"width: 5px; height: 5px;background-color: rgb(0, 0, 128);\"></td><td title=\"Index: [0, 38]&#10;Color: (0, 0, 128)\" style=\"width: 5px; height: 5px;background-color: rgb(0, 0, 128);\"></td><td title=\"Index: [0, 39]&#10;Color: (0, 0, 128)\" style=\"width: 5px; height: 5px;background-color: rgb(0, 0, 128);\"></td><td title=\"Index: [0, 40]&#10;Color: (0, 0, 128)\" style=\"width: 5px; height: 5px;background-color: rgb(0, 0, 128);\"></td><td title=\"Index: [0, 41]&#10;Color: (0, 0, 128)\" style=\"width: 5px; height: 5px;background-color: rgb(0, 0, 128);\"></td><td title=\"Index: [0, 42]&#10;Color: (0, 0, 128)\" style=\"width: 5px; height: 5px;background-color: rgb(0, 0, 128);\"></td><td title=\"Index: [0, 43]&#10;Color: (0, 0, 128)\" style=\"width: 5px; height: 5px;background-color: rgb(0, 0, 128);\"></td><td title=\"Index: [0, 44]&#10;Color: (0, 0, 128)\" style=\"width: 5px; height: 5px;background-color: rgb(0, 0, 128);\"></td><td title=\"Index: [0, 45]&#10;Color: (0, 0, 128)\" style=\"width: 5px; height: 5px;background-color: rgb(0, 0, 128);\"></td><td title=\"Index: [0, 46]&#10;Color: (0, 0, 128)\" style=\"width: 5px; height: 5px;background-color: rgb(0, 0, 128);\"></td><td title=\"Index: [0, 47]&#10;Color: (0, 0, 128)\" style=\"width: 5px; height: 5px;background-color: rgb(0, 0, 128);\"></td><td title=\"Index: [0, 48]&#10;Color: (0, 0, 128)\" style=\"width: 5px; height: 5px;background-color: rgb(0, 0, 128);\"></td><td title=\"Index: [0, 49]&#10;Color: (0, 0, 128)\" style=\"width: 5px; height: 5px;background-color: rgb(0, 0, 128);\"></td><td title=\"Index: [0, 50]&#10;Color: (0, 0, 128)\" style=\"width: 5px; height: 5px;background-color: rgb(0, 0, 128);\"></td><td title=\"Index: [0, 51]&#10;Color: (0, 0, 128)\" style=\"width: 5px; height: 5px;background-color: rgb(0, 0, 128);\"></td><td title=\"Index: [0, 52]&#10;Color: (0, 0, 128)\" style=\"width: 5px; height: 5px;background-color: rgb(0, 0, 128);\"></td><td title=\"Index: [0, 53]&#10;Color: (0, 0, 128)\" style=\"width: 5px; height: 5px;background-color: rgb(0, 0, 128);\"></td><td title=\"Index: [0, 54]&#10;Color: (0, 0, 128)\" style=\"width: 5px; height: 5px;background-color: rgb(0, 0, 128);\"></td><td title=\"Index: [0, 55]&#10;Color: (0, 0, 128)\" style=\"width: 5px; height: 5px;background-color: rgb(0, 0, 128);\"></td><td title=\"Index: [0, 56]&#10;Color: (0, 0, 132)\" style=\"width: 5px; height: 5px;background-color: rgb(0, 0, 132);\"></td><td title=\"Index: [0, 57]&#10;Color: (0, 0, 132)\" style=\"width: 5px; height: 5px;background-color: rgb(0, 0, 132);\"></td><td title=\"Index: [0, 58]&#10;Color: (0, 0, 132)\" style=\"width: 5px; height: 5px;background-color: rgb(0, 0, 132);\"></td><td title=\"Index: [0, 59]&#10;Color: (0, 0, 132)\" style=\"width: 5px; height: 5px;background-color: rgb(0, 0, 132);\"></td><td title=\"Index: [0, 60]&#10;Color: (0, 0, 132)\" style=\"width: 5px; height: 5px;background-color: rgb(0, 0, 132);\"></td><td title=\"Index: [0, 61]&#10;Color: (0, 0, 137)\" style=\"width: 5px; height: 5px;background-color: rgb(0, 0, 137);\"></td><td title=\"Index: [0, 62]&#10;Color: (0, 0, 137)\" style=\"width: 5px; height: 5px;background-color: rgb(0, 0, 137);\"></td><td title=\"Index: [0, 63]&#10;Color: (0, 0, 137)\" style=\"width: 5px; height: 5px;background-color: rgb(0, 0, 137);\"></td><td title=\"Index: [0, 64]&#10;Color: (0, 0, 141)\" style=\"width: 5px; height: 5px;background-color: rgb(0, 0, 141);\"></td><td title=\"Index: [0, 65]&#10;Color: (0, 0, 141)\" style=\"width: 5px; height: 5px;background-color: rgb(0, 0, 141);\"></td><td title=\"Index: [0, 66]&#10;Color: (0, 0, 141)\" style=\"width: 5px; height: 5px;background-color: rgb(0, 0, 141);\"></td><td title=\"Index: [0, 67]&#10;Color: (0, 0, 146)\" style=\"width: 5px; height: 5px;background-color: rgb(0, 0, 146);\"></td><td title=\"Index: [0, 68]&#10;Color: (0, 0, 150)\" style=\"width: 5px; height: 5px;background-color: rgb(0, 0, 150);\"></td><td title=\"Index: [0, 69]&#10;Color: (0, 0, 150)\" style=\"width: 5px; height: 5px;background-color: rgb(0, 0, 150);\"></td><td title=\"Index: [0, 70]&#10;Color: (0, 0, 155)\" style=\"width: 5px; height: 5px;background-color: rgb(0, 0, 155);\"></td><td title=\"Index: [0, 71]&#10;Color: (0, 0, 159)\" style=\"width: 5px; height: 5px;background-color: rgb(0, 0, 159);\"></td><td title=\"Index: [0, 72]&#10;Color: (0, 0, 164)\" style=\"width: 5px; height: 5px;background-color: rgb(0, 0, 164);\"></td><td title=\"Index: [0, 73]&#10;Color: (0, 0, 168)\" style=\"width: 5px; height: 5px;background-color: rgb(0, 0, 168);\"></td><td title=\"Index: [0, 74]&#10;Color: (0, 0, 173)\" style=\"width: 5px; height: 5px;background-color: rgb(0, 0, 173);\"></td><td title=\"Index: [0, 75]&#10;Color: (0, 0, 182)\" style=\"width: 5px; height: 5px;background-color: rgb(0, 0, 182);\"></td><td title=\"Index: [0, 76]&#10;Color: (0, 0, 187)\" style=\"width: 5px; height: 5px;background-color: rgb(0, 0, 187);\"></td><td title=\"Index: [0, 77]&#10;Color: (0, 0, 196)\" style=\"width: 5px; height: 5px;background-color: rgb(0, 0, 196);\"></td><td title=\"Index: [0, 78]&#10;Color: (0, 0, 205)\" style=\"width: 5px; height: 5px;background-color: rgb(0, 0, 205);\"></td><td title=\"Index: [0, 79]&#10;Color: (0, 0, 218)\" style=\"width: 5px; height: 5px;background-color: rgb(0, 0, 218);\"></td><td title=\"Index: [0, 80]&#10;Color: (0, 0, 227)\" style=\"width: 5px; height: 5px;background-color: rgb(0, 0, 227);\"></td><td title=\"Index: [0, 81]&#10;Color: (0, 0, 246)\" style=\"width: 5px; height: 5px;background-color: rgb(0, 0, 246);\"></td><td title=\"Index: [0, 82]&#10;Color: (0, 0, 255)\" style=\"width: 5px; height: 5px;background-color: rgb(0, 0, 255);\"></td><td title=\"Index: [0, 83]&#10;Color: (0, 4, 255)\" style=\"width: 5px; height: 5px;background-color: rgb(0, 4, 255);\"></td><td title=\"Index: [0, 84]&#10;Color: (0, 25, 255)\" style=\"width: 5px; height: 5px;background-color: rgb(0, 25, 255);\"></td><td title=\"Index: [0, 85]&#10;Color: (0, 45, 255)\" style=\"width: 5px; height: 5px;background-color: rgb(0, 45, 255);\"></td><td title=\"Index: [0, 86]&#10;Color: (0, 68, 255)\" style=\"width: 5px; height: 5px;background-color: rgb(0, 68, 255);\"></td><td title=\"Index: [0, 87]&#10;Color: (0, 93, 255)\" style=\"width: 5px; height: 5px;background-color: rgb(0, 93, 255);\"></td><td title=\"Index: [0, 88]&#10;Color: (0, 125, 255)\" style=\"width: 5px; height: 5px;background-color: rgb(0, 125, 255);\"></td><td title=\"Index: [0, 89]&#10;Color: (0, 157, 255)\" style=\"width: 5px; height: 5px;background-color: rgb(0, 157, 255);\"></td><td title=\"Index: [0, 90]&#10;Color: (0, 197, 255)\" style=\"width: 5px; height: 5px;background-color: rgb(0, 197, 255);\"></td><td title=\"Index: [0, 91]&#10;Color: (9, 241, 238)\" style=\"width: 5px; height: 5px;background-color: rgb(9, 241, 238);\"></td><td title=\"Index: [0, 92]&#10;Color: (51, 255, 196)\" style=\"width: 5px; height: 5px;background-color: rgb(51, 255, 196);\"></td><td title=\"Index: [0, 93]&#10;Color: (96, 255, 151)\" style=\"width: 5px; height: 5px;background-color: rgb(96, 255, 151);\"></td><td title=\"Index: [0, 94]&#10;Color: (148, 255, 99)\" style=\"width: 5px; height: 5px;background-color: rgb(148, 255, 99);\"></td><td title=\"Index: [0, 95]&#10;Color: (209, 255, 38)\" style=\"width: 5px; height: 5px;background-color: rgb(209, 255, 38);\"></td><td title=\"Index: [0, 96]&#10;Color: (255, 215, 0)\" style=\"width: 5px; height: 5px;background-color: rgb(255, 215, 0);\"></td><td title=\"Index: [0, 97]&#10;Color: (255, 126, 0)\" style=\"width: 5px; height: 5px;background-color: rgb(255, 126, 0);\"></td><td title=\"Index: [0, 98]&#10;Color: (255, 26, 0)\" style=\"width: 5px; height: 5px;background-color: rgb(255, 26, 0);\"></td><td title=\"Index: [0, 99]&#10;Color: (128, 0, 0)\" style=\"width: 5px; height: 5px;background-color: rgb(128, 0, 0);\"></td></tr></tbody></table>"
       ],
       "metadata": {},
       "output_type": "pyout",
       "prompt_number": 61,
       "text": [
        "array([  1.00000000e+00,   1.13534099e+00,   1.28899916e+00,\n",
        "         1.46345358e+00,   1.66151884e+00,   1.88639044e+00,\n",
        "         2.14169639e+00,   2.43155569e+00,   2.76064485e+00,\n",
        "         3.13427325e+00,   3.55846889e+00,   4.04007559e+00,\n",
        "         4.58686341e+00,   5.20765404e+00,   5.91246309e+00,\n",
        "         6.71266169e+00,   7.62115996e+00,   8.65261529e+00,\n",
        "         9.82366880e+00,   1.11532138e+01,   1.26627008e+01,\n",
        "         1.43764833e+01,   1.63222108e+01,   1.85312749e+01,\n",
        "         2.10393160e+01,   2.38867978e+01,   2.71196606e+01,\n",
        "         3.07900623e+01,   3.49572198e+01,   3.96883645e+01,\n",
        "         4.50598270e+01,   5.11582685e+01,   5.80820792e+01,\n",
        "         6.59429652e+01,   7.48677513e+01,   8.50004268e+01,\n",
        "         9.65044686e+01,   1.09565479e+02,   1.24394179e+02,\n",
        "         1.41229810e+02,   1.60343992e+02,   1.82045107e+02,\n",
        "         2.06683272e+02,   2.34655990e+02,   2.66414564e+02,\n",
        "         3.02471374e+02,   3.43408149e+02,   3.89885348e+02,\n",
        "         4.42652816e+02,   5.02561886e+02,   5.70579109e+02,\n",
        "         6.47801850e+02,   7.35475993e+02,   8.35016041e+02,\n",
        "         9.48027937e+02,   1.07633498e+03,   1.22200722e+03,\n",
        "         1.38739488e+03,   1.57516628e+03,   1.78835084e+03,\n",
        "         2.03038801e+03,   2.30518273e+03,   2.61716844e+03,\n",
        "         2.97137860e+03,   3.37352792e+03,   3.83010453e+03,\n",
        "         4.34847466e+03,   4.93700152e+03,   5.60518019e+03,\n",
        "         6.36379082e+03,   7.22507256e+03,   8.20292102e+03,\n",
        "         9.31311247e+03,   1.05735583e+04,   1.20045942e+04,\n",
        "         1.36293078e+04,   1.54739118e+04,   1.75681663e+04,\n",
        "         1.99458593e+04,   2.26453516e+04,   2.57101959e+04,\n",
        "         2.91898393e+04,   3.31404210e+04,   3.76256783e+04,\n",
        "         4.27179748e+04,   4.84994678e+04,   5.50634337e+04,\n",
        "         6.25157733e+04,   7.09767198e+04,   8.05827793e+04,\n",
        "         9.14889323e+04,   1.03871135e+05,   1.17929157e+05,\n",
        "         1.33889806e+05,   1.52010584e+05,   1.72583847e+05,\n",
        "         1.95941516e+05,   2.22460434e+05,   2.52568449e+05,\n",
        "         2.86751313e+05])"
       ]
      }
     ],
     "prompt_number": 61
    },
    {
     "cell_type": "code",
     "collapsed": false,
     "input": [
      "vz.disable()\n",
      "vz.set_block_size(30)"
     ],
     "language": "python",
     "metadata": {},
     "outputs": [],
     "prompt_number": 62
    },
    {
     "cell_type": "code",
     "collapsed": false,
     "input": [
      "plt.plot(t, np.exp(-0.1*t)*np.sin(t))"
     ],
     "language": "python",
     "metadata": {},
     "outputs": [
      {
       "metadata": {},
       "output_type": "pyout",
       "prompt_number": 63,
       "text": [
        "[<matplotlib.lines.Line2D at 0x105187150>]"
       ]
      },
      {
       "metadata": {},
       "output_type": "display_data",
       "png": "[encoded data removed]",
       "text": [
        "<matplotlib.figure.Figure at 0x107dff610>"
       ]
      }
     ],
     "prompt_number": 63
    },
    {
     "cell_type": "markdown",
     "metadata": {},
     "source": [
      "## Basic data processing"
     ]
    },
    {
     "cell_type": "code",
     "collapsed": false,
     "input": [
      "ages = np.array([23,56,67,89,23,56,27,12,8,72])\n",
      "genders = np.array(['m','m','f','f','m','f','m','m','m','f'])"
     ],
     "language": "python",
     "metadata": {},
     "outputs": [],
     "prompt_number": 64
    },
    {
     "cell_type": "markdown",
     "metadata": {},
     "source": [
      "Numpy has a basic set of methods and function for computing basic quantities about data."
     ]
    },
    {
     "cell_type": "code",
     "collapsed": false,
     "input": [
      "ages.min(), ages.max()"
     ],
     "language": "python",
     "metadata": {},
     "outputs": [
      {
       "metadata": {},
       "output_type": "pyout",
       "prompt_number": 65,
       "text": [
        "(8, 89)"
       ]
      }
     ],
     "prompt_number": 65
    },
    {
     "cell_type": "code",
     "collapsed": false,
     "input": [
      "ages.mean()"
     ],
     "language": "python",
     "metadata": {},
     "outputs": [
      {
       "metadata": {},
       "output_type": "pyout",
       "prompt_number": 66,
       "text": [
        "43.299999999999997"
       ]
      }
     ],
     "prompt_number": 66
    },
    {
     "cell_type": "code",
     "collapsed": false,
     "input": [
      "ages.var(), ages.std()"
     ],
     "language": "python",
     "metadata": {},
     "outputs": [
      {
       "metadata": {},
       "output_type": "pyout",
       "prompt_number": 67,
       "text": [
        "(711.21000000000004, 26.668520768876554)"
       ]
      }
     ],
     "prompt_number": 67
    },
    {
     "cell_type": "code",
     "collapsed": false,
     "input": [
      "np.bincount(ages)"
     ],
     "language": "python",
     "metadata": {},
     "outputs": [
      {
       "metadata": {},
       "output_type": "pyout",
       "prompt_number": 68,
       "text": [
        "array([0, 0, 0, 0, 0, 0, 0, 0, 1, 0, 0, 0, 1, 0, 0, 0, 0, 0, 0, 0, 0, 0, 0,\n",
        "       2, 0, 0, 0, 1, 0, 0, 0, 0, 0, 0, 0, 0, 0, 0, 0, 0, 0, 0, 0, 0, 0, 0,\n",
        "       0, 0, 0, 0, 0, 0, 0, 0, 0, 0, 2, 0, 0, 0, 0, 0, 0, 0, 0, 0, 0, 1, 0,\n",
        "       0, 0, 0, 1, 0, 0, 0, 0, 0, 0, 0, 0, 0, 0, 0, 0, 0, 0, 0, 0, 1])"
       ]
      }
     ],
     "prompt_number": 68
    },
    {
     "cell_type": "markdown",
     "metadata": {},
     "source": [
      "The `cumsum` and `cumprod` methods compute cumulative sums and products:"
     ]
    },
    {
     "cell_type": "code",
     "collapsed": false,
     "input": [
      "ages.cumsum()"
     ],
     "language": "python",
     "metadata": {},
     "outputs": [
      {
       "metadata": {},
       "output_type": "pyout",
       "prompt_number": 69,
       "text": [
        "array([ 23,  79, 146, 235, 258, 314, 341, 353, 361, 433])"
       ]
      }
     ],
     "prompt_number": 69
    },
    {
     "cell_type": "code",
     "collapsed": false,
     "input": [
      "ages.cumprod()"
     ],
     "language": "python",
     "metadata": {},
     "outputs": [
      {
       "metadata": {},
       "output_type": "pyout",
       "prompt_number": 70,
       "text": [
        "array([              23,             1288,            86296,\n",
        "                7680344,        176647912,       9892283072,\n",
        "           267091642944,    3205099715328,   25640797722624,\n",
        "       1846137436028928])"
       ]
      }
     ],
     "prompt_number": 70
    },
    {
     "cell_type": "markdown",
     "metadata": {},
     "source": [
      "Most of the functions and methods above take an `axis` argument that will apply the action along a particular axis:"
     ]
    },
    {
     "cell_type": "code",
     "collapsed": false,
     "input": [
      "a = np.random.randint(0,10,(3,4))\n",
      "a"
     ],
     "language": "python",
     "metadata": {},
     "outputs": [
      {
       "metadata": {},
       "output_type": "pyout",
       "prompt_number": 71,
       "text": [
        "array([[5, 1, 8, 3],\n",
        "       [9, 5, 1, 3],\n",
        "       [7, 7, 9, 9]])"
       ]
      }
     ],
     "prompt_number": 71
    },
    {
     "cell_type": "markdown",
     "metadata": {},
     "source": [
      "With `axis=0` the action takes place along rows:"
     ]
    },
    {
     "cell_type": "code",
     "collapsed": false,
     "input": [
      "a.sum(axis=0)"
     ],
     "language": "python",
     "metadata": {},
     "outputs": [
      {
       "metadata": {},
       "output_type": "pyout",
       "prompt_number": 72,
       "text": [
        "array([21, 13, 18, 15])"
       ]
      }
     ],
     "prompt_number": 72
    },
    {
     "cell_type": "markdown",
     "metadata": {},
     "source": [
      "With `axis=1` the action takes place along columns:"
     ]
    },
    {
     "cell_type": "code",
     "collapsed": false,
     "input": [
      "a.sum(axis=1)"
     ],
     "language": "python",
     "metadata": {},
     "outputs": [
      {
       "metadata": {},
       "output_type": "pyout",
       "prompt_number": 73,
       "text": [
        "array([17, 18, 32])"
       ]
      }
     ],
     "prompt_number": 73
    },
    {
     "cell_type": "markdown",
     "metadata": {},
     "source": [
      "The `unique` function is extremely useful in working with categorical data:"
     ]
    },
    {
     "cell_type": "code",
     "collapsed": false,
     "input": [
      "np.unique(genders)"
     ],
     "language": "python",
     "metadata": {},
     "outputs": [
      {
       "metadata": {},
       "output_type": "pyout",
       "prompt_number": 74,
       "text": [
        "array(['f', 'm'], \n",
        "      dtype='|S1')"
       ]
      }
     ],
     "prompt_number": 74
    },
    {
     "cell_type": "code",
     "collapsed": false,
     "input": [
      "np.unique(genders, return_counts=True)"
     ],
     "language": "python",
     "metadata": {},
     "outputs": [
      {
       "metadata": {},
       "output_type": "pyout",
       "prompt_number": 75,
       "text": [
        "(array(['f', 'm'], \n",
        "       dtype='|S1'), array([4, 6]))"
       ]
      }
     ],
     "prompt_number": 75
    },
    {
     "cell_type": "markdown",
     "metadata": {},
     "source": [
      "The where function allows you to apply conditional logic to arrays. Here is a rough sketch of how it works:\n",
      "\n",
      "```python\n",
      "def where(condition, if_false, if_true):\n",
      "```"
     ]
    },
    {
     "cell_type": "code",
     "collapsed": false,
     "input": [
      "np.where(ages>30, 0, 1)"
     ],
     "language": "python",
     "metadata": {},
     "outputs": [
      {
       "metadata": {},
       "output_type": "pyout",
       "prompt_number": 76,
       "text": [
        "array([1, 0, 0, 0, 1, 0, 1, 1, 1, 0])"
       ]
      }
     ],
     "prompt_number": 76
    },
    {
     "cell_type": "markdown",
     "metadata": {},
     "source": [
      "The `if_false` and `if_true` values can be arrays themselves:"
     ]
    },
    {
     "cell_type": "code",
     "collapsed": false,
     "input": [
      "np.where(ages<30, 0, ages)"
     ],
     "language": "python",
     "metadata": {},
     "outputs": [
      {
       "metadata": {},
       "output_type": "pyout",
       "prompt_number": 77,
       "text": [
        "array([ 0, 56, 67, 89,  0, 56,  0,  0,  0, 72])"
       ]
      }
     ],
     "prompt_number": 77
    },
    {
     "cell_type": "markdown",
     "metadata": {},
     "source": [
      "## File IO"
     ]
    },
    {
     "cell_type": "markdown",
     "metadata": {},
     "source": [
      "NumPy has a a number of different function to reading and writing arrays to and from disk."
     ]
    },
    {
     "cell_type": "markdown",
     "metadata": {},
     "source": [
      "### Single array, binary format"
     ]
    },
    {
     "cell_type": "code",
     "collapsed": false,
     "input": [
      "a = np.random.rand(10)\n",
      "a"
     ],
     "language": "python",
     "metadata": {},
     "outputs": [
      {
       "metadata": {},
       "output_type": "pyout",
       "prompt_number": 78,
       "text": [
        "array([ 0.91267205,  0.61166094,  0.79965337,  0.17049513,  0.47530885,\n",
        "        0.49000934,  0.77588517,  0.71381787,  0.36675083,  0.40157028])"
       ]
      }
     ],
     "prompt_number": 78
    },
    {
     "cell_type": "code",
     "collapsed": false,
     "input": [
      "np.save('array1', a)"
     ],
     "language": "python",
     "metadata": {},
     "outputs": [],
     "prompt_number": 79
    },
    {
     "cell_type": "code",
     "collapsed": false,
     "input": [
      "ls"
     ],
     "language": "python",
     "metadata": {},
     "outputs": [
      {
       "output_type": "stream",
       "stream": "stdout",
       "text": [
        "Numpy Exercises.ipynb  array1.npy             vizarray.py\r\n",
        "Numpy.ipynb            temps.txt              vizarray.pyc\r\n"
       ]
      }
     ],
     "prompt_number": 80
    },
    {
     "cell_type": "markdown",
     "metadata": {},
     "source": [
      "Using `%pycat` to look at the file shows that it is binary:"
     ]
    },
    {
     "cell_type": "code",
     "collapsed": false,
     "input": [
      "%pycat array1.npy"
     ],
     "language": "python",
     "metadata": {},
     "outputs": [
      {
       "output_type": "stream",
       "stream": "stdout",
       "text": [
        "\u001b[0;31m\u0093\u001b[0m\u001b[0mNUMPY\u001b[0m\u001b[0;31m\u0001\u001b[0m\u001b[0;31m\u0000\u001b[0m\u001b[0mF\u001b[0m\u001b[0;31m\u0000\u001b[0m\u001b[0;34m{\u001b[0m\u001b[0;34m'descr'\u001b[0m\u001b[0;34m:\u001b[0m \u001b[0;34m'<f8'\u001b[0m\u001b[0;34m,\u001b[0m \u001b[0;34m'fortran_order'\u001b[0m\u001b[0;34m:\u001b[0m \u001b[0mFalse\u001b[0m\u001b[0;34m,\u001b[0m \u001b[0;34m'shape'\u001b[0m\u001b[0;34m:\u001b[0m \u001b[0;34m(\u001b[0m\u001b[0;36m10\u001b[0m\u001b[0;34m,\u001b[0m\u001b[0;34m)\u001b[0m\u001b[0;34m,\u001b[0m \u001b[0;34m}\u001b[0m           \u001b[0;34m\u001b[0m\n",
        "\u001b[0;34m\u001b[0m\u001b[0;34m\u001b[0m\n",
        "\u001b[0;34m\u001b[0m\u001b[0;34m\u001b[0m\n",
        "\u001b[0;34m\u001b[0m\u001b[0;34m>\u001b[0m\u001b[0;31m\u0002\u001b[0m\u001b[0;31m\u009c\u001b[0m\u001b[0;36m4\u001b[0m\u001b[0;31m\u00ed\u001b[0m\u001b[0;31m?\u001b[0m\u001b[0;31m\u00dc\u001b[0m\u001b[0;34m(\u001b[0m\u001b[0;31m\u00e7\u001b[0m\u001b[0;31m\u00f8\u001b[0m\u001b[0;31m\u00b9\u001b[0m\u001b[0;31m\u0092\u001b[0m\u001b[0;31m\u00e3\u001b[0m\u001b[0;31m?\u001b[0m\u001b[0;31m\u00da\u001b[0m\u001b[0mmE\u001b[0m\u001b[0;31m\u00a8\u001b[0m\u001b[0;31m\u00c2\u001b[0m\u001b[0;31m\u0096\u001b[0m\u001b[0;31m\u00e9\u001b[0m\u001b[0;31m?\u001b[0m\u001b[0;36m8\u001b[0m\u001b[0;31m\u00ca\u001b[0m\u001b[0;31m\u0016\u001b[0m\u001b[0;31m\u00cb\u001b[0m\u001b[0;31m\u00c8\u001b[0m\u001b[0;31m\u00d2\u001b[0m\u001b[0;31m\u00c5\u001b[0m\u001b[0;31m?\u001b[0m\u001b[0;36m8\u001b[0m\u001b[0;31m\u00fd\u001b[0m\u001b[0;31m\u00e2\u001b[0m\u001b[0;31m\u00cf\u001b[0m\u001b[0muk\u001b[0m\u001b[0;31m\u00de\u001b[0m\u001b[0;31m?\u001b[0m\u001b[0;31m\u00f8\u001b[0m\u001b[0;31m\u00f7\u001b[0m\u001b[0;31m$\u001b[0m\u001b[0;34m%\u001b[0m\u001b[0mP\u001b[0m\u001b[0;31m\\\u001b[0m\u001b[0;31m\u00df\u001b[0m\u001b[0;31m?\u001b[0m\u001b[0mA\u001b[0m\u001b[0;31m\u008b\u001b[0m\u001b[0;31m\u00a7\u001b[0m\u001b[0;31m\"\u001b[0m\u001b[0;34m\u001b[0m\n",
        "\u001b[0;34m\u001b[0m\u001b[0;31m\u00d4\u001b[0m\u001b[0;31m\u00e8\u001b[0m\u001b[0;31m?\u001b[0m\u001b[0mc6\u001b[0m\u001b[0;31m\u00b6\u001b[0m\u001b[0;31m\u0091\u001b[0m\u001b[0;31m\u0098\u001b[0m\u001b[0;31m\u00d7\u001b[0m\u001b[0;31m\u00e6\u001b[0m\u001b[0;31m?\u001b[0m\u001b[0;34m&\u001b[0m\u001b[0;31m\u00c5\u001b[0m\u001b[0mLv\u001b[0m\u001b[0;31m\u00d8\u001b[0m\u001b[0mx\u001b[0m\u001b[0;31m\u00d7\u001b[0m\u001b[0;31m?\u001b[0m\u001b[0mJ\u001b[0m\u001b[0;31m\u009a\u001b[0m\u001b[0;31m\u00d4\u001b[0m\u001b[0;31m\u00d0\u001b[0m\u001b[0mS\u001b[0m\u001b[0;31m\u00b3\u001b[0m\u001b[0;31m\u00d9\u001b[0m\u001b[0;31m?\u001b[0m\u001b[0;31m\n",
        "\n",
        "*** ERROR: EOF in multi-line statement\u001b[0m\n",
        "\u001b[0m\n",
        "\n"
       ]
      }
     ],
     "prompt_number": 81
    },
    {
     "cell_type": "code",
     "collapsed": false,
     "input": [
      "a_copy = np.load('array1.npy')"
     ],
     "language": "python",
     "metadata": {},
     "outputs": [],
     "prompt_number": 82
    },
    {
     "cell_type": "code",
     "collapsed": false,
     "input": [
      "a_copy"
     ],
     "language": "python",
     "metadata": {},
     "outputs": [
      {
       "metadata": {},
       "output_type": "pyout",
       "prompt_number": 83,
       "text": [
        "array([ 0.91267205,  0.61166094,  0.79965337,  0.17049513,  0.47530885,\n",
        "        0.49000934,  0.77588517,  0.71381787,  0.36675083,  0.40157028])"
       ]
      }
     ],
     "prompt_number": 83
    },
    {
     "cell_type": "markdown",
     "metadata": {},
     "source": [
      "### Single array, text format"
     ]
    },
    {
     "cell_type": "code",
     "collapsed": false,
     "input": [
      "b = np.random.randint(0,10,(5,3))\n",
      "b"
     ],
     "language": "python",
     "metadata": {},
     "outputs": [
      {
       "metadata": {},
       "output_type": "pyout",
       "prompt_number": 84,
       "text": [
        "array([[2, 0, 2],\n",
        "       [6, 8, 9],\n",
        "       [5, 4, 6],\n",
        "       [0, 6, 6],\n",
        "       [2, 3, 6]])"
       ]
      }
     ],
     "prompt_number": 84
    },
    {
     "cell_type": "code",
     "collapsed": false,
     "input": [
      "np.savetxt('array2.txt', b)"
     ],
     "language": "python",
     "metadata": {},
     "outputs": [],
     "prompt_number": 85
    },
    {
     "cell_type": "code",
     "collapsed": false,
     "input": [
      "ls"
     ],
     "language": "python",
     "metadata": {},
     "outputs": [
      {
       "output_type": "stream",
       "stream": "stdout",
       "text": [
        "Numpy Exercises.ipynb  array1.npy             temps.txt              vizarray.pyc\r\n",
        "Numpy.ipynb            array2.txt             vizarray.py\r\n"
       ]
      }
     ],
     "prompt_number": 86
    },
    {
     "cell_type": "markdown",
     "metadata": {},
     "source": [
      "Using `%pycat` to look at the contents shows that the files is indeed a plain text file:"
     ]
    },
    {
     "cell_type": "code",
     "collapsed": false,
     "input": [
      "%pycat array2.txt"
     ],
     "language": "python",
     "metadata": {},
     "outputs": [
      {
       "output_type": "stream",
       "stream": "stdout",
       "text": [
        "\u001b[0;36m2.000000000000000000e+00\u001b[0m \u001b[0;36m0.000000000000000000e+00\u001b[0m \u001b[0;36m2.000000000000000000e+00\u001b[0m\u001b[0;34m\u001b[0m\n",
        "\u001b[0;34m\u001b[0m\u001b[0;36m6.000000000000000000e+00\u001b[0m \u001b[0;36m8.000000000000000000e+00\u001b[0m \u001b[0;36m9.000000000000000000e+00\u001b[0m\u001b[0;34m\u001b[0m\n",
        "\u001b[0;34m\u001b[0m\u001b[0;36m5.000000000000000000e+00\u001b[0m \u001b[0;36m4.000000000000000000e+00\u001b[0m \u001b[0;36m6.000000000000000000e+00\u001b[0m\u001b[0;34m\u001b[0m\n",
        "\u001b[0;34m\u001b[0m\u001b[0;36m0.000000000000000000e+00\u001b[0m \u001b[0;36m6.000000000000000000e+00\u001b[0m \u001b[0;36m6.000000000000000000e+00\u001b[0m\u001b[0;34m\u001b[0m\n",
        "\u001b[0;34m\u001b[0m\u001b[0;36m2.000000000000000000e+00\u001b[0m \u001b[0;36m3.000000000000000000e+00\u001b[0m \u001b[0;36m6.000000000000000000e+00\u001b[0m\u001b[0;34m\u001b[0m\u001b[0m\n",
        "\n"
       ]
      }
     ],
     "prompt_number": 87
    },
    {
     "cell_type": "code",
     "collapsed": false,
     "input": [
      "np.loadtxt('array2.txt')"
     ],
     "language": "python",
     "metadata": {},
     "outputs": [
      {
       "metadata": {},
       "output_type": "pyout",
       "prompt_number": 88,
       "text": [
        "array([[ 2.,  0.,  2.],\n",
        "       [ 6.,  8.,  9.],\n",
        "       [ 5.,  4.,  6.],\n",
        "       [ 0.,  6.,  6.],\n",
        "       [ 2.,  3.,  6.]])"
       ]
      }
     ],
     "prompt_number": 88
    },
    {
     "cell_type": "markdown",
     "metadata": {},
     "source": [
      "### Multiple arrays, binary format"
     ]
    },
    {
     "cell_type": "code",
     "collapsed": false,
     "input": [
      "np.savez('arrays.npz', a=a, b=b)"
     ],
     "language": "python",
     "metadata": {},
     "outputs": [],
     "prompt_number": 89
    },
    {
     "cell_type": "code",
     "collapsed": false,
     "input": [
      "a_and_b = np.load('arrays.npz')"
     ],
     "language": "python",
     "metadata": {},
     "outputs": [],
     "prompt_number": 90
    },
    {
     "cell_type": "code",
     "collapsed": false,
     "input": [
      "a_and_b['a']"
     ],
     "language": "python",
     "metadata": {},
     "outputs": [
      {
       "metadata": {},
       "output_type": "pyout",
       "prompt_number": 91,
       "text": [
        "array([ 0.91267205,  0.61166094,  0.79965337,  0.17049513,  0.47530885,\n",
        "        0.49000934,  0.77588517,  0.71381787,  0.36675083,  0.40157028])"
       ]
      }
     ],
     "prompt_number": 91
    },
    {
     "cell_type": "code",
     "collapsed": false,
     "input": [
      "a_and_b['b']"
     ],
     "language": "python",
     "metadata": {},
     "outputs": [
      {
       "metadata": {},
       "output_type": "pyout",
       "prompt_number": 92,
       "text": [
        "array([[2, 0, 2],\n",
        "       [6, 8, 9],\n",
        "       [5, 4, 6],\n",
        "       [0, 6, 6],\n",
        "       [2, 3, 6]])"
       ]
      }
     ],
     "prompt_number": 92
    },
    {
     "cell_type": "markdown",
     "metadata": {},
     "source": [
      "## Linear algebra"
     ]
    },
    {
     "cell_type": "markdown",
     "metadata": {},
     "source": [
      "NumPy has excellent linear algebra capabilities."
     ]
    },
    {
     "cell_type": "code",
     "collapsed": false,
     "input": [
      "a = np.random.rand(5,5)\n",
      "b = np.random.rand(5,5)"
     ],
     "language": "python",
     "metadata": {},
     "outputs": [],
     "prompt_number": 93
    },
    {
     "cell_type": "markdown",
     "metadata": {},
     "source": [
      "Remember that array operations are elementwise. Thus, this is **not** matrix multiplication:"
     ]
    },
    {
     "cell_type": "code",
     "collapsed": false,
     "input": [
      "a*b"
     ],
     "language": "python",
     "metadata": {},
     "outputs": [
      {
       "metadata": {},
       "output_type": "pyout",
       "prompt_number": 94,
       "text": [
        "array([[ 0.00204705,  0.54096634,  0.47259787,  0.05412818,  0.19671501],\n",
        "       [ 0.66129874,  0.13312196,  0.44184267,  0.12562755,  0.07581084],\n",
        "       [ 0.03015261,  0.00721693,  0.49412109,  0.18472905,  0.10839132],\n",
        "       [ 0.05813496,  0.89043886,  0.01727079,  0.13753354,  0.01119625],\n",
        "       [ 0.17572881,  0.02565493,  0.7244605 ,  0.25694105,  0.24387372]])"
       ]
      }
     ],
     "prompt_number": 94
    },
    {
     "cell_type": "markdown",
     "metadata": {},
     "source": [
      "To get matrix multiplication use `np.dot`:"
     ]
    },
    {
     "cell_type": "code",
     "collapsed": false,
     "input": [
      "np.dot(a, b)"
     ],
     "language": "python",
     "metadata": {},
     "outputs": [
      {
       "metadata": {},
       "output_type": "pyout",
       "prompt_number": 95,
       "text": [
        "array([[ 0.80521201,  1.22847687,  1.59594972,  0.65024802,  0.84586594],\n",
        "       [ 0.35977754,  1.68214909,  1.47852159,  0.58675961,  0.67976828],\n",
        "       [ 0.5111124 ,  1.34764816,  1.39081146,  0.60400515,  0.7157343 ],\n",
        "       [ 1.12466104,  1.98517212,  1.32702902,  0.51282008,  1.0631991 ],\n",
        "       [ 0.35522803,  1.42543228,  1.88529867,  0.73195573,  0.87746894]])"
       ]
      }
     ],
     "prompt_number": 95
    },
    {
     "cell_type": "markdown",
     "metadata": {},
     "source": [
      "Or, NumPy as a `matrix` subclass for which matrix operations are the default:"
     ]
    },
    {
     "cell_type": "code",
     "collapsed": false,
     "input": [
      "m1 = np.matrix(a)\n",
      "m2 = np.matrix(b)"
     ],
     "language": "python",
     "metadata": {},
     "outputs": [],
     "prompt_number": 96
    },
    {
     "cell_type": "code",
     "collapsed": false,
     "input": [
      "m1*m2"
     ],
     "language": "python",
     "metadata": {},
     "outputs": [
      {
       "metadata": {},
       "output_type": "pyout",
       "prompt_number": 97,
       "text": [
        "matrix([[ 0.80521201,  1.22847687,  1.59594972,  0.65024802,  0.84586594],\n",
        "        [ 0.35977754,  1.68214909,  1.47852159,  0.58675961,  0.67976828],\n",
        "        [ 0.5111124 ,  1.34764816,  1.39081146,  0.60400515,  0.7157343 ],\n",
        "        [ 1.12466104,  1.98517212,  1.32702902,  0.51282008,  1.0631991 ],\n",
        "        [ 0.35522803,  1.42543228,  1.88529867,  0.73195573,  0.87746894]])"
       ]
      }
     ],
     "prompt_number": 97
    },
    {
     "cell_type": "markdown",
     "metadata": {},
     "source": [
      "The `np.linalg` package has a wide range of fast linear algebra operations.\n",
      "\n",
      "Here is determinant:"
     ]
    },
    {
     "cell_type": "code",
     "collapsed": false,
     "input": [
      "np.linalg.det(a)"
     ],
     "language": "python",
     "metadata": {},
     "outputs": [
      {
       "metadata": {},
       "output_type": "pyout",
       "prompt_number": 98,
       "text": [
        "-0.10718636089982998"
       ]
      }
     ],
     "prompt_number": 98
    },
    {
     "cell_type": "markdown",
     "metadata": {},
     "source": [
      "Matrix inverse:"
     ]
    },
    {
     "cell_type": "code",
     "collapsed": false,
     "input": [
      "np.linalg.inv(a)"
     ],
     "language": "python",
     "metadata": {},
     "outputs": [
      {
       "metadata": {},
       "output_type": "pyout",
       "prompt_number": 99,
       "text": [
        "array([[-0.78993064,  0.3031534 , -1.68709991,  0.7971441 ,  1.43548423],\n",
        "       [ 0.8580796 , -0.05252972, -1.6586023 ,  0.98068693,  0.13396849],\n",
        "       [ 1.54890704,  0.66091847, -2.20046493, -0.44462467,  0.60168609],\n",
        "       [-0.81596389,  0.45517992,  2.84968253, -0.2779306 , -1.51073162],\n",
        "       [-0.47209591, -1.68088455,  3.22377699, -0.4388912 ,  0.13065681]])"
       ]
      }
     ],
     "prompt_number": 99
    },
    {
     "cell_type": "markdown",
     "metadata": {},
     "source": [
      "Eigenvalues:"
     ]
    },
    {
     "cell_type": "code",
     "collapsed": false,
     "input": [
      "np.linalg.eigvals(a)"
     ],
     "language": "python",
     "metadata": {},
     "outputs": [
      {
       "metadata": {},
       "output_type": "pyout",
       "prompt_number": 100,
       "text": [
        "array([ 2.57901192+0.j        , -0.74790223+0.j        ,\n",
        "       -0.18571386+0.24459447j, -0.18571386-0.24459447j,  0.58919024+0.j        ])"
       ]
      }
     ],
     "prompt_number": 100
    },
    {
     "cell_type": "markdown",
     "metadata": {},
     "source": [
      "NumPy can be built against fast BLAS/LAPACK implementation for these linear algebra operations."
     ]
    },
    {
     "cell_type": "code",
     "collapsed": false,
     "input": [
      "c = np.random.rand(2000,2000)"
     ],
     "language": "python",
     "metadata": {},
     "outputs": [],
     "prompt_number": 101
    },
    {
     "cell_type": "code",
     "collapsed": false,
     "input": [
      "%timeit -n1 -r1 evs = np.linalg.eigvals(c)"
     ],
     "language": "python",
     "metadata": {},
     "outputs": [
      {
       "output_type": "stream",
       "stream": "stdout",
       "text": [
        "1 loops, best of 1: 5.17 s per loop\n"
       ]
      }
     ],
     "prompt_number": 102
    },
    {
     "cell_type": "markdown",
     "metadata": {},
     "source": [
      "## Random numbers"
     ]
    },
    {
     "cell_type": "markdown",
     "metadata": {},
     "source": [
      "NumPy has functions for creating arrays of random numbers from different distributions in `np.random`, as well as handling things like permutation and shuffling.\n",
      "\n",
      "Here is the [numpy.random documentation](http://docs.scipy.org/doc/numpy/reference/routines.random.html)."
     ]
    },
    {
     "cell_type": "code",
     "collapsed": false,
     "input": [
      "plt.hist(np.random.random(250))\n",
      "plt.title('Uniform Random Distribution $[0,1]$')\n",
      "plt.xlabel('value')\n",
      "plt.ylabel('count')"
     ],
     "language": "python",
     "metadata": {},
     "outputs": [
      {
       "metadata": {},
       "output_type": "pyout",
       "prompt_number": 103,
       "text": [
        "<matplotlib.text.Text at 0x10882d110>"
       ]
      },
      {
       "metadata": {},
       "output_type": "display_data",
       "png": "[encoded data removed]",
       "text": [
        "<matplotlib.figure.Figure at 0x108821450>"
       ]
      }
     ],
     "prompt_number": 103
    },
    {
     "cell_type": "code",
     "collapsed": false,
     "input": [
      "plt.hist(np.random.randn(250))\n",
      "plt.title('Standard Normal Distribution')\n",
      "plt.xlabel('value')\n",
      "plt.ylabel('count')"
     ],
     "language": "python",
     "metadata": {},
     "outputs": [
      {
       "metadata": {},
       "output_type": "pyout",
       "prompt_number": 104,
       "text": [
        "<matplotlib.text.Text at 0x10a82f690>"
       ]
      },
      {
       "metadata": {},
       "output_type": "display_data",
       "png": "[encoded data removed]",
       "text": [
        "<matplotlib.figure.Figure at 0x10a6ee590>"
       ]
      }
     ],
     "prompt_number": 104
    },
    {
     "cell_type": "markdown",
     "metadata": {},
     "source": [
      "The `shuffle` function shuffles an array in place:"
     ]
    },
    {
     "cell_type": "code",
     "collapsed": false,
     "input": [
      "a = np.arange(0,10)\n",
      "np.random.shuffle(a)\n",
      "a"
     ],
     "language": "python",
     "metadata": {},
     "outputs": [
      {
       "metadata": {},
       "output_type": "pyout",
       "prompt_number": 105,
       "text": [
        "array([7, 2, 8, 0, 4, 6, 1, 5, 9, 3])"
       ]
      }
     ],
     "prompt_number": 105
    },
    {
     "cell_type": "markdown",
     "metadata": {},
     "source": [
      "The `permutation` function does the same thing but first makes a copy:"
     ]
    },
    {
     "cell_type": "code",
     "collapsed": false,
     "input": [
      "a = np.arange(0,10)\n",
      "print(np.random.permutation(a))\n",
      "print(a)"
     ],
     "language": "python",
     "metadata": {},
     "outputs": [
      {
       "output_type": "stream",
       "stream": "stdout",
       "text": [
        "[0 6 4 9 5 1 8 3 7 2]\n",
        "[0 1 2 3 4 5 6 7 8 9]\n"
       ]
      }
     ],
     "prompt_number": 106
    },
    {
     "cell_type": "markdown",
     "metadata": {},
     "source": [
      "## Resources"
     ]
    },
    {
     "cell_type": "markdown",
     "metadata": {},
     "source": [
      "* [NumPy Reference Documentation](http://docs.scipy.org/doc/numpy/reference/)\n",
      "* [Python Scientific Lecture Notes](http://scipy-lectures.github.io/index.html), Edited by Valentin Haenel,\n",
      "Emmanuelle Gouillart and Ga\u00ebl Varoquaux.\n",
      "* [Lectures on Scientific Computing with Python](https://github.com/jrjohansson/scientific-python-lectures), J.R. Johansson.\n",
      "* [Introduction to Scientific Computing in Python](http://nbviewer.ipython.org/github/jakevdp/2014_fall_ASTR599/tree/master/), Jake Vanderplas."
     ]
    }
   ],
   "metadata": {}
  }
 ]
}