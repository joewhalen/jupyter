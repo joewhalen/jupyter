{
 "metadata": {
  "kernelspec": {
   "display_name": "Python 2",
   "language": "python",
   "name": "python2"
  },
  "language_info": {
   "codemirror_mode": {
    "name": "ipython",
    "version": 2
   },
   "file_extension": ".py",
   "mimetype": "text/x-python",
   "name": "python",
   "nbconvert_exporter": "python",
   "pygments_lexer": "ipython2",
   "version": "2.7.6"
  },
  "name": "",
  "signature": "sha256:205dbc55f98cb3040ab4ce49ee6ceed1a8b74d71fc636b7f196bd6d477a7d2b1"
 },
 "nbformat": 3,
 "nbformat_minor": 0,
 "worksheets": [
  {
   "cells": [
    {
     "cell_type": "heading",
     "level": 1,
     "metadata": {},
     "source": [
      "Bay Area 2bd Rental Example"
     ]
    },
    {
     "cell_type": "markdown",
     "metadata": {},
     "source": [
      "In this example, rental prices of 2 bedroom apartments in the bay area are used to generate a price heat map overlayed on top of a Google map.  The first step is to load the image's meta data which is stored externally in a json file.  Python's `json` module is used. "
     ]
    },
    {
     "cell_type": "code",
     "collapsed": true,
     "input": [
      "import json\n",
      "with open('./map_info.json', 'r') as f:\n",
      "    map_info = json.loads(f.read())\n",
      "coords = map_info\n",
      "image_size = [coords.pop('width'), coords.pop('height')]"
     ],
     "language": "python",
     "metadata": {},
     "outputs": []
    },
    {
     "cell_type": "heading",
     "level": 2,
     "metadata": {},
     "source": [
      "Parsing data using Pandas"
     ]
    },
    {
     "cell_type": "markdown",
     "metadata": {},
     "source": [
      "Pandas has a built in module for loading `json` files directly.  Here it's used to load the markers data."
     ]
    },
    {
     "cell_type": "code",
     "collapsed": false,
     "input": [
      "import pandas as pd\n",
      "markers = pd.io.json.read_json('./markers.json')"
     ],
     "language": "python",
     "metadata": {},
     "outputs": []
    },
    {
     "cell_type": "code",
     "collapsed": false,
     "input": [
      "markers[:5]"
     ],
     "language": "python",
     "metadata": {},
     "outputs": []
    },
    {
     "cell_type": "markdown",
     "metadata": {},
     "source": [
      "Each marker has details associated with it.  Those details are called a \"listing\".  The same Pandas loading method is used for the listings data."
     ]
    },
    {
     "cell_type": "code",
     "collapsed": false,
     "input": [
      "listings = pd.io.json.read_json('./listings.json')"
     ],
     "language": "python",
     "metadata": {},
     "outputs": []
    },
    {
     "cell_type": "code",
     "collapsed": false,
     "input": [
      "listings[:5]"
     ],
     "language": "python",
     "metadata": {},
     "outputs": []
    },
    {
     "cell_type": "markdown",
     "metadata": {},
     "source": [
      "As separate data frames, the data isn\u2019t as useful to us.  Here the data is merged into one data frame by listing id."
     ]
    },
    {
     "cell_type": "code",
     "collapsed": false,
     "input": [
      "df = markers.merge(listings, 'outer', 'id')\n",
      "df[:5]"
     ],
     "language": "python",
     "metadata": {},
     "outputs": []
    },
    {
     "cell_type": "markdown",
     "metadata": {},
     "source": [
      "Take a quick look at all of the columns to see what data is available."
     ]
    },
    {
     "cell_type": "code",
     "collapsed": false,
     "input": [
      "df.columns.tolist()"
     ],
     "language": "python",
     "metadata": {},
     "outputs": []
    },
    {
     "cell_type": "markdown",
     "metadata": {},
     "source": [
      "Make a smaller frame containing the X and Y coordinates and the price."
     ]
    },
    {
     "cell_type": "code",
     "collapsed": false,
     "input": [
      "bd2_prices = df[['lat_x', 'lng_x', 'price']]\n",
      "bd2_prices[:5]"
     ],
     "language": "python",
     "metadata": {
      "scrolled": true
     },
     "outputs": []
    },
    {
     "cell_type": "heading",
     "level": 2,
     "metadata": {},
     "source": [
      "Importing into numpy"
     ]
    },
    {
     "cell_type": "markdown",
     "metadata": {},
     "source": [
      "When working with numerical data, I tend to use numpy.  Converting from a Pandas data frame to a numpy array is easy."
     ]
    },
    {
     "cell_type": "code",
     "collapsed": false,
     "input": [
      "array = bd2_prices.as_matrix()\n",
      "array"
     ],
     "language": "python",
     "metadata": {},
     "outputs": []
    },
    {
     "cell_type": "markdown",
     "metadata": {},
     "source": [
      "Since the map image size and the longitude and latitude window is known, the longitudes and latitudes can be converted to pixel coordinates, which is necessary for plotting on top of the map image."
     ]
    },
    {
     "cell_type": "code",
     "collapsed": false,
     "input": [
      "long2px = lambda x: (x - coords['westLong']) / (coords['eastLong'] - coords['westLong']) * image_size[0]\n",
      "lat2px = lambda y: (1 - (y - coords['southLat']) / (coords['northLat'] - coords['southLat'])) * image_size[1]\n",
      "array[:, 0] = lat2px(array[:, 0])\n",
      "array[:, 1] = long2px(array[:, 1])\n",
      "array"
     ],
     "language": "python",
     "metadata": {},
     "outputs": []
    },
    {
     "cell_type": "heading",
     "level": 2,
     "metadata": {},
     "source": [
      "Ploting with Matplotlib"
     ]
    },
    {
     "cell_type": "markdown",
     "metadata": {},
     "source": [
      "Import matplotlib and set the necessary config options."
     ]
    },
    {
     "cell_type": "code",
     "collapsed": true,
     "input": [
      "import matplotlib.pyplot as plt\n",
      "%matplotlib inline\n",
      "%config InlineBackend.figure_format = 'retina'"
     ],
     "language": "python",
     "metadata": {},
     "outputs": []
    },
    {
     "cell_type": "markdown",
     "metadata": {},
     "source": [
      "Load the map image a plot it."
     ]
    },
    {
     "cell_type": "code",
     "collapsed": false,
     "input": [
      "cropped_map = plt.imread('./map.png')\n",
      "plt.imshow(cropped_map)"
     ],
     "language": "python",
     "metadata": {},
     "outputs": []
    },
    {
     "cell_type": "markdown",
     "metadata": {},
     "source": [
      "Plot the markers above the map image."
     ]
    },
    {
     "cell_type": "code",
     "collapsed": false,
     "input": [
      "plt.imshow(cropped_map)\n",
      "plt.scatter(array[:, 1], array[:, 0], s=4., c='r', linewidths=0)\n",
      "plt.show()"
     ],
     "language": "python",
     "metadata": {},
     "outputs": []
    },
    {
     "cell_type": "markdown",
     "metadata": {},
     "source": [
      "Use scipy's griddata function to interpolate the scattered markers into a heat map image.  Plot that heat map above the Google map."
     ]
    },
    {
     "cell_type": "code",
     "collapsed": false,
     "input": [
      "import numpy as np\n",
      "from scipy.interpolate import griddata\n",
      "# define grid.\n",
      "xi = np.arange(0,image_size[0])\n",
      "yi = np.arange(0,image_size[1]-1)\n",
      "# grid the data.\n",
      "zi = griddata((array[:, 1], array[:, 0]), \n",
      "              array[:, 2], (xi[None,:], yi[:,None]), \n",
      "              method='linear', fill_value=array[:, 2].min())\n",
      "overlay = plt.imread('./map_overlay.png')\n",
      "zi = np.ma.masked_where(overlay[:,:,2]>0,zi)\n",
      "\n",
      "plt.figure(figsize = (8,8))\n",
      "plt.imshow(cropped_map)\n",
      "plt.imshow(zi, alpha=0.5, cmap='nipy_spectral')\n",
      "plt.colorbar()\n",
      "\n",
      "plt.title('2bd Apartment Monthly Rent')"
     ],
     "language": "python",
     "metadata": {},
     "outputs": []
    }
   ],
   "metadata": {}
  }
 ]
}